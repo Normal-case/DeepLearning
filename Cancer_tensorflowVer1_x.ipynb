{
  "nbformat": 4,
  "nbformat_minor": 0,
  "metadata": {
    "colab": {
      "name": "Cancer_tensorflowVer1_x.ipynb",
      "provenance": [],
      "authorship_tag": "ABX9TyPPqDd0HPcNoUBoS3qE0zlc",
      "include_colab_link": true
    },
    "kernelspec": {
      "name": "python3",
      "display_name": "Python 3"
    }
  },
  "cells": [
    {
      "cell_type": "markdown",
      "metadata": {
        "id": "view-in-github",
        "colab_type": "text"
      },
      "source": [
        "<a href=\"https://colab.research.google.com/github/Normal-case/DeepLearning/blob/master/Cancer_tensorflowVer1_x.ipynb\" target=\"_parent\"><img src=\"https://colab.research.google.com/assets/colab-badge.svg\" alt=\"Open In Colab\"/></a>"
      ]
    },
    {
      "cell_type": "code",
      "metadata": {
        "id": "-zwCxY7WSuRn",
        "colab_type": "code",
        "colab": {
          "base_uri": "https://localhost:8080/",
          "height": 35
        },
        "outputId": "cf579165-9d89-4b5e-cc0f-4f346b45c062"
      },
      "source": [
        "%tensorflow_version 1.x"
      ],
      "execution_count": 1,
      "outputs": [
        {
          "output_type": "stream",
          "text": [
            "TensorFlow 1.x selected.\n"
          ],
          "name": "stdout"
        }
      ]
    },
    {
      "cell_type": "code",
      "metadata": {
        "id": "32r4q-PDT3-a",
        "colab_type": "code",
        "colab": {}
      },
      "source": [
        "from sklearn import datasets\n",
        "from sklearn.model_selection import train_test_split\n",
        "import numpy as np\n",
        "import tensorflow as tf\n",
        "tf.enable_eager_execution() # w와 b가 어떻게 변하는지 보려는 것"
      ],
      "execution_count": 2,
      "outputs": []
    },
    {
      "cell_type": "code",
      "metadata": {
        "id": "WfH55HCjUHwG",
        "colab_type": "code",
        "colab": {
          "base_uri": "https://localhost:8080/",
          "height": 973
        },
        "outputId": "f97d8a23-8c18-4325-86ff-adb3cae481cd"
      },
      "source": [
        "data = datasets.load_breast_cancer()\n",
        "data"
      ],
      "execution_count": 3,
      "outputs": [
        {
          "output_type": "execute_result",
          "data": {
            "text/plain": [
              "{'DESCR': '.. _breast_cancer_dataset:\\n\\nBreast cancer wisconsin (diagnostic) dataset\\n--------------------------------------------\\n\\n**Data Set Characteristics:**\\n\\n    :Number of Instances: 569\\n\\n    :Number of Attributes: 30 numeric, predictive attributes and the class\\n\\n    :Attribute Information:\\n        - radius (mean of distances from center to points on the perimeter)\\n        - texture (standard deviation of gray-scale values)\\n        - perimeter\\n        - area\\n        - smoothness (local variation in radius lengths)\\n        - compactness (perimeter^2 / area - 1.0)\\n        - concavity (severity of concave portions of the contour)\\n        - concave points (number of concave portions of the contour)\\n        - symmetry \\n        - fractal dimension (\"coastline approximation\" - 1)\\n\\n        The mean, standard error, and \"worst\" or largest (mean of the three\\n        largest values) of these features were computed for each image,\\n        resulting in 30 features.  For instance, field 3 is Mean Radius, field\\n        13 is Radius SE, field 23 is Worst Radius.\\n\\n        - class:\\n                - WDBC-Malignant\\n                - WDBC-Benign\\n\\n    :Summary Statistics:\\n\\n    ===================================== ====== ======\\n                                           Min    Max\\n    ===================================== ====== ======\\n    radius (mean):                        6.981  28.11\\n    texture (mean):                       9.71   39.28\\n    perimeter (mean):                     43.79  188.5\\n    area (mean):                          143.5  2501.0\\n    smoothness (mean):                    0.053  0.163\\n    compactness (mean):                   0.019  0.345\\n    concavity (mean):                     0.0    0.427\\n    concave points (mean):                0.0    0.201\\n    symmetry (mean):                      0.106  0.304\\n    fractal dimension (mean):             0.05   0.097\\n    radius (standard error):              0.112  2.873\\n    texture (standard error):             0.36   4.885\\n    perimeter (standard error):           0.757  21.98\\n    area (standard error):                6.802  542.2\\n    smoothness (standard error):          0.002  0.031\\n    compactness (standard error):         0.002  0.135\\n    concavity (standard error):           0.0    0.396\\n    concave points (standard error):      0.0    0.053\\n    symmetry (standard error):            0.008  0.079\\n    fractal dimension (standard error):   0.001  0.03\\n    radius (worst):                       7.93   36.04\\n    texture (worst):                      12.02  49.54\\n    perimeter (worst):                    50.41  251.2\\n    area (worst):                         185.2  4254.0\\n    smoothness (worst):                   0.071  0.223\\n    compactness (worst):                  0.027  1.058\\n    concavity (worst):                    0.0    1.252\\n    concave points (worst):               0.0    0.291\\n    symmetry (worst):                     0.156  0.664\\n    fractal dimension (worst):            0.055  0.208\\n    ===================================== ====== ======\\n\\n    :Missing Attribute Values: None\\n\\n    :Class Distribution: 212 - Malignant, 357 - Benign\\n\\n    :Creator:  Dr. William H. Wolberg, W. Nick Street, Olvi L. Mangasarian\\n\\n    :Donor: Nick Street\\n\\n    :Date: November, 1995\\n\\nThis is a copy of UCI ML Breast Cancer Wisconsin (Diagnostic) datasets.\\nhttps://goo.gl/U2Uwz2\\n\\nFeatures are computed from a digitized image of a fine needle\\naspirate (FNA) of a breast mass.  They describe\\ncharacteristics of the cell nuclei present in the image.\\n\\nSeparating plane described above was obtained using\\nMultisurface Method-Tree (MSM-T) [K. P. Bennett, \"Decision Tree\\nConstruction Via Linear Programming.\" Proceedings of the 4th\\nMidwest Artificial Intelligence and Cognitive Science Society,\\npp. 97-101, 1992], a classification method which uses linear\\nprogramming to construct a decision tree.  Relevant features\\nwere selected using an exhaustive search in the space of 1-4\\nfeatures and 1-3 separating planes.\\n\\nThe actual linear program used to obtain the separating plane\\nin the 3-dimensional space is that described in:\\n[K. P. Bennett and O. L. Mangasarian: \"Robust Linear\\nProgramming Discrimination of Two Linearly Inseparable Sets\",\\nOptimization Methods and Software 1, 1992, 23-34].\\n\\nThis database is also available through the UW CS ftp server:\\n\\nftp ftp.cs.wisc.edu\\ncd math-prog/cpo-dataset/machine-learn/WDBC/\\n\\n.. topic:: References\\n\\n   - W.N. Street, W.H. Wolberg and O.L. Mangasarian. Nuclear feature extraction \\n     for breast tumor diagnosis. IS&T/SPIE 1993 International Symposium on \\n     Electronic Imaging: Science and Technology, volume 1905, pages 861-870,\\n     San Jose, CA, 1993.\\n   - O.L. Mangasarian, W.N. Street and W.H. Wolberg. Breast cancer diagnosis and \\n     prognosis via linear programming. Operations Research, 43(4), pages 570-577, \\n     July-August 1995.\\n   - W.H. Wolberg, W.N. Street, and O.L. Mangasarian. Machine learning techniques\\n     to diagnose breast cancer from fine-needle aspirates. Cancer Letters 77 (1994) \\n     163-171.',\n",
              " 'data': array([[1.799e+01, 1.038e+01, 1.228e+02, ..., 2.654e-01, 4.601e-01,\n",
              "         1.189e-01],\n",
              "        [2.057e+01, 1.777e+01, 1.329e+02, ..., 1.860e-01, 2.750e-01,\n",
              "         8.902e-02],\n",
              "        [1.969e+01, 2.125e+01, 1.300e+02, ..., 2.430e-01, 3.613e-01,\n",
              "         8.758e-02],\n",
              "        ...,\n",
              "        [1.660e+01, 2.808e+01, 1.083e+02, ..., 1.418e-01, 2.218e-01,\n",
              "         7.820e-02],\n",
              "        [2.060e+01, 2.933e+01, 1.401e+02, ..., 2.650e-01, 4.087e-01,\n",
              "         1.240e-01],\n",
              "        [7.760e+00, 2.454e+01, 4.792e+01, ..., 0.000e+00, 2.871e-01,\n",
              "         7.039e-02]]),\n",
              " 'feature_names': array(['mean radius', 'mean texture', 'mean perimeter', 'mean area',\n",
              "        'mean smoothness', 'mean compactness', 'mean concavity',\n",
              "        'mean concave points', 'mean symmetry', 'mean fractal dimension',\n",
              "        'radius error', 'texture error', 'perimeter error', 'area error',\n",
              "        'smoothness error', 'compactness error', 'concavity error',\n",
              "        'concave points error', 'symmetry error',\n",
              "        'fractal dimension error', 'worst radius', 'worst texture',\n",
              "        'worst perimeter', 'worst area', 'worst smoothness',\n",
              "        'worst compactness', 'worst concavity', 'worst concave points',\n",
              "        'worst symmetry', 'worst fractal dimension'], dtype='<U23'),\n",
              " 'filename': '/usr/local/lib/python3.6/dist-packages/sklearn/datasets/data/breast_cancer.csv',\n",
              " 'target': array([0, 0, 0, 0, 0, 0, 0, 0, 0, 0, 0, 0, 0, 0, 0, 0, 0, 0, 0, 1, 1, 1,\n",
              "        0, 0, 0, 0, 0, 0, 0, 0, 0, 0, 0, 0, 0, 0, 0, 1, 0, 0, 0, 0, 0, 0,\n",
              "        0, 0, 1, 0, 1, 1, 1, 1, 1, 0, 0, 1, 0, 0, 1, 1, 1, 1, 0, 1, 0, 0,\n",
              "        1, 1, 1, 1, 0, 1, 0, 0, 1, 0, 1, 0, 0, 1, 1, 1, 0, 0, 1, 0, 0, 0,\n",
              "        1, 1, 1, 0, 1, 1, 0, 0, 1, 1, 1, 0, 0, 1, 1, 1, 1, 0, 1, 1, 0, 1,\n",
              "        1, 1, 1, 1, 1, 1, 1, 0, 0, 0, 1, 0, 0, 1, 1, 1, 0, 0, 1, 0, 1, 0,\n",
              "        0, 1, 0, 0, 1, 1, 0, 1, 1, 0, 1, 1, 1, 1, 0, 1, 1, 1, 1, 1, 1, 1,\n",
              "        1, 1, 0, 1, 1, 1, 1, 0, 0, 1, 0, 1, 1, 0, 0, 1, 1, 0, 0, 1, 1, 1,\n",
              "        1, 0, 1, 1, 0, 0, 0, 1, 0, 1, 0, 1, 1, 1, 0, 1, 1, 0, 0, 1, 0, 0,\n",
              "        0, 0, 1, 0, 0, 0, 1, 0, 1, 0, 1, 1, 0, 1, 0, 0, 0, 0, 1, 1, 0, 0,\n",
              "        1, 1, 1, 0, 1, 1, 1, 1, 1, 0, 0, 1, 1, 0, 1, 1, 0, 0, 1, 0, 1, 1,\n",
              "        1, 1, 0, 1, 1, 1, 1, 1, 0, 1, 0, 0, 0, 0, 0, 0, 0, 0, 0, 0, 0, 0,\n",
              "        0, 0, 1, 1, 1, 1, 1, 1, 0, 1, 0, 1, 1, 0, 1, 1, 0, 1, 0, 0, 1, 1,\n",
              "        1, 1, 1, 1, 1, 1, 1, 1, 1, 1, 1, 0, 1, 1, 0, 1, 0, 1, 1, 1, 1, 1,\n",
              "        1, 1, 1, 1, 1, 1, 1, 1, 1, 0, 1, 1, 1, 0, 1, 0, 1, 1, 1, 1, 0, 0,\n",
              "        0, 1, 1, 1, 1, 0, 1, 0, 1, 0, 1, 1, 1, 0, 1, 1, 1, 1, 1, 1, 1, 0,\n",
              "        0, 0, 1, 1, 1, 1, 1, 1, 1, 1, 1, 1, 1, 0, 0, 1, 0, 0, 0, 1, 0, 0,\n",
              "        1, 1, 1, 1, 1, 0, 1, 1, 1, 1, 1, 0, 1, 1, 1, 0, 1, 1, 0, 0, 1, 1,\n",
              "        1, 1, 1, 1, 0, 1, 1, 1, 1, 1, 1, 1, 0, 1, 1, 1, 1, 1, 0, 1, 1, 0,\n",
              "        1, 1, 1, 1, 1, 1, 1, 1, 1, 1, 1, 1, 0, 1, 0, 0, 1, 0, 1, 1, 1, 1,\n",
              "        1, 0, 1, 1, 0, 1, 0, 1, 1, 0, 1, 0, 1, 1, 1, 1, 1, 1, 1, 1, 0, 0,\n",
              "        1, 1, 1, 1, 1, 1, 0, 1, 1, 1, 1, 1, 1, 1, 1, 1, 1, 0, 1, 1, 1, 1,\n",
              "        1, 1, 1, 0, 1, 0, 1, 1, 0, 1, 1, 1, 1, 1, 0, 0, 1, 0, 1, 0, 1, 1,\n",
              "        1, 1, 1, 0, 1, 1, 0, 1, 0, 1, 0, 0, 1, 1, 1, 0, 1, 1, 1, 1, 1, 1,\n",
              "        1, 1, 1, 1, 1, 0, 1, 0, 0, 1, 1, 1, 1, 1, 1, 1, 1, 1, 1, 1, 1, 1,\n",
              "        1, 1, 1, 1, 1, 1, 1, 1, 1, 1, 1, 1, 0, 0, 0, 0, 0, 0, 1]),\n",
              " 'target_names': array(['malignant', 'benign'], dtype='<U9')}"
            ]
          },
          "metadata": {
            "tags": []
          },
          "execution_count": 3
        }
      ]
    },
    {
      "cell_type": "code",
      "metadata": {
        "id": "Yw0oywMnU2TR",
        "colab_type": "code",
        "colab": {}
      },
      "source": [
        "X = data.data\n",
        "X = np.array(X, dtype = 'float32') # tensorflow는 64까지는 계산을 못하기 때문에 32로 바꿔줘야함\n",
        "y = data.target\n",
        "y = np.array(y, dtype = 'float32')"
      ],
      "execution_count": 4,
      "outputs": []
    },
    {
      "cell_type": "code",
      "metadata": {
        "id": "Pw6wMS6VVO2j",
        "colab_type": "code",
        "colab": {
          "base_uri": "https://localhost:8080/",
          "height": 143
        },
        "outputId": "ac2d259d-b258-4cd1-b4d8-0cb9dc039b6e"
      },
      "source": [
        "np.round(X)"
      ],
      "execution_count": 7,
      "outputs": [
        {
          "output_type": "execute_result",
          "data": {
            "text/plain": [
              "array([[ 18.,  10., 123., ...,   0.,   0.,   0.],\n",
              "       [ 21.,  18., 133., ...,   0.,   0.,   0.],\n",
              "       [ 20.,  21., 130., ...,   0.,   0.,   0.],\n",
              "       ...,\n",
              "       [ 17.,  28., 108., ...,   0.,   0.,   0.],\n",
              "       [ 21.,  29., 140., ...,   0.,   0.,   0.],\n",
              "       [  8.,  25.,  48., ...,   0.,   0.,   0.]], dtype=float32)"
            ]
          },
          "metadata": {
            "tags": []
          },
          "execution_count": 7
        }
      ]
    },
    {
      "cell_type": "code",
      "metadata": {
        "id": "8tLNG_llWFrk",
        "colab_type": "code",
        "colab": {}
      },
      "source": [
        "y = y.reshape(1, -1)"
      ],
      "execution_count": 8,
      "outputs": []
    },
    {
      "cell_type": "code",
      "metadata": {
        "id": "5egk8zNXWGau",
        "colab_type": "code",
        "colab": {
          "base_uri": "https://localhost:8080/",
          "height": 665
        },
        "outputId": "2ec010cd-c19e-45dd-8dad-bef681cd8512"
      },
      "source": [
        "y # 행이 하나고 열이 데이터 수만큼 생김"
      ],
      "execution_count": 9,
      "outputs": [
        {
          "output_type": "execute_result",
          "data": {
            "text/plain": [
              "array([[0., 0., 0., 0., 0., 0., 0., 0., 0., 0., 0., 0., 0., 0., 0., 0.,\n",
              "        0., 0., 0., 1., 1., 1., 0., 0., 0., 0., 0., 0., 0., 0., 0., 0.,\n",
              "        0., 0., 0., 0., 0., 1., 0., 0., 0., 0., 0., 0., 0., 0., 1., 0.,\n",
              "        1., 1., 1., 1., 1., 0., 0., 1., 0., 0., 1., 1., 1., 1., 0., 1.,\n",
              "        0., 0., 1., 1., 1., 1., 0., 1., 0., 0., 1., 0., 1., 0., 0., 1.,\n",
              "        1., 1., 0., 0., 1., 0., 0., 0., 1., 1., 1., 0., 1., 1., 0., 0.,\n",
              "        1., 1., 1., 0., 0., 1., 1., 1., 1., 0., 1., 1., 0., 1., 1., 1.,\n",
              "        1., 1., 1., 1., 1., 0., 0., 0., 1., 0., 0., 1., 1., 1., 0., 0.,\n",
              "        1., 0., 1., 0., 0., 1., 0., 0., 1., 1., 0., 1., 1., 0., 1., 1.,\n",
              "        1., 1., 0., 1., 1., 1., 1., 1., 1., 1., 1., 1., 0., 1., 1., 1.,\n",
              "        1., 0., 0., 1., 0., 1., 1., 0., 0., 1., 1., 0., 0., 1., 1., 1.,\n",
              "        1., 0., 1., 1., 0., 0., 0., 1., 0., 1., 0., 1., 1., 1., 0., 1.,\n",
              "        1., 0., 0., 1., 0., 0., 0., 0., 1., 0., 0., 0., 1., 0., 1., 0.,\n",
              "        1., 1., 0., 1., 0., 0., 0., 0., 1., 1., 0., 0., 1., 1., 1., 0.,\n",
              "        1., 1., 1., 1., 1., 0., 0., 1., 1., 0., 1., 1., 0., 0., 1., 0.,\n",
              "        1., 1., 1., 1., 0., 1., 1., 1., 1., 1., 0., 1., 0., 0., 0., 0.,\n",
              "        0., 0., 0., 0., 0., 0., 0., 0., 0., 0., 1., 1., 1., 1., 1., 1.,\n",
              "        0., 1., 0., 1., 1., 0., 1., 1., 0., 1., 0., 0., 1., 1., 1., 1.,\n",
              "        1., 1., 1., 1., 1., 1., 1., 1., 1., 0., 1., 1., 0., 1., 0., 1.,\n",
              "        1., 1., 1., 1., 1., 1., 1., 1., 1., 1., 1., 1., 1., 0., 1., 1.,\n",
              "        1., 0., 1., 0., 1., 1., 1., 1., 0., 0., 0., 1., 1., 1., 1., 0.,\n",
              "        1., 0., 1., 0., 1., 1., 1., 0., 1., 1., 1., 1., 1., 1., 1., 0.,\n",
              "        0., 0., 1., 1., 1., 1., 1., 1., 1., 1., 1., 1., 1., 0., 0., 1.,\n",
              "        0., 0., 0., 1., 0., 0., 1., 1., 1., 1., 1., 0., 1., 1., 1., 1.,\n",
              "        1., 0., 1., 1., 1., 0., 1., 1., 0., 0., 1., 1., 1., 1., 1., 1.,\n",
              "        0., 1., 1., 1., 1., 1., 1., 1., 0., 1., 1., 1., 1., 1., 0., 1.,\n",
              "        1., 0., 1., 1., 1., 1., 1., 1., 1., 1., 1., 1., 1., 1., 0., 1.,\n",
              "        0., 0., 1., 0., 1., 1., 1., 1., 1., 0., 1., 1., 0., 1., 0., 1.,\n",
              "        1., 0., 1., 0., 1., 1., 1., 1., 1., 1., 1., 1., 0., 0., 1., 1.,\n",
              "        1., 1., 1., 1., 0., 1., 1., 1., 1., 1., 1., 1., 1., 1., 1., 0.,\n",
              "        1., 1., 1., 1., 1., 1., 1., 0., 1., 0., 1., 1., 0., 1., 1., 1.,\n",
              "        1., 1., 0., 0., 1., 0., 1., 0., 1., 1., 1., 1., 1., 0., 1., 1.,\n",
              "        0., 1., 0., 1., 0., 0., 1., 1., 1., 0., 1., 1., 1., 1., 1., 1.,\n",
              "        1., 1., 1., 1., 1., 0., 1., 0., 0., 1., 1., 1., 1., 1., 1., 1.,\n",
              "        1., 1., 1., 1., 1., 1., 1., 1., 1., 1., 1., 1., 1., 1., 1., 1.,\n",
              "        1., 1., 0., 0., 0., 0., 0., 0., 1.]], dtype=float32)"
            ]
          },
          "metadata": {
            "tags": []
          },
          "execution_count": 9
        }
      ]
    },
    {
      "cell_type": "code",
      "metadata": {
        "id": "E8q-1vm4Wpbd",
        "colab_type": "code",
        "colab": {
          "base_uri": "https://localhost:8080/",
          "height": 35
        },
        "outputId": "8a014116-ab37-4ea9-b457-8894340824e6"
      },
      "source": [
        "X.shape"
      ],
      "execution_count": 10,
      "outputs": [
        {
          "output_type": "execute_result",
          "data": {
            "text/plain": [
              "(569, 30)"
            ]
          },
          "metadata": {
            "tags": []
          },
          "execution_count": 10
        }
      ]
    },
    {
      "cell_type": "code",
      "metadata": {
        "id": "EpJ_-agdW9qk",
        "colab_type": "code",
        "colab": {
          "base_uri": "https://localhost:8080/",
          "height": 35
        },
        "outputId": "61fc7d1e-4cfe-49cd-90da-fe8cfd04e4a3"
      },
      "source": [
        "y.shape # 이러면 X와 안맞음"
      ],
      "execution_count": 11,
      "outputs": [
        {
          "output_type": "execute_result",
          "data": {
            "text/plain": [
              "(1, 569)"
            ]
          },
          "metadata": {
            "tags": []
          },
          "execution_count": 11
        }
      ]
    },
    {
      "cell_type": "code",
      "metadata": {
        "id": "y5lYPvvwW-PA",
        "colab_type": "code",
        "colab": {
          "base_uri": "https://localhost:8080/",
          "height": 35
        },
        "outputId": "7584224d-52ca-4867-8bd5-6236d8e4763a"
      },
      "source": [
        "y = y.reshape(-1, 1)\n",
        "y.shape # 이러면 X와 맞음"
      ],
      "execution_count": 13,
      "outputs": [
        {
          "output_type": "execute_result",
          "data": {
            "text/plain": [
              "(569, 1)"
            ]
          },
          "metadata": {
            "tags": []
          },
          "execution_count": 13
        }
      ]
    },
    {
      "cell_type": "code",
      "metadata": {
        "id": "LfZTWlxCXFIY",
        "colab_type": "code",
        "colab": {}
      },
      "source": [
        "from sklearn.model_selection import train_test_split"
      ],
      "execution_count": 14,
      "outputs": []
    },
    {
      "cell_type": "code",
      "metadata": {
        "id": "q25LPKH9YTP9",
        "colab_type": "code",
        "colab": {}
      },
      "source": [
        "X_train, X_test, y_train, y_test = train_test_split(X, y, test_size = 0.2, random_state = 777)"
      ],
      "execution_count": 44,
      "outputs": []
    },
    {
      "cell_type": "code",
      "metadata": {
        "id": "ecLks2WSZXsP",
        "colab_type": "code",
        "colab": {
          "base_uri": "https://localhost:8080/",
          "height": 143
        },
        "outputId": "6975e040-0a16-4b06-ede0-e770e3994478"
      },
      "source": [
        "np.round(X_train)"
      ],
      "execution_count": 24,
      "outputs": [
        {
          "output_type": "execute_result",
          "data": {
            "text/plain": [
              "array([[ 13.,  28.,  86., ...,   0.,   0.,   0.],\n",
              "       [ 20.,  20., 134., ...,   0.,   0.,   0.],\n",
              "       [ 23.,  27., 154., ...,   0.,   0.,   0.],\n",
              "       ...,\n",
              "       [  9.,  16.,  59., ...,   0.,   0.,   0.],\n",
              "       [  9.,  15.,  59., ...,   0.,   0.,   0.],\n",
              "       [ 10.,  19.,  64., ...,   0.,   0.,   0.]], dtype=float32)"
            ]
          },
          "metadata": {
            "tags": []
          },
          "execution_count": 24
        }
      ]
    },
    {
      "cell_type": "code",
      "metadata": {
        "id": "fq5DYZuPZx0I",
        "colab_type": "code",
        "colab": {
          "base_uri": "https://localhost:8080/",
          "height": 35
        },
        "outputId": "11bde7ee-e59f-442b-8974-9d27437b0194"
      },
      "source": [
        "X_train.mean()"
      ],
      "execution_count": 25,
      "outputs": [
        {
          "output_type": "execute_result",
          "data": {
            "text/plain": [
              "62.806488"
            ]
          },
          "metadata": {
            "tags": []
          },
          "execution_count": 25
        }
      ]
    },
    {
      "cell_type": "code",
      "metadata": {
        "id": "u7ht4-GvZ0DO",
        "colab_type": "code",
        "colab": {
          "base_uri": "https://localhost:8080/",
          "height": 35
        },
        "outputId": "35118588-b064-41f5-a4a4-c22436379110"
      },
      "source": [
        "X_train.std()"
      ],
      "execution_count": 26,
      "outputs": [
        {
          "output_type": "execute_result",
          "data": {
            "text/plain": [
              "231.03027"
            ]
          },
          "metadata": {
            "tags": []
          },
          "execution_count": 26
        }
      ]
    },
    {
      "cell_type": "code",
      "metadata": {
        "id": "Uyou42QPZ1RI",
        "colab_type": "code",
        "colab": {
          "base_uri": "https://localhost:8080/",
          "height": 143
        },
        "outputId": "c1341c31-6f3b-4263-9a92-0d46a107bda3"
      },
      "source": [
        "# 데이터의 범위를 맞추기 위해서 평균을 빼고 표준편차로 나눔 (x - u) / std = z\n",
        "# 하지만 이렇게 해버리면 실제 값이 달라짐\n",
        "# 이유는 각 칼럼마다 mean과 std를 따로 계산해야하는데 전체 데이터의 평균과 표준편차로 구해버려서 값이 달라짐\n",
        "np.round((X_train - X_train.mean()) / X_train.std(), 0)"
      ],
      "execution_count": 32,
      "outputs": [
        {
          "output_type": "execute_result",
          "data": {
            "text/plain": [
              "array([[-0., -0.,  0., ..., -0., -0., -0.],\n",
              "       [-0., -0.,  0., ..., -0., -0., -0.],\n",
              "       [-0., -0.,  0., ..., -0., -0., -0.],\n",
              "       ...,\n",
              "       [-0., -0., -0., ..., -0., -0., -0.],\n",
              "       [-0., -0., -0., ..., -0., -0., -0.],\n",
              "       [-0., -0.,  0., ..., -0., -0., -0.]], dtype=float32)"
            ]
          },
          "metadata": {
            "tags": []
          },
          "execution_count": 32
        }
      ]
    },
    {
      "cell_type": "code",
      "metadata": {
        "id": "yAfYaa5ibVKP",
        "colab_type": "code",
        "colab": {
          "base_uri": "https://localhost:8080/",
          "height": 35
        },
        "outputId": "6b8fd734-9863-4712-ee65-e8f01ee296b7"
      },
      "source": [
        "np.round(((X_train - X_train.mean()) / X_train.std()).mean(), 0) # 정규화해서 평균은 0"
      ],
      "execution_count": 36,
      "outputs": [
        {
          "output_type": "execute_result",
          "data": {
            "text/plain": [
              "0.0"
            ]
          },
          "metadata": {
            "tags": []
          },
          "execution_count": 36
        }
      ]
    },
    {
      "cell_type": "code",
      "metadata": {
        "id": "9FR3B4U-bNgq",
        "colab_type": "code",
        "colab": {
          "base_uri": "https://localhost:8080/",
          "height": 35
        },
        "outputId": "590d4648-3a0f-4463-df04-f4029b872eeb"
      },
      "source": [
        "np.round(((X_train - X_train.mean()) / X_train.std()).std(), 0) # 정규화해서 표준편차는 1"
      ],
      "execution_count": 35,
      "outputs": [
        {
          "output_type": "execute_result",
          "data": {
            "text/plain": [
              "1.0"
            ]
          },
          "metadata": {
            "tags": []
          },
          "execution_count": 35
        }
      ]
    },
    {
      "cell_type": "code",
      "metadata": {
        "id": "C8I54-zWiF45",
        "colab_type": "code",
        "colab": {
          "base_uri": "https://localhost:8080/",
          "height": 35
        },
        "outputId": "cda5436f-2910-41a8-a98d-5cbc3df9189f"
      },
      "source": [
        "# 0번째 칸의 평균\n",
        "X_train.T[0].mean()"
      ],
      "execution_count": 45,
      "outputs": [
        {
          "output_type": "execute_result",
          "data": {
            "text/plain": [
              "14.246725"
            ]
          },
          "metadata": {
            "tags": []
          },
          "execution_count": 45
        }
      ]
    },
    {
      "cell_type": "code",
      "metadata": {
        "id": "-x9btTLeiSTZ",
        "colab_type": "code",
        "colab": {
          "base_uri": "https://localhost:8080/",
          "height": 161
        },
        "outputId": "5d17c83c-f2fb-4938-bfc3-a47d9fd77ee2"
      },
      "source": [
        "# 각 칼럼의 평균\n",
        "X_train.mean(axis = 0)"
      ],
      "execution_count": 46,
      "outputs": [
        {
          "output_type": "execute_result",
          "data": {
            "text/plain": [
              "array([1.4246725e+01, 1.9343344e+01, 9.2774887e+01, 6.6597266e+02,\n",
              "       9.6632332e-02, 1.0508492e-01, 9.0719335e-02, 5.0065666e-02,\n",
              "       1.8118951e-01, 6.2786199e-02, 4.0612021e-01, 1.2142562e+00,\n",
              "       2.8748589e+00, 4.0316635e+01, 7.0176283e-03, 2.5348747e-02,\n",
              "       3.2062460e-02, 1.1764454e-02, 2.0531220e-02, 3.7363092e-03,\n",
              "       1.6416775e+01, 2.5748188e+01, 1.0823849e+02, 8.9480145e+02,\n",
              "       1.3245043e-01, 2.5506768e-01, 2.7562380e-01, 1.1570261e-01,\n",
              "       2.9101664e-01, 8.3712734e-02], dtype=float32)"
            ]
          },
          "metadata": {
            "tags": []
          },
          "execution_count": 46
        }
      ]
    },
    {
      "cell_type": "code",
      "metadata": {
        "id": "hOrZW5wxiaZZ",
        "colab_type": "code",
        "colab": {
          "base_uri": "https://localhost:8080/",
          "height": 161
        },
        "outputId": "81f3e04f-4dc0-4e10-a5ff-2715dd2b67b8"
      },
      "source": [
        "# 각 칼럼의 표준편차\n",
        "X_train.std(axis = 0)"
      ],
      "execution_count": 47,
      "outputs": [
        {
          "output_type": "execute_result",
          "data": {
            "text/plain": [
              "array([3.5674140e+00, 4.3507361e+00, 2.4575031e+01, 3.5615921e+02,\n",
              "       1.4353688e-02, 5.3791646e-02, 8.1841223e-02, 3.9670683e-02,\n",
              "       2.7552009e-02, 7.2733620e-03, 2.6560730e-01, 5.5348390e-01,\n",
              "       1.9292133e+00, 4.1717815e+01, 3.0911560e-03, 1.8196652e-02,\n",
              "       3.1977080e-02, 6.1692162e-03, 8.5335122e-03, 2.6235476e-03,\n",
              "       4.8489132e+00, 6.1664410e+00, 3.3675991e+01, 5.6701605e+02,\n",
              "       2.2961164e-02, 1.5849927e-01, 2.1007721e-01, 6.5664366e-02,\n",
              "       6.4403780e-02, 1.7722715e-02], dtype=float32)"
            ]
          },
          "metadata": {
            "tags": []
          },
          "execution_count": 47
        }
      ]
    },
    {
      "cell_type": "code",
      "metadata": {
        "id": "bOD2gNuzi8s5",
        "colab_type": "code",
        "colab": {
          "base_uri": "https://localhost:8080/",
          "height": 143
        },
        "outputId": "715e1f03-f3c6-400d-833f-e0668ba997ee"
      },
      "source": [
        "np.round((X_train - X_train.mean(axis = 0)) / X_train.std(axis = 0)) # 이렇게하면 skicit에서 제공하는 StandardScaler와 동일"
      ],
      "execution_count": 48,
      "outputs": [
        {
          "output_type": "execute_result",
          "data": {
            "text/plain": [
              "array([[-0.,  2., -0., ..., -1., -0., -1.],\n",
              "       [ 2.,  0.,  2., ...,  2.,  0., -0.],\n",
              "       [ 3.,  2.,  2., ...,  2.,  0.,  0.],\n",
              "       ...,\n",
              "       [-1., -1., -1., ..., -1., -2., -0.],\n",
              "       [-2., -1., -1., ..., -1., -1.,  1.],\n",
              "       [-1.,  0., -1., ..., -0., -0.,  0.]], dtype=float32)"
            ]
          },
          "metadata": {
            "tags": []
          },
          "execution_count": 48
        }
      ]
    },
    {
      "cell_type": "code",
      "metadata": {
        "id": "PQZ9wDL2YfxG",
        "colab_type": "code",
        "colab": {}
      },
      "source": [
        "from sklearn.preprocessing import StandardScaler"
      ],
      "execution_count": 37,
      "outputs": []
    },
    {
      "cell_type": "code",
      "metadata": {
        "id": "p-Z4S-k3Ykiz",
        "colab_type": "code",
        "colab": {
          "base_uri": "https://localhost:8080/",
          "height": 143
        },
        "outputId": "5035c6e3-f4c1-42bd-f5ba-a7e2122e45cd"
      },
      "source": [
        "scaler = StandardScaler()\n",
        "scaler.fit(X_train)\n",
        "X_train = scaler.transform(X_train)\n",
        "np.round(X_train)"
      ],
      "execution_count": 80,
      "outputs": [
        {
          "output_type": "execute_result",
          "data": {
            "text/plain": [
              "array([[-0.,  2., -0., ..., -1., -0., -1.],\n",
              "       [ 2.,  0.,  2., ...,  2.,  0., -0.],\n",
              "       [ 3.,  2.,  2., ...,  2.,  0.,  0.],\n",
              "       ...,\n",
              "       [-1., -1., -1., ..., -1., -2., -0.],\n",
              "       [-2., -1., -1., ..., -1., -1.,  1.],\n",
              "       [-1.,  0., -1., ..., -0., -0.,  0.]], dtype=float32)"
            ]
          },
          "metadata": {
            "tags": []
          },
          "execution_count": 80
        }
      ]
    },
    {
      "cell_type": "code",
      "metadata": {
        "id": "NgiRblNuA0Zu",
        "colab_type": "code",
        "colab": {
          "base_uri": "https://localhost:8080/",
          "height": 251
        },
        "outputId": "135b1b56-57b5-4151-b032-ef4adf553dea"
      },
      "source": [
        "X_train"
      ],
      "execution_count": 81,
      "outputs": [
        {
          "output_type": "execute_result",
          "data": {
            "text/plain": [
              "array([[-0.22053097,  2.0379677 , -0.2801584 , ..., -0.8816444 ,\n",
              "        -0.33564335, -0.73931825],\n",
              "       [ 1.6631867 ,  0.0452016 ,  1.6693815 , ...,  1.5472225 ,\n",
              "         0.18917061, -0.16717093],\n",
              "       [ 2.512541  ,  1.7529584 ,  2.471008  , ...,  2.1868389 ,\n",
              "         0.29941234,  0.17250594],\n",
              "       ...,\n",
              "       [-1.4847522 , -0.82361716, -1.3849382 , ..., -1.1763248 ,\n",
              "        -1.9535606 , -0.36635056],\n",
              "       [-1.5021317 , -1.0810449 , -1.3829037 , ..., -1.0331726 ,\n",
              "        -1.018833  ,  1.3929741 ],\n",
              "       [-1.2251801 ,  0.01302284, -1.1729344 , ..., -0.2773593 ,\n",
              "        -0.44743806,  0.06699167]], dtype=float32)"
            ]
          },
          "metadata": {
            "tags": []
          },
          "execution_count": 81
        }
      ]
    },
    {
      "cell_type": "code",
      "metadata": {
        "id": "jRuKWYCWh0Sk",
        "colab_type": "code",
        "colab": {}
      },
      "source": [
        "def sigmoid(h):\n",
        "  return 1 / (1 + np.exp(-h))"
      ],
      "execution_count": 49,
      "outputs": []
    },
    {
      "cell_type": "code",
      "metadata": {
        "id": "jxUtMBOKm5vH",
        "colab_type": "code",
        "colab": {}
      },
      "source": [
        "# tf.contrib.layers.xavier_initializer() : w와 b를 초기화 시키는 객체를 생성\n",
        "initializer = tf.contrib.layers.xavier_initializer()"
      ],
      "execution_count": 50,
      "outputs": []
    },
    {
      "cell_type": "code",
      "metadata": {
        "id": "x1mVr8j2nMNE",
        "colab_type": "code",
        "colab": {}
      },
      "source": [
        "# 30줄 1칸의 w를 생성\n",
        "w = tf.Variable(initializer([30, 1]))"
      ],
      "execution_count": 55,
      "outputs": []
    },
    {
      "cell_type": "code",
      "metadata": {
        "id": "iQZ4hlcpnRQi",
        "colab_type": "code",
        "colab": {}
      },
      "source": [
        "# 하나의 값 b에 생성\n",
        "b = tf.Variable(initializer([1]))"
      ],
      "execution_count": 74,
      "outputs": []
    },
    {
      "cell_type": "code",
      "metadata": {
        "id": "vOtFgIkQ-6di",
        "colab_type": "code",
        "colab": {
          "base_uri": "https://localhost:8080/",
          "height": 1000
        },
        "outputId": "38dfc600-dcc2-4cd6-8cbb-5362ee2018a6"
      },
      "source": [
        "# 선형회귀 결과\n",
        "tf.matmul(X_train, w) + b"
      ],
      "execution_count": 82,
      "outputs": [
        {
          "output_type": "execute_result",
          "data": {
            "text/plain": [
              "<tf.Tensor: id=226, shape=(455, 1), dtype=float32, numpy=\n",
              "array([[ 1.7296635e+00],\n",
              "       [-1.6636556e+00],\n",
              "       [-3.3631144e+00],\n",
              "       [-5.2828968e-01],\n",
              "       [ 8.0934519e-01],\n",
              "       [ 6.9885248e-01],\n",
              "       [-1.5740980e+00],\n",
              "       [-8.3556789e-01],\n",
              "       [ 8.4688425e-01],\n",
              "       [-4.8709035e-02],\n",
              "       [ 6.8711448e-01],\n",
              "       [-6.6178125e-01],\n",
              "       [-1.8618442e+00],\n",
              "       [-9.9331737e-01],\n",
              "       [ 5.1165032e-01],\n",
              "       [-6.6496909e-02],\n",
              "       [ 8.3636779e-01],\n",
              "       [ 6.2092400e-01],\n",
              "       [-7.1216983e-01],\n",
              "       [-1.1317114e+00],\n",
              "       [-1.8254073e+00],\n",
              "       [ 4.0130681e-01],\n",
              "       [-8.6114907e-01],\n",
              "       [ 1.0042591e+00],\n",
              "       [-3.0145307e+00],\n",
              "       [ 1.2866089e+00],\n",
              "       [-2.5972265e-01],\n",
              "       [ 9.7650349e-01],\n",
              "       [ 1.3020225e+00],\n",
              "       [ 1.9339808e+00],\n",
              "       [ 1.9725327e-01],\n",
              "       [-2.2718654e+00],\n",
              "       [-1.4024010e+00],\n",
              "       [ 1.1226096e+00],\n",
              "       [-7.5759420e+00],\n",
              "       [ 9.3147099e-02],\n",
              "       [ 2.5600284e-01],\n",
              "       [ 2.1538000e+00],\n",
              "       [-3.2513970e-01],\n",
              "       [ 5.0460792e-01],\n",
              "       [ 1.7045512e+00],\n",
              "       [ 1.2053260e+00],\n",
              "       [ 1.2225555e+00],\n",
              "       [ 1.4244376e+00],\n",
              "       [ 3.1341205e+00],\n",
              "       [-9.4562781e-01],\n",
              "       [ 1.4043123e+00],\n",
              "       [-1.6245512e+00],\n",
              "       [-5.2205145e-01],\n",
              "       [ 1.2378671e+00],\n",
              "       [ 2.9405692e-01],\n",
              "       [ 1.2047231e+00],\n",
              "       [-1.2410295e+00],\n",
              "       [ 9.6491927e-01],\n",
              "       [ 2.4529824e+00],\n",
              "       [-3.1790249e-02],\n",
              "       [ 1.6933237e+00],\n",
              "       [-2.4655542e+00],\n",
              "       [ 2.3085566e+00],\n",
              "       [ 7.7133769e-01],\n",
              "       [-3.0855875e+00],\n",
              "       [ 2.1826282e+00],\n",
              "       [-3.7106287e-01],\n",
              "       [ 5.4862928e-01],\n",
              "       [ 1.8032428e+00],\n",
              "       [-1.6473416e+00],\n",
              "       [ 2.0100141e+00],\n",
              "       [ 1.2350166e+00],\n",
              "       [ 1.3552692e+00],\n",
              "       [ 1.0740497e+00],\n",
              "       [ 7.6224500e-01],\n",
              "       [ 1.8794612e+00],\n",
              "       [ 1.2695918e+00],\n",
              "       [ 6.9744509e-01],\n",
              "       [-1.3634611e+00],\n",
              "       [ 2.6514616e+00],\n",
              "       [ 2.2424998e+00],\n",
              "       [-2.4101286e+00],\n",
              "       [ 1.5710180e+00],\n",
              "       [-3.4853845e+00],\n",
              "       [-1.1145917e+00],\n",
              "       [ 2.8386817e+00],\n",
              "       [ 2.0562685e-01],\n",
              "       [ 6.2149900e-01],\n",
              "       [ 9.0531665e-01],\n",
              "       [-1.8906612e+00],\n",
              "       [-2.6234813e+00],\n",
              "       [ 2.9871893e-01],\n",
              "       [-8.8477612e-01],\n",
              "       [ 9.1022086e-01],\n",
              "       [ 2.2044034e+00],\n",
              "       [ 1.7894511e+00],\n",
              "       [ 2.1206598e+00],\n",
              "       [ 1.0908650e+00],\n",
              "       [ 9.3125218e-01],\n",
              "       [ 4.8972639e-01],\n",
              "       [ 2.0542848e-01],\n",
              "       [ 1.0374191e+00],\n",
              "       [-5.9561682e-01],\n",
              "       [-6.9665426e-01],\n",
              "       [-1.7185977e+00],\n",
              "       [ 8.0166554e-01],\n",
              "       [-1.8851724e+00],\n",
              "       [ 1.2164242e+00],\n",
              "       [-1.0510330e+00],\n",
              "       [-2.2160764e+00],\n",
              "       [ 1.9940266e-01],\n",
              "       [ 9.4709134e-01],\n",
              "       [ 9.5898682e-01],\n",
              "       [ 1.6169714e+00],\n",
              "       [-4.2036372e-01],\n",
              "       [ 2.5238180e-01],\n",
              "       [-7.5879678e-02],\n",
              "       [ 6.8541056e-01],\n",
              "       [-1.7705845e+00],\n",
              "       [ 7.2166991e-01],\n",
              "       [ 5.5184340e-01],\n",
              "       [ 1.2835162e+00],\n",
              "       [-8.2597446e-01],\n",
              "       [ 1.4375862e+00],\n",
              "       [ 1.7131578e+00],\n",
              "       [ 1.1567911e+00],\n",
              "       [ 1.7677836e+00],\n",
              "       [-7.9176962e-01],\n",
              "       [-2.1909695e+00],\n",
              "       [ 6.0207695e-01],\n",
              "       [ 2.3144374e+00],\n",
              "       [-3.5747460e-01],\n",
              "       [ 1.1552961e+00],\n",
              "       [ 1.4232843e+00],\n",
              "       [ 4.2858094e-01],\n",
              "       [ 1.5661350e+00],\n",
              "       [ 7.9334277e-01],\n",
              "       [ 8.4410119e-01],\n",
              "       [-1.9667529e+00],\n",
              "       [ 1.1798126e+00],\n",
              "       [-8.5467291e-01],\n",
              "       [ 1.7103851e+00],\n",
              "       [ 7.9748631e-01],\n",
              "       [ 5.5226135e-01],\n",
              "       [ 2.5989671e+00],\n",
              "       [ 1.1162295e+00],\n",
              "       [ 8.0000800e-01],\n",
              "       [-1.6594120e+00],\n",
              "       [ 8.7367845e-01],\n",
              "       [ 1.8303546e+00],\n",
              "       [ 2.4887119e-01],\n",
              "       [ 2.4194074e+00],\n",
              "       [ 1.1093010e+00],\n",
              "       [ 4.8438601e-02],\n",
              "       [ 1.6452761e+00],\n",
              "       [ 6.3935983e-01],\n",
              "       [ 1.1948421e+00],\n",
              "       [ 8.6957055e-01],\n",
              "       [-4.5587689e-01],\n",
              "       [ 4.8213944e-01],\n",
              "       [ 3.5405912e+00],\n",
              "       [ 6.1075568e-01],\n",
              "       [-1.0054439e-01],\n",
              "       [ 1.6707647e-01],\n",
              "       [-8.1711575e-02],\n",
              "       [ 1.9155240e-01],\n",
              "       [ 8.7286341e-01],\n",
              "       [ 1.0045478e+00],\n",
              "       [ 1.0045683e+00],\n",
              "       [ 5.3279483e-01],\n",
              "       [-7.6166731e-01],\n",
              "       [ 2.6167533e-01],\n",
              "       [ 1.9088788e+00],\n",
              "       [ 2.2031567e-01],\n",
              "       [ 1.6917559e+00],\n",
              "       [-2.0166955e+00],\n",
              "       [-4.6484429e-01],\n",
              "       [-2.6091852e+00],\n",
              "       [-3.9229119e-01],\n",
              "       [-6.1916584e-01],\n",
              "       [-3.6046281e+00],\n",
              "       [ 7.1636373e-01],\n",
              "       [-2.3464975e+00],\n",
              "       [ 8.9575404e-01],\n",
              "       [ 3.3976114e-01],\n",
              "       [-2.3358479e+00],\n",
              "       [ 1.0125399e+00],\n",
              "       [-2.7491860e+00],\n",
              "       [-4.2133003e-01],\n",
              "       [ 7.6340783e-01],\n",
              "       [-1.5559801e-01],\n",
              "       [ 9.3745363e-01],\n",
              "       [ 2.3807397e+00],\n",
              "       [-3.2231197e+00],\n",
              "       [ 2.8097054e-01],\n",
              "       [ 2.4936099e-01],\n",
              "       [-1.3235365e+00],\n",
              "       [ 8.8472098e-01],\n",
              "       [ 1.2328768e-01],\n",
              "       [-4.9473047e+00],\n",
              "       [ 4.9520445e+00],\n",
              "       [-1.2249714e-01],\n",
              "       [ 6.8481076e-01],\n",
              "       [-1.8774207e+00],\n",
              "       [ 1.6678646e+00],\n",
              "       [ 1.7126961e+00],\n",
              "       [ 1.6721045e+00],\n",
              "       [-6.3062978e+00],\n",
              "       [-2.1954527e+00],\n",
              "       [-3.1216627e-01],\n",
              "       [ 2.1698899e+00],\n",
              "       [ 9.7333705e-01],\n",
              "       [-3.8071729e-02],\n",
              "       [ 7.6260191e-01],\n",
              "       [ 1.0746865e+00],\n",
              "       [ 1.3006799e+00],\n",
              "       [ 2.0808945e+00],\n",
              "       [ 9.7728002e-01],\n",
              "       [ 1.2448894e+00],\n",
              "       [-3.0962616e-02],\n",
              "       [-1.9282061e+00],\n",
              "       [ 7.3686516e-01],\n",
              "       [ 5.3086913e-01],\n",
              "       [ 5.1035296e-02],\n",
              "       [ 2.9494529e+00],\n",
              "       [-1.9153073e-02],\n",
              "       [-1.8581315e+00],\n",
              "       [-2.4288564e+00],\n",
              "       [ 1.6655228e+00],\n",
              "       [-2.5849228e+00],\n",
              "       [ 2.6394463e+00],\n",
              "       [ 8.1932998e-01],\n",
              "       [ 2.8794966e+00],\n",
              "       [ 2.1316141e-01],\n",
              "       [ 6.5723062e-01],\n",
              "       [ 1.9505037e+00],\n",
              "       [-2.0188708e+00],\n",
              "       [-1.1175119e+00],\n",
              "       [ 2.2752494e-01],\n",
              "       [ 2.5528896e-01],\n",
              "       [ 4.8491156e-01],\n",
              "       [ 7.8497462e-02],\n",
              "       [-1.3422173e+00],\n",
              "       [-1.6789263e+00],\n",
              "       [ 9.6198088e-01],\n",
              "       [-7.5670522e-01],\n",
              "       [ 2.4294257e+00],\n",
              "       [-1.3220809e+00],\n",
              "       [-4.4762176e-01],\n",
              "       [-2.1365390e+00],\n",
              "       [ 6.6269237e-01],\n",
              "       [ 9.8385745e-01],\n",
              "       [ 4.1849270e-01],\n",
              "       [-1.9618808e+00],\n",
              "       [-3.9621687e+00],\n",
              "       [-1.5192220e+00],\n",
              "       [ 4.5861252e-02],\n",
              "       [-2.8447990e+00],\n",
              "       [ 1.9068435e+00],\n",
              "       [ 4.4725081e-01],\n",
              "       [ 2.4490695e+00],\n",
              "       [-6.9888771e-01],\n",
              "       [-1.5170856e+00],\n",
              "       [ 8.7094629e-01],\n",
              "       [-7.5531900e-01],\n",
              "       [ 9.4096828e-01],\n",
              "       [ 1.2215844e+00],\n",
              "       [ 1.1747758e+00],\n",
              "       [-7.2874749e-01],\n",
              "       [-3.6399111e-01],\n",
              "       [ 1.9722579e+00],\n",
              "       [-1.0087985e+00],\n",
              "       [ 1.5682825e-01],\n",
              "       [ 1.1167048e+00],\n",
              "       [-2.2055489e-01],\n",
              "       [-1.1337500e+00],\n",
              "       [ 1.3894565e+00],\n",
              "       [-2.4028692e+00],\n",
              "       [-2.5491676e+00],\n",
              "       [ 9.1374648e-01],\n",
              "       [ 1.7732369e+00],\n",
              "       [ 3.2352376e-01],\n",
              "       [ 4.8487186e-01],\n",
              "       [ 4.2233229e-01],\n",
              "       [-3.8748300e-01],\n",
              "       [ 6.5271938e-01],\n",
              "       [ 1.8387182e+00],\n",
              "       [-1.6710625e+00],\n",
              "       [-6.0834575e-01],\n",
              "       [ 3.1552336e-01],\n",
              "       [-7.3317170e-02],\n",
              "       [-3.2020503e-01],\n",
              "       [-4.1389742e+00],\n",
              "       [ 2.0798745e+00],\n",
              "       [ 8.1031352e-01],\n",
              "       [-4.6938562e-01],\n",
              "       [ 7.0490158e-01],\n",
              "       [ 1.5094563e+00],\n",
              "       [-3.5429892e-01],\n",
              "       [-8.3022326e-02],\n",
              "       [-1.1654092e+00],\n",
              "       [-1.9860649e-01],\n",
              "       [ 2.5002718e+00],\n",
              "       [-1.7303230e+00],\n",
              "       [ 1.2217857e+00],\n",
              "       [ 2.1631370e+00],\n",
              "       [-1.3883334e+00],\n",
              "       [ 9.6815598e-01],\n",
              "       [ 1.3693138e+00],\n",
              "       [-6.1227548e-01],\n",
              "       [ 7.1333075e-01],\n",
              "       [ 7.5750017e-01],\n",
              "       [-5.4329433e+00],\n",
              "       [-2.1059256e+00],\n",
              "       [ 1.4353824e+00],\n",
              "       [-8.0148536e-01],\n",
              "       [ 7.1584320e-01],\n",
              "       [ 6.0902677e-02],\n",
              "       [-2.5923719e+00],\n",
              "       [-7.7345002e-01],\n",
              "       [ 1.4103056e+00],\n",
              "       [ 2.1497903e+00],\n",
              "       [-8.7207723e-01],\n",
              "       [-1.7042503e-01],\n",
              "       [ 2.6088667e+00],\n",
              "       [ 8.5524189e-01],\n",
              "       [-2.1995149e+00],\n",
              "       [ 9.9734384e-01],\n",
              "       [ 1.4632726e-01],\n",
              "       [ 2.5784349e+00],\n",
              "       [ 1.5915291e+00],\n",
              "       [-3.4559546e+00],\n",
              "       [ 1.0910746e+00],\n",
              "       [ 1.8374388e+00],\n",
              "       [-5.5357707e-01],\n",
              "       [-6.5468800e-01],\n",
              "       [ 6.2825823e-01],\n",
              "       [-3.4443212e+00],\n",
              "       [ 1.0428519e+00],\n",
              "       [ 2.6947155e+00],\n",
              "       [ 2.1856322e+00],\n",
              "       [ 1.8954915e+00],\n",
              "       [ 1.1101102e+00],\n",
              "       [-1.4023013e-02],\n",
              "       [ 1.9397807e-01],\n",
              "       [ 1.7204644e-01],\n",
              "       [ 8.1576145e-01],\n",
              "       [ 4.0190488e-01],\n",
              "       [ 1.6641284e+00],\n",
              "       [-1.0066717e+00],\n",
              "       [-5.4115653e-01],\n",
              "       [-1.7309092e+00],\n",
              "       [-5.1881820e-03],\n",
              "       [ 8.6742425e-01],\n",
              "       [ 1.2685139e+00],\n",
              "       [ 5.4637271e-01],\n",
              "       [-1.2127617e-01],\n",
              "       [ 4.9330932e-01],\n",
              "       [ 5.3571844e-01],\n",
              "       [-4.5673990e-01],\n",
              "       [-3.8256598e+00],\n",
              "       [ 1.2871318e+00],\n",
              "       [-3.0936480e+00],\n",
              "       [-3.9914036e+00],\n",
              "       [ 1.1760572e+00],\n",
              "       [-1.0710695e+00],\n",
              "       [ 7.9541224e-01],\n",
              "       [ 6.4692092e-01],\n",
              "       [-2.9374528e+00],\n",
              "       [ 4.5338191e-02],\n",
              "       [ 2.6845641e+00],\n",
              "       [ 4.1821337e-01],\n",
              "       [-9.4653502e-02],\n",
              "       [-4.5622602e-02],\n",
              "       [-2.5515118e+00],\n",
              "       [-3.0545950e+00],\n",
              "       [ 2.5335580e-01],\n",
              "       [ 8.0441254e-01],\n",
              "       [-3.0281839e+00],\n",
              "       [ 4.4923872e-01],\n",
              "       [-4.3645543e-01],\n",
              "       [ 6.5083694e-01],\n",
              "       [ 6.4341217e-02],\n",
              "       [-5.2403706e-01],\n",
              "       [-7.0513263e-02],\n",
              "       [-1.7397614e+00],\n",
              "       [ 4.7522902e-01],\n",
              "       [-1.8735304e+00],\n",
              "       [ 3.0092243e-02],\n",
              "       [ 1.5047164e+00],\n",
              "       [ 1.6013303e+00],\n",
              "       [ 6.6450530e-01],\n",
              "       [ 2.3597665e+00],\n",
              "       [ 5.3053212e-01],\n",
              "       [ 3.6848584e-01],\n",
              "       [-9.0320265e-01],\n",
              "       [-1.9759547e+00],\n",
              "       [-2.7016252e-01],\n",
              "       [ 1.5869738e+00],\n",
              "       [ 7.5572222e-01],\n",
              "       [ 1.1770376e+00],\n",
              "       [ 6.1769360e-01],\n",
              "       [-2.1906066e+00],\n",
              "       [-2.0705781e+00],\n",
              "       [-1.1095475e+00],\n",
              "       [-1.6706038e+00],\n",
              "       [-3.9510946e+00],\n",
              "       [-3.9960666e+00],\n",
              "       [-2.0738835e+00],\n",
              "       [-1.3878439e-01],\n",
              "       [-8.8511431e-01],\n",
              "       [ 3.5603367e-02],\n",
              "       [-5.3199701e+00],\n",
              "       [ 1.3678707e+00],\n",
              "       [ 1.4596555e+00],\n",
              "       [ 2.2123008e+00],\n",
              "       [-2.5939119e-01],\n",
              "       [ 5.1560545e-01],\n",
              "       [ 1.2840731e+00],\n",
              "       [ 2.2612844e+00],\n",
              "       [-9.9806011e-01],\n",
              "       [ 6.7751819e-01],\n",
              "       [-1.5881429e+00],\n",
              "       [-1.9351788e-02],\n",
              "       [ 1.6367278e+00],\n",
              "       [ 9.5601849e-02],\n",
              "       [ 1.8986824e-01],\n",
              "       [-2.8011072e-01],\n",
              "       [ 2.0448396e+00],\n",
              "       [-5.5901396e-01],\n",
              "       [-4.6137395e+00],\n",
              "       [-5.4235184e-01],\n",
              "       [-1.7712861e-01],\n",
              "       [ 7.9394364e-01],\n",
              "       [-1.1627363e+00],\n",
              "       [ 7.3496830e-01],\n",
              "       [ 1.8600099e-01],\n",
              "       [-1.3110317e+00],\n",
              "       [ 9.1952378e-01],\n",
              "       [-2.1301312e+00],\n",
              "       [ 7.6585221e-01],\n",
              "       [ 1.2224050e-01],\n",
              "       [-1.6291547e+00],\n",
              "       [ 9.1395921e-01],\n",
              "       [ 7.5948781e-01],\n",
              "       [ 1.6969911e+00],\n",
              "       [ 1.0946919e+00],\n",
              "       [ 1.6092204e+00],\n",
              "       [ 1.2063320e+00],\n",
              "       [-4.2049986e-01],\n",
              "       [-2.0574889e+00],\n",
              "       [-1.5431827e-01],\n",
              "       [ 1.3051893e-01],\n",
              "       [-2.6165730e-01],\n",
              "       [ 1.9379925e+00],\n",
              "       [-1.4477636e-01],\n",
              "       [ 3.1591988e+00],\n",
              "       [ 1.7212211e+00],\n",
              "       [ 2.6161499e+00]], dtype=float32)>"
            ]
          },
          "metadata": {
            "tags": []
          },
          "execution_count": 82
        }
      ]
    },
    {
      "cell_type": "code",
      "metadata": {
        "id": "I6JCIlTb_t0A",
        "colab_type": "code",
        "colab": {
          "base_uri": "https://localhost:8080/",
          "height": 1000
        },
        "outputId": "4efe2551-73f0-46a4-f670-fc700bfaccfd"
      },
      "source": [
        "hypothesis = tf.sigmoid(tf.matmul(X_train, w) + b)\n",
        "hypothesis"
      ],
      "execution_count": 83,
      "outputs": [
        {
          "output_type": "execute_result",
          "data": {
            "text/plain": [
              "<tf.Tensor: id=232, shape=(455, 1), dtype=float32, numpy=\n",
              "array([[8.49369407e-01],\n",
              "       [1.59271866e-01],\n",
              "       [3.34683657e-02],\n",
              "       [3.70915890e-01],\n",
              "       [6.91969931e-01],\n",
              "       [6.67933285e-01],\n",
              "       [1.71632975e-01],\n",
              "       [3.02469075e-01],\n",
              "       [6.99913085e-01],\n",
              "       [4.87825155e-01],\n",
              "       [6.65324688e-01],\n",
              "       [3.40339601e-01],\n",
              "       [1.34488255e-01],\n",
              "       [2.70257354e-01],\n",
              "       [6.25193238e-01],\n",
              "       [4.83381897e-01],\n",
              "       [6.97699666e-01],\n",
              "       [6.50428653e-01],\n",
              "       [3.29119563e-01],\n",
              "       [2.43845403e-01],\n",
              "       [1.38786256e-01],\n",
              "       [5.99001586e-01],\n",
              "       [2.97099322e-01],\n",
              "       [7.31895089e-01],\n",
              "       [4.67736721e-02],\n",
              "       [7.83572674e-01],\n",
              "       [4.35431898e-01],\n",
              "       [7.26413846e-01],\n",
              "       [7.86175132e-01],\n",
              "       [8.73689413e-01],\n",
              "       [5.49154043e-01],\n",
              "       [9.34799612e-02],\n",
              "       [1.97435409e-01],\n",
              "       [7.54472435e-01],\n",
              "       [5.12361526e-04],\n",
              "       [5.23269951e-01],\n",
              "       [5.63653469e-01],\n",
              "       [8.96023333e-01],\n",
              "       [4.19423699e-01],\n",
              "       [6.23541594e-01],\n",
              "       [8.46128225e-01],\n",
              "       [7.69470930e-01],\n",
              "       [7.72512913e-01],\n",
              "       [8.06033134e-01],\n",
              "       [9.58278537e-01],\n",
              "       [2.79764980e-01],\n",
              "       [8.02867293e-01],\n",
              "       [1.64578170e-01],\n",
              "       [3.72372657e-01],\n",
              "       [7.75192499e-01],\n",
              "       [5.72989047e-01],\n",
              "       [7.69363940e-01],\n",
              "       [2.24256873e-01],\n",
              "       [7.24105597e-01],\n",
              "       [9.20779288e-01],\n",
              "       [4.92053121e-01],\n",
              "       [8.44660759e-01],\n",
              "       [7.83085227e-02],\n",
              "       [9.09583211e-01],\n",
              "       [6.83810174e-01],\n",
              "       [4.37056720e-02],\n",
              "       [8.98678660e-01],\n",
              "       [4.08284217e-01],\n",
              "       [6.33817554e-01],\n",
              "       [8.58543217e-01],\n",
              "       [1.61468565e-01],\n",
              "       [8.81844521e-01],\n",
              "       [7.74695396e-01],\n",
              "       [7.94989765e-01],\n",
              "       [7.45366275e-01],\n",
              "       [6.81840897e-01],\n",
              "       [8.67549181e-01],\n",
              "       [7.80672848e-01],\n",
              "       [6.67621076e-01],\n",
              "       [2.03678340e-01],\n",
              "       [9.34101045e-01],\n",
              "       [9.04001653e-01],\n",
              "       [8.24035704e-02],\n",
              "       [8.27928662e-01],\n",
              "       [2.97309458e-02],\n",
              "       [2.47015864e-01],\n",
              "       [9.44730639e-01],\n",
              "       [5.51226318e-01],\n",
              "       [6.50559366e-01],\n",
              "       [7.12040782e-01],\n",
              "       [1.31169081e-01],\n",
              "       [6.76423907e-02],\n",
              "       [5.74129343e-01],\n",
              "       [2.92189032e-01],\n",
              "       [7.13045359e-01],\n",
              "       [9.00644243e-01],\n",
              "       [8.56859982e-01],\n",
              "       [8.92895103e-01],\n",
              "       [7.48544574e-01],\n",
              "       [7.17329264e-01],\n",
              "       [6.20041966e-01],\n",
              "       [5.51177263e-01],\n",
              "       [7.38351703e-01],\n",
              "       [3.55347157e-01],\n",
              "       [3.32554460e-01],\n",
              "       [1.52051866e-01],\n",
              "       [6.90330625e-01],\n",
              "       [1.31795883e-01],\n",
              "       [7.71433651e-01],\n",
              "       [2.59026766e-01],\n",
              "       [9.83160436e-02],\n",
              "       [5.49686134e-01],\n",
              "       [7.20529854e-01],\n",
              "       [7.22918928e-01],\n",
              "       [8.34377050e-01],\n",
              "       [3.96429718e-01],\n",
              "       [5.62762618e-01],\n",
              "       [4.81039166e-01],\n",
              "       [6.64945185e-01],\n",
              "       [1.45469666e-01],\n",
              "       [6.72974586e-01],\n",
              "       [6.34563148e-01],\n",
              "       [7.83047676e-01],\n",
              "       [3.04496944e-01],\n",
              "       [8.08080554e-01],\n",
              "       [8.47245455e-01],\n",
              "       [7.60749161e-01],\n",
              "       [8.54181886e-01],\n",
              "       [3.11788827e-01],\n",
              "       [1.00564361e-01],\n",
              "       [6.46131337e-01],\n",
              "       [9.10065711e-01],\n",
              "       [4.11571056e-01],\n",
              "       [7.60476947e-01],\n",
              "       [8.05852771e-01],\n",
              "       [6.05534732e-01],\n",
              "       [8.27231944e-01],\n",
              "       [6.88548625e-01],\n",
              "       [6.99328244e-01],\n",
              "       [1.22738093e-01],\n",
              "       [7.64914095e-01],\n",
              "       [2.98453510e-01],\n",
              "       [8.46886277e-01],\n",
              "       [6.89436555e-01],\n",
              "       [6.34660065e-01],\n",
              "       [9.30795074e-01],\n",
              "       [7.53288627e-01],\n",
              "       [6.89976156e-01],\n",
              "       [1.59840941e-01],\n",
              "       [7.05510497e-01],\n",
              "       [8.61804008e-01],\n",
              "       [5.61898649e-01],\n",
              "       [9.18295264e-01],\n",
              "       [7.51998782e-01],\n",
              "       [5.12107253e-01],\n",
              "       [8.38251591e-01],\n",
              "       [6.54608727e-01],\n",
              "       [7.67605901e-01],\n",
              "       [7.04656303e-01],\n",
              "       [3.87964398e-01],\n",
              "       [6.18252933e-01],\n",
              "       [9.71820951e-01],\n",
              "       [6.48113132e-01],\n",
              "       [4.74885046e-01],\n",
              "       [5.41672230e-01],\n",
              "       [4.79583472e-01],\n",
              "       [5.47742188e-01],\n",
              "       [7.05341160e-01],\n",
              "       [7.31951773e-01],\n",
              "       [7.31955767e-01],\n",
              "       [6.30134702e-01],\n",
              "       [3.18284392e-01],\n",
              "       [5.65048099e-01],\n",
              "       [8.70893121e-01],\n",
              "       [5.54857194e-01],\n",
              "       [8.44454944e-01],\n",
              "       [1.17461145e-01],\n",
              "       [3.85837257e-01],\n",
              "       [6.85496032e-02],\n",
              "       [4.03165877e-01],\n",
              "       [3.49971205e-01],\n",
              "       [2.64774263e-02],\n",
              "       [6.71805799e-01],\n",
              "       [8.73445868e-02],\n",
              "       [7.10076153e-01],\n",
              "       [5.84132493e-01],\n",
              "       [8.81972611e-02],\n",
              "       [7.33516932e-01],\n",
              "       [6.01326525e-02],\n",
              "       [3.96198541e-01],\n",
              "       [6.82093143e-01],\n",
              "       [4.61178780e-01],\n",
              "       [7.18585014e-01],\n",
              "       [9.15346742e-01],\n",
              "       [3.83049250e-02],\n",
              "       [5.69784164e-01],\n",
              "       [5.62019229e-01],\n",
              "       [2.10230470e-01],\n",
              "       [7.07799554e-01],\n",
              "       [5.30782938e-01],\n",
              "       [7.05245137e-03],\n",
              "       [9.92980659e-01],\n",
              "       [4.69413966e-01],\n",
              "       [6.64811552e-01],\n",
              "       [1.32685363e-01],\n",
              "       [8.41290891e-01],\n",
              "       [8.47185612e-01],\n",
              "       [8.41856241e-01],\n",
              "       [1.82142854e-03],\n",
              "       [1.00159556e-01],\n",
              "       [4.22586083e-01],\n",
              "       [8.97512853e-01],\n",
              "       [7.25784123e-01],\n",
              "       [4.90483224e-01],\n",
              "       [6.81918383e-01],\n",
              "       [7.45487094e-01],\n",
              "       [7.85949349e-01],\n",
              "       [8.89032245e-01],\n",
              "       [7.26568162e-01],\n",
              "       [7.76413918e-01],\n",
              "       [4.92259979e-01],\n",
              "       [1.26949281e-01],\n",
              "       [6.76309943e-01],\n",
              "       [6.29685760e-01],\n",
              "       [5.12756050e-01],\n",
              "       [9.50237632e-01],\n",
              "       [4.95211869e-01],\n",
              "       [1.34921014e-01],\n",
              "       [8.09985697e-02],\n",
              "       [8.40977967e-01],\n",
              "       [7.01150596e-02],\n",
              "       [9.33357537e-01],\n",
              "       [6.94094062e-01],\n",
              "       [9.46823537e-01],\n",
              "       [5.53089499e-01],\n",
              "       [6.58638000e-01],\n",
              "       [8.75501573e-01],\n",
              "       [1.17235780e-01],\n",
              "       [2.46473134e-01],\n",
              "       [5.56637108e-01],\n",
              "       [5.63477874e-01],\n",
              "       [6.18906975e-01],\n",
              "       [5.19614279e-01],\n",
              "       [2.07145661e-01],\n",
              "       [1.57237709e-01],\n",
              "       [7.23518193e-01],\n",
              "       [3.19362044e-01],\n",
              "       [9.19043839e-01],\n",
              "       [2.10472286e-01],\n",
              "       [3.89926374e-01],\n",
              "       [1.05595797e-01],\n",
              "       [6.59864902e-01],\n",
              "       [7.27872968e-01],\n",
              "       [6.03122473e-01],\n",
              "       [1.23263597e-01],\n",
              "       [1.86667442e-02],\n",
              "       [1.79576099e-01],\n",
              "       [5.11463284e-01],\n",
              "       [5.49508035e-02],\n",
              "       [8.70664120e-01],\n",
              "       [6.09985352e-01],\n",
              "       [9.20493364e-01],\n",
              "       [3.32058907e-01],\n",
              "       [1.79891050e-01],\n",
              "       [7.04942584e-01],\n",
              "       [3.19663435e-01],\n",
              "       [7.19295204e-01],\n",
              "       [7.72342265e-01],\n",
              "       [7.64007151e-01],\n",
              "       [3.25469643e-01],\n",
              "       [4.09993768e-01],\n",
              "       [8.77853394e-01],\n",
              "       [2.67215073e-01],\n",
              "       [5.39126873e-01],\n",
              "       [7.53376961e-01],\n",
              "       [4.45083708e-01],\n",
              "       [2.43469745e-01],\n",
              "       [8.00505519e-01],\n",
              "       [8.29541385e-02],\n",
              "       [7.24824071e-02],\n",
              "       [7.13766217e-01],\n",
              "       [8.54859710e-01],\n",
              "       [5.80182791e-01],\n",
              "       [6.18897617e-01],\n",
              "       [6.04041219e-01],\n",
              "       [4.04323369e-01],\n",
              "       [6.57622993e-01],\n",
              "       [8.62797081e-01],\n",
              "       [1.58282578e-01],\n",
              "       [3.52436662e-01],\n",
              "       [5.78232884e-01],\n",
              "       [4.81678903e-01],\n",
              "       [4.20625806e-01],\n",
              "       [1.56891346e-02],\n",
              "       [8.88931632e-01],\n",
              "       [6.92176342e-01],\n",
              "       [3.84761691e-01],\n",
              "       [6.69273615e-01],\n",
              "       [8.18980634e-01],\n",
              "       [4.12340343e-01],\n",
              "       [4.79256332e-01],\n",
              "       [2.37685800e-01],\n",
              "       [4.50510949e-01],\n",
              "       [9.24160898e-01],\n",
              "       [1.50546223e-01],\n",
              "       [7.72377610e-01],\n",
              "       [8.96890044e-01],\n",
              "       [1.99673951e-01],\n",
              "       [7.24751770e-01],\n",
              "       [7.97269225e-01],\n",
              "       [3.51540327e-01],\n",
              "       [6.71136677e-01],\n",
              "       [6.80810750e-01],\n",
              "       [4.35119867e-03],\n",
              "       [1.08522207e-01],\n",
              "       [8.07738543e-01],\n",
              "       [3.09707880e-01],\n",
              "       [6.71690941e-01],\n",
              "       [5.15220940e-01],\n",
              "       [6.96309507e-02],\n",
              "       [3.15733314e-01],\n",
              "       [8.03814173e-01],\n",
              "       [8.95649195e-01],\n",
              "       [2.94822276e-01],\n",
              "       [4.57496583e-01],\n",
              "       [9.31430042e-01],\n",
              "       [7.01665580e-01],\n",
              "       [9.97940600e-02],\n",
              "       [7.30535984e-01],\n",
              "       [5.36516666e-01],\n",
              "       [9.29460764e-01],\n",
              "       [8.30831170e-01],\n",
              "       [3.05917859e-02],\n",
              "       [7.48584032e-01],\n",
              "       [8.62645566e-01],\n",
              "       [3.65034908e-01],\n",
              "       [3.41933906e-01],\n",
              "       [6.52094424e-01],\n",
              "       [3.09386253e-02],\n",
              "       [7.39399910e-01],\n",
              "       [9.36714113e-01],\n",
              "       [8.98951828e-01],\n",
              "       [8.69380414e-01],\n",
              "       [7.52149642e-01],\n",
              "       [4.96494293e-01],\n",
              "       [5.48343003e-01],\n",
              "       [5.42905807e-01],\n",
              "       [6.93335831e-01],\n",
              "       [5.99145234e-01],\n",
              "       [8.40791464e-01],\n",
              "       [2.67631739e-01],\n",
              "       [3.67918611e-01],\n",
              "       [1.50471300e-01],\n",
              "       [4.98702943e-01],\n",
              "       [7.04209447e-01],\n",
              "       [7.80488253e-01],\n",
              "       [6.33293629e-01],\n",
              "       [4.69718069e-01],\n",
              "       [6.20885730e-01],\n",
              "       [6.30815864e-01],\n",
              "       [3.87759507e-01],\n",
              "       [2.13387907e-02],\n",
              "       [7.83661366e-01],\n",
              "       [4.33700383e-02],\n",
              "       [1.81386769e-02],\n",
              "       [7.64238119e-01],\n",
              "       [2.55199790e-01],\n",
              "       [6.88992262e-01],\n",
              "       [6.56316280e-01],\n",
              "       [5.03329039e-02],\n",
              "       [5.11332631e-01],\n",
              "       [9.36109662e-01],\n",
              "       [6.03055656e-01],\n",
              "       [4.76354271e-01],\n",
              "       [4.88596320e-01],\n",
              "       [7.23249912e-02],\n",
              "       [4.50194776e-02],\n",
              "       [5.63002288e-01],\n",
              "       [6.90917552e-01],\n",
              "       [4.61687446e-02],\n",
              "       [6.10458195e-01],\n",
              "       [3.92585903e-01],\n",
              "       [6.57199025e-01],\n",
              "       [5.16079783e-01],\n",
              "       [3.71908724e-01],\n",
              "       [4.82378989e-01],\n",
              "       [1.49343282e-01],\n",
              "       [6.16620660e-01],\n",
              "       [1.33133769e-01],\n",
              "       [5.07522464e-01],\n",
              "       [8.18276882e-01],\n",
              "       [8.32204223e-01],\n",
              "       [6.60271704e-01],\n",
              "       [9.13707435e-01],\n",
              "       [6.29607201e-01],\n",
              "       [5.91093063e-01],\n",
              "       [2.88392842e-01],\n",
              "       [1.21750742e-01],\n",
              "       [4.32867199e-01],\n",
              "       [8.30189943e-01],\n",
              "       [6.80424213e-01],\n",
              "       [7.64414728e-01],\n",
              "       [6.49693787e-01],\n",
              "       [1.00597233e-01],\n",
              "       [1.11989528e-01],\n",
              "       [2.47955263e-01],\n",
              "       [1.58343673e-01],\n",
              "       [1.88706815e-02],\n",
              "       [1.80558264e-02],\n",
              "       [1.11661255e-01],\n",
              "       [4.65359479e-01],\n",
              "       [2.92119086e-01],\n",
              "       [5.08899927e-01],\n",
              "       [4.86910343e-03],\n",
              "       [7.97035933e-01],\n",
              "       [8.11479986e-01],\n",
              "       [9.01348710e-01],\n",
              "       [4.35513377e-01],\n",
              "       [6.26119614e-01],\n",
              "       [7.83142328e-01],\n",
              "       [9.05619502e-01],\n",
              "       [2.69322991e-01],\n",
              "       [6.63184524e-01],\n",
              "       [1.69645339e-01],\n",
              "       [4.95162219e-01],\n",
              "       [8.37089181e-01],\n",
              "       [5.23882270e-01],\n",
              "       [5.47324955e-01],\n",
              "       [4.30426657e-01],\n",
              "       [8.85425150e-01],\n",
              "       [3.63775671e-01],\n",
              "       [9.81736183e-03],\n",
              "       [3.67640674e-01],\n",
              "       [4.55833256e-01],\n",
              "       [6.88677430e-01],\n",
              "       [2.38170415e-01],\n",
              "       [6.75894558e-01],\n",
              "       [5.46366632e-01],\n",
              "       [2.12314278e-01],\n",
              "       [7.14945078e-01],\n",
              "       [1.06202513e-01],\n",
              "       [6.82622910e-01],\n",
              "       [5.30522108e-01],\n",
              "       [1.63946211e-01],\n",
              "       [7.13809609e-01],\n",
              "       [6.81242526e-01],\n",
              "       [8.45141351e-01],\n",
              "       [7.49264181e-01],\n",
              "       [8.33303094e-01],\n",
              "       [7.69649267e-01],\n",
              "       [3.96397144e-01],\n",
              "       [1.13297820e-01],\n",
              "       [4.61496830e-01],\n",
              "       [5.32583475e-01],\n",
              "       [4.34956342e-01],\n",
              "       [8.74131382e-01],\n",
              "       [4.63869005e-01],\n",
              "       [9.59269643e-01],\n",
              "       [8.48286033e-01],\n",
              "       [9.31893826e-01]], dtype=float32)>"
            ]
          },
          "metadata": {
            "tags": []
          },
          "execution_count": 83
        }
      ]
    },
    {
      "cell_type": "code",
      "metadata": {
        "id": "whbNxQyhAbhI",
        "colab_type": "code",
        "colab": {}
      },
      "source": [
        "optimizer = tf.train.AdamOptimizer(0.001)"
      ],
      "execution_count": 84,
      "outputs": []
    },
    {
      "cell_type": "code",
      "metadata": {
        "id": "p6T_SCaaBISm",
        "colab_type": "code",
        "colab": {
          "base_uri": "https://localhost:8080/",
          "height": 1000
        },
        "outputId": "e5c54383-832d-400d-b97e-9f9b7eafdfba"
      },
      "source": [
        "for step in range(100):\n",
        "  with tf.GradientTape() as tape:\n",
        "    hypothesis = tf.sigmoid(tf.matmul(X_train, w) + b)\n",
        "    cost = -tf.reduce_mean(y_train * tf.log(hypothesis) + (1 - y_train) * tf.log(1 - hypothesis))\n",
        "    grads = tape.gradient(cost, [w, b])\n",
        "  optimizer.apply_gradients(grads_and_vars = zip(grads, [w,b]))\n",
        "\n",
        "  if step % 10 == 0:\n",
        "    print('=' * 50)\n",
        "    print('step : {}, cost : {}, w : {}, b : {}'.format(step, cost.numpy(), w.numpy(), b.numpy()))\n",
        "    print('=' * 50)"
      ],
      "execution_count": 86,
      "outputs": [
        {
          "output_type": "stream",
          "text": [
            "==================================================\n",
            "step : 0, cost : 0.4321812689304352, w : [[-0.27238783]\n",
            " [ 0.31783533]\n",
            " [-0.39419976]\n",
            " [-0.02114333]\n",
            " [ 0.11111461]\n",
            " [-0.4232727 ]\n",
            " [-0.05770699]\n",
            " [-0.11149405]\n",
            " [ 0.3244282 ]\n",
            " [-0.01339475]\n",
            " [-0.22433713]\n",
            " [-0.24258171]\n",
            " [ 0.1476333 ]\n",
            " [-0.20492521]\n",
            " [ 0.29961008]\n",
            " [ 0.31904864]\n",
            " [ 0.38065022]\n",
            " [-0.00363589]\n",
            " [-0.35024914]\n",
            " [-0.15994084]\n",
            " [-0.21705827]\n",
            " [ 0.29677874]\n",
            " [ 0.33077472]\n",
            " [-0.30267727]\n",
            " [ 0.41076326]\n",
            " [-0.32015786]\n",
            " [-0.17407732]\n",
            " [-0.29223055]\n",
            " [-0.15170078]\n",
            " [-0.10495121]], b : [0.08529443]\n",
            "==================================================\n",
            "==================================================\n",
            "step : 10, cost : 0.3983449935913086, w : [[-0.2823417 ]\n",
            " [ 0.30786756]\n",
            " [-0.40415162]\n",
            " [-0.03109695]\n",
            " [ 0.10117383]\n",
            " [-0.43319654]\n",
            " [-0.06764463]\n",
            " [-0.12143904]\n",
            " [ 0.31449628]\n",
            " [-0.02316829]\n",
            " [-0.2342867 ]\n",
            " [-0.25250742]\n",
            " [ 0.13768934]\n",
            " [-0.21487577]\n",
            " [ 0.2896567 ]\n",
            " [ 0.30916813]\n",
            " [ 0.3707571 ]\n",
            " [-0.01355593]\n",
            " [-0.34017566]\n",
            " [-0.16971715]\n",
            " [-0.22701454]\n",
            " [ 0.28681034]\n",
            " [ 0.32082096]\n",
            " [-0.31263265]\n",
            " [ 0.4008064 ]\n",
            " [-0.33009294]\n",
            " [-0.18401715]\n",
            " [-0.30217785]\n",
            " [-0.1616522 ]\n",
            " [-0.11487705]], b : [0.09525404]\n",
            "==================================================\n",
            "==================================================\n",
            "step : 20, cost : 0.369162917137146, w : [[-0.29209808]\n",
            " [ 0.2980406 ]\n",
            " [-0.41389677]\n",
            " [-0.0408519 ]\n",
            " [ 0.09150021]\n",
            " [-0.44277537]\n",
            " [-0.0773036 ]\n",
            " [-0.13114174]\n",
            " [ 0.30487356]\n",
            " [-0.03168866]\n",
            " [-0.24401648]\n",
            " [-0.2620982 ]\n",
            " [ 0.12799038]\n",
            " [-0.22461294]\n",
            " [ 0.27991572]\n",
            " [ 0.29985812]\n",
            " [ 0.36137813]\n",
            " [-0.02310836]\n",
            " [-0.32983318]\n",
            " [-0.17826259]\n",
            " [-0.23678258]\n",
            " [ 0.27698043]\n",
            " [ 0.31106693]\n",
            " [-0.322396  ]\n",
            " [ 0.3910426 ]\n",
            " [-0.33973655]\n",
            " [-0.19368806]\n",
            " [-0.31189242]\n",
            " [-0.17138827]\n",
            " [-0.12446189]], b : [0.10503122]\n",
            "==================================================\n",
            "==================================================\n",
            "step : 30, cost : 0.3443860113620758, w : [[-0.30154   ]\n",
            " [ 0.28844368]\n",
            " [-0.42331126]\n",
            " [-0.05029002]\n",
            " [ 0.08227826]\n",
            " [-0.45176762]\n",
            " [-0.08649582]\n",
            " [-0.14044595]\n",
            " [ 0.29577836]\n",
            " [-0.03745012]\n",
            " [-0.25338957]\n",
            " [-0.27112824]\n",
            " [ 0.11869055]\n",
            " [-0.2340073 ]\n",
            " [ 0.27053636]\n",
            " [ 0.29158798]\n",
            " [ 0.3529509 ]\n",
            " [-0.0320227 ]\n",
            " [-0.31915912]\n",
            " [-0.1841052 ]\n",
            " [-0.24624865]\n",
            " [ 0.2673775 ]\n",
            " [ 0.30163422]\n",
            " [-0.33185107]\n",
            " [ 0.38160235]\n",
            " [-0.34889117]\n",
            " [-0.20290862]\n",
            " [-0.32122344]\n",
            " [-0.18076806]\n",
            " [-0.13345769]], b : [0.11449968]\n",
            "==================================================\n",
            "==================================================\n",
            "step : 40, cost : 0.3233957290649414, w : [[-0.31060883]\n",
            " [ 0.27912337]\n",
            " [-0.43233305]\n",
            " [-0.05935249]\n",
            " [ 0.07361039]\n",
            " [-0.46003404]\n",
            " [-0.09511731]\n",
            " [-0.14926997]\n",
            " [ 0.28733656]\n",
            " [-0.0390138 ]\n",
            " [-0.2623384 ]\n",
            " [-0.27949163]\n",
            " [ 0.10986628]\n",
            " [-0.2429962 ]\n",
            " [ 0.26159516]\n",
            " [ 0.28469154]\n",
            " [ 0.3458075 ]\n",
            " [-0.04013264]\n",
            " [-0.30822566]\n",
            " [-0.1858197 ]\n",
            " [-0.2553552 ]\n",
            " [ 0.25804844]\n",
            " [ 0.29258436]\n",
            " [-0.3409394 ]\n",
            " [ 0.3725567 ]\n",
            " [-0.3574488 ]\n",
            " [-0.21157956]\n",
            " [-0.33009148]\n",
            " [-0.18971838]\n",
            " [-0.1417203 ]], b : [0.12358626]\n",
            "==================================================\n",
            "==================================================\n",
            "step : 50, cost : 0.3054375946521759, w : [[-0.31928626]\n",
            " [ 0.27009156]\n",
            " [-0.44094408]\n",
            " [-0.06802186]\n",
            " [ 0.06551599]\n",
            " [-0.46754023]\n",
            " [-0.10314555]\n",
            " [-0.1575973 ]\n",
            " [ 0.279576  ]\n",
            " [-0.03592877]\n",
            " [-0.2708539 ]\n",
            " [-0.28721413]\n",
            " [ 0.10152771]\n",
            " [-0.25156942]\n",
            " [ 0.25308594]\n",
            " [ 0.2793032 ]\n",
            " [ 0.34010068]\n",
            " [-0.04739333]\n",
            " [-0.29718354]\n",
            " [-0.18292259]\n",
            " [-0.2640855 ]\n",
            " [ 0.24900593]\n",
            " [ 0.2839338 ]\n",
            " [-0.34964487]\n",
            " [ 0.36392003]\n",
            " [-0.36538833]\n",
            " [-0.21968062]\n",
            " [-0.33847997]\n",
            " [-0.1982276 ]\n",
            " [-0.14922428]], b : [0.13226637]\n",
            "==================================================\n",
            "==================================================\n",
            "step : 60, cost : 0.28985363245010376, w : [[-0.32757318]\n",
            " [ 0.26133934]\n",
            " [-0.44914868]\n",
            " [-0.07630148]\n",
            " [ 0.05795684]\n",
            " [-0.47432658]\n",
            " [-0.11061462]\n",
            " [-0.16545194]\n",
            " [ 0.27245265]\n",
            " [-0.02904229]\n",
            " [-0.27896258]\n",
            " [-0.29441744]\n",
            " [ 0.09364443]\n",
            " [-0.2597466 ]\n",
            " [ 0.2449418 ]\n",
            " [ 0.27536866]\n",
            " [ 0.3357936 ]\n",
            " [-0.0538586 ]\n",
            " [-0.28620273]\n",
            " [-0.1762212 ]\n",
            " [-0.27244422]\n",
            " [ 0.24024199]\n",
            " [ 0.27567488]\n",
            " [-0.35797417]\n",
            " [ 0.35566938]\n",
            " [-0.3727472 ]\n",
            " [-0.22724587]\n",
            " [-0.3464122 ]\n",
            " [-0.2063234 ]\n",
            " [-0.1560357 ]], b : [0.14054576]\n",
            "==================================================\n",
            "==================================================\n",
            "step : 70, cost : 0.2761628329753876, w : [[-0.33547962]\n",
            " [ 0.25284874]\n",
            " [-0.45696115]\n",
            " [-0.0842042 ]\n",
            " [ 0.05087017]\n",
            " [-0.48046803]\n",
            " [-0.11758477]\n",
            " [-0.17287526]\n",
            " [ 0.26588959]\n",
            " [-0.0197165 ]\n",
            " [-0.28670534]\n",
            " [-0.30125827]\n",
            " [ 0.0861698 ]\n",
            " [-0.26755926]\n",
            " [ 0.23707427]\n",
            " [ 0.272718  ]\n",
            " [ 0.3327201 ]\n",
            " [-0.05963475]\n",
            " [-0.27542466]\n",
            " [-0.16707245]\n",
            " [-0.28044596]\n",
            " [ 0.23173942]\n",
            " [ 0.26778919]\n",
            " [-0.36594433]\n",
            " [ 0.34776583]\n",
            " [-0.37958837]\n",
            " [-0.2343341 ]\n",
            " [-0.35392854]\n",
            " [-0.2140496 ]\n",
            " [-0.16226296]], b : [0.14844345]\n",
            "==================================================\n",
            "==================================================\n",
            "step : 80, cost : 0.2640223205089569, w : [[-0.34302106]\n",
            " [ 0.24459913]\n",
            " [-0.46440074]\n",
            " [-0.09174791]\n",
            " [ 0.04419287]\n",
            " [-0.48604384]\n",
            " [-0.12411989]\n",
            " [-0.17991099]\n",
            " [ 0.25980732]\n",
            " [-0.00907866]\n",
            " [-0.29412407]\n",
            " [-0.30787736]\n",
            " [ 0.07905634]\n",
            " [-0.2750411 ]\n",
            " [ 0.22940432]\n",
            " [ 0.27114773]\n",
            " [ 0.33066583]\n",
            " [-0.0648382 ]\n",
            " [-0.26494086]\n",
            " [-0.15662402]\n",
            " [-0.2881101 ]\n",
            " [ 0.22347818]\n",
            " [ 0.26025385]\n",
            " [-0.3735768 ]\n",
            " [ 0.34016943]\n",
            " [-0.38597685]\n",
            " [-0.2410075 ]\n",
            " [-0.36107215]\n",
            " [-0.22145098]\n",
            " [-0.16801572]], b : [0.15598162]\n",
            "==================================================\n",
            "==================================================\n",
            "step : 90, cost : 0.25317636132240295, w : [[-0.35021675]\n",
            " [ 0.23657042]\n",
            " [-0.4714895 ]\n",
            " [-0.09895346]\n",
            " [ 0.03787198]\n",
            " [-0.4911229 ]\n",
            " [-0.13027662]\n",
            " [-0.18659878]\n",
            " [ 0.25413838]\n",
            " [ 0.00215363]\n",
            " [-0.30125588]\n",
            " [-0.31437743]\n",
            " [ 0.07226227]\n",
            " [-0.28222343]\n",
            " [ 0.22187485]\n",
            " [ 0.2704701 ]\n",
            " [ 0.32942405]\n",
            " [-0.0695724 ]\n",
            " [-0.25479612]\n",
            " [-0.14561906]\n",
            " [-0.2954583 ]\n",
            " [ 0.21543851]\n",
            " [ 0.25304452]\n",
            " [-0.38089475]\n",
            " [ 0.3328455 ]\n",
            " [-0.39196938]\n",
            " [-0.2473216 ]\n",
            " [-0.36788252]\n",
            " [-0.228567  ]\n",
            " [-0.17338543]], b : [0.16318162]\n",
            "==================================================\n"
          ],
          "name": "stdout"
        }
      ]
    },
    {
      "cell_type": "code",
      "metadata": {
        "id": "M_K6vsZ6Crej",
        "colab_type": "code",
        "colab": {}
      },
      "source": [
        "X_test = scaler.transform(X_test)"
      ],
      "execution_count": 92,
      "outputs": []
    },
    {
      "cell_type": "code",
      "metadata": {
        "id": "lq4FJjrPEC27",
        "colab_type": "code",
        "colab": {
          "base_uri": "https://localhost:8080/",
          "height": 1000
        },
        "outputId": "6a3e84ce-bcb3-4853-e5cc-38cc92e27216"
      },
      "source": [
        "predict = tf.sigmoid(tf.matmul(X_test, w) + b)\n",
        "predict"
      ],
      "execution_count": 93,
      "outputs": [
        {
          "output_type": "execute_result",
          "data": {
            "text/plain": [
              "<tf.Tensor: id=6684, shape=(114, 1), dtype=float32, numpy=\n",
              "array([[9.69183922e-01],\n",
              "       [9.65933681e-01],\n",
              "       [8.33094120e-04],\n",
              "       [8.12462866e-01],\n",
              "       [3.47795784e-01],\n",
              "       [6.23356998e-01],\n",
              "       [8.87385368e-01],\n",
              "       [9.69012976e-01],\n",
              "       [9.03816044e-01],\n",
              "       [2.52925158e-02],\n",
              "       [4.61363316e-01],\n",
              "       [7.80991316e-01],\n",
              "       [9.66861844e-01],\n",
              "       [1.48350835e-01],\n",
              "       [6.98445499e-01],\n",
              "       [9.02811885e-01],\n",
              "       [9.45297241e-01],\n",
              "       [9.10866022e-01],\n",
              "       [8.64936173e-01],\n",
              "       [8.41703415e-01],\n",
              "       [8.02429199e-01],\n",
              "       [1.01087540e-01],\n",
              "       [2.03429759e-02],\n",
              "       [7.96626687e-01],\n",
              "       [9.05027986e-03],\n",
              "       [9.82642412e-01],\n",
              "       [9.65973973e-01],\n",
              "       [4.92769480e-03],\n",
              "       [2.27499604e-02],\n",
              "       [8.68742466e-01],\n",
              "       [4.40625489e-01],\n",
              "       [8.09839368e-01],\n",
              "       [9.08715606e-01],\n",
              "       [9.00965095e-01],\n",
              "       [9.61908817e-01],\n",
              "       [7.78844833e-01],\n",
              "       [2.11764574e-02],\n",
              "       [3.15155029e-01],\n",
              "       [8.75597358e-01],\n",
              "       [4.73321259e-01],\n",
              "       [9.56616759e-01],\n",
              "       [3.00450742e-01],\n",
              "       [9.49145913e-01],\n",
              "       [9.86972570e-01],\n",
              "       [8.96669328e-02],\n",
              "       [2.58045524e-01],\n",
              "       [9.89100337e-01],\n",
              "       [8.88097048e-01],\n",
              "       [5.12642622e-01],\n",
              "       [8.76141071e-01],\n",
              "       [7.19870865e-01],\n",
              "       [9.82335150e-01],\n",
              "       [9.57646370e-01],\n",
              "       [1.69431567e-02],\n",
              "       [8.54749441e-01],\n",
              "       [8.88086677e-01],\n",
              "       [7.50139296e-01],\n",
              "       [9.13817286e-01],\n",
              "       [3.58427525e-01],\n",
              "       [5.51748455e-01],\n",
              "       [9.22199130e-01],\n",
              "       [9.73749161e-03],\n",
              "       [9.39817429e-01],\n",
              "       [7.91752100e-01],\n",
              "       [1.11343354e-01],\n",
              "       [3.65505755e-01],\n",
              "       [9.70983922e-01],\n",
              "       [4.72689867e-02],\n",
              "       [4.33926225e-01],\n",
              "       [8.66587043e-01],\n",
              "       [8.46313596e-01],\n",
              "       [9.65745151e-01],\n",
              "       [5.96779823e-01],\n",
              "       [4.00401056e-02],\n",
              "       [9.45034385e-01],\n",
              "       [1.36643797e-01],\n",
              "       [8.31173778e-01],\n",
              "       [4.21196729e-01],\n",
              "       [8.87111723e-01],\n",
              "       [1.72251463e-03],\n",
              "       [6.62035465e-01],\n",
              "       [1.52691245e-01],\n",
              "       [8.87966871e-01],\n",
              "       [9.19203937e-01],\n",
              "       [9.25406456e-01],\n",
              "       [4.66472298e-01],\n",
              "       [6.67727828e-01],\n",
              "       [9.23001170e-01],\n",
              "       [1.84774399e-06],\n",
              "       [9.33173180e-01],\n",
              "       [1.92744344e-01],\n",
              "       [2.38791406e-02],\n",
              "       [6.79940283e-02],\n",
              "       [4.78754789e-01],\n",
              "       [7.01848805e-01],\n",
              "       [8.67768109e-01],\n",
              "       [2.08185494e-01],\n",
              "       [5.64767897e-01],\n",
              "       [9.40086246e-01],\n",
              "       [8.28993797e-01],\n",
              "       [9.46438670e-01],\n",
              "       [9.24008906e-01],\n",
              "       [1.42391920e-01],\n",
              "       [7.15692759e-01],\n",
              "       [5.57267308e-01],\n",
              "       [8.70780468e-01],\n",
              "       [2.75641680e-02],\n",
              "       [7.27628529e-01],\n",
              "       [5.39532304e-03],\n",
              "       [9.73182082e-01],\n",
              "       [9.84427273e-01],\n",
              "       [5.92592835e-01],\n",
              "       [8.11620593e-01],\n",
              "       [9.39555943e-01]], dtype=float32)>"
            ]
          },
          "metadata": {
            "tags": []
          },
          "execution_count": 93
        }
      ]
    },
    {
      "cell_type": "code",
      "metadata": {
        "id": "rfwSjv58EKzA",
        "colab_type": "code",
        "colab": {
          "base_uri": "https://localhost:8080/",
          "height": 1000
        },
        "outputId": "48b51ce5-02f0-487e-dc99-d669a33fa279"
      },
      "source": [
        "# tf.cast는 True는 1, False는 0으로 변환\n",
        "predict = tf.cast(predict > 0.5, dtype = tf.float32)\n",
        "predict"
      ],
      "execution_count": 94,
      "outputs": [
        {
          "output_type": "execute_result",
          "data": {
            "text/plain": [
              "<tf.Tensor: id=6687, shape=(114, 1), dtype=float32, numpy=\n",
              "array([[1.],\n",
              "       [1.],\n",
              "       [0.],\n",
              "       [1.],\n",
              "       [0.],\n",
              "       [1.],\n",
              "       [1.],\n",
              "       [1.],\n",
              "       [1.],\n",
              "       [0.],\n",
              "       [0.],\n",
              "       [1.],\n",
              "       [1.],\n",
              "       [0.],\n",
              "       [1.],\n",
              "       [1.],\n",
              "       [1.],\n",
              "       [1.],\n",
              "       [1.],\n",
              "       [1.],\n",
              "       [1.],\n",
              "       [0.],\n",
              "       [0.],\n",
              "       [1.],\n",
              "       [0.],\n",
              "       [1.],\n",
              "       [1.],\n",
              "       [0.],\n",
              "       [0.],\n",
              "       [1.],\n",
              "       [0.],\n",
              "       [1.],\n",
              "       [1.],\n",
              "       [1.],\n",
              "       [1.],\n",
              "       [1.],\n",
              "       [0.],\n",
              "       [0.],\n",
              "       [1.],\n",
              "       [0.],\n",
              "       [1.],\n",
              "       [0.],\n",
              "       [1.],\n",
              "       [1.],\n",
              "       [0.],\n",
              "       [0.],\n",
              "       [1.],\n",
              "       [1.],\n",
              "       [1.],\n",
              "       [1.],\n",
              "       [1.],\n",
              "       [1.],\n",
              "       [1.],\n",
              "       [0.],\n",
              "       [1.],\n",
              "       [1.],\n",
              "       [1.],\n",
              "       [1.],\n",
              "       [0.],\n",
              "       [1.],\n",
              "       [1.],\n",
              "       [0.],\n",
              "       [1.],\n",
              "       [1.],\n",
              "       [0.],\n",
              "       [0.],\n",
              "       [1.],\n",
              "       [0.],\n",
              "       [0.],\n",
              "       [1.],\n",
              "       [1.],\n",
              "       [1.],\n",
              "       [1.],\n",
              "       [0.],\n",
              "       [1.],\n",
              "       [0.],\n",
              "       [1.],\n",
              "       [0.],\n",
              "       [1.],\n",
              "       [0.],\n",
              "       [1.],\n",
              "       [0.],\n",
              "       [1.],\n",
              "       [1.],\n",
              "       [1.],\n",
              "       [0.],\n",
              "       [1.],\n",
              "       [1.],\n",
              "       [0.],\n",
              "       [1.],\n",
              "       [0.],\n",
              "       [0.],\n",
              "       [0.],\n",
              "       [0.],\n",
              "       [1.],\n",
              "       [1.],\n",
              "       [0.],\n",
              "       [1.],\n",
              "       [1.],\n",
              "       [1.],\n",
              "       [1.],\n",
              "       [1.],\n",
              "       [0.],\n",
              "       [1.],\n",
              "       [1.],\n",
              "       [1.],\n",
              "       [0.],\n",
              "       [1.],\n",
              "       [0.],\n",
              "       [1.],\n",
              "       [1.],\n",
              "       [1.],\n",
              "       [1.],\n",
              "       [1.]], dtype=float32)>"
            ]
          },
          "metadata": {
            "tags": []
          },
          "execution_count": 94
        }
      ]
    },
    {
      "cell_type": "code",
      "metadata": {
        "id": "xwW6MIOFEegI",
        "colab_type": "code",
        "colab": {
          "base_uri": "https://localhost:8080/",
          "height": 35
        },
        "outputId": "e1631fd0-5c3d-479f-ba50-465b910a94e9"
      },
      "source": [
        "accuracy = tf.equal(y_test, predict)\n",
        "accuracy = tf.cast(accuracy, dtype = 'float32')\n",
        "accuracy = tf.reduce_mean(accuracy)  # tf.reduce_mean() : 변환한 0과 1의 합을 구한 후에 데이터의 개수로 나눔\n",
        "print('정확도 :', accuracy.numpy())"
      ],
      "execution_count": 95,
      "outputs": [
        {
          "output_type": "stream",
          "text": [
            "정확도 : 0.9035088\n"
          ],
          "name": "stdout"
        }
      ]
    }
  ]
}