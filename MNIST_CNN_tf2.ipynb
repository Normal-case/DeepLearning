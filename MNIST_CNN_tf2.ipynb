{
  "nbformat": 4,
  "nbformat_minor": 0,
  "metadata": {
    "colab": {
      "name": "MNIST_CNN_tf2.ipynb",
      "provenance": [],
      "authorship_tag": "ABX9TyNeVrp7XzgszjEyI9iy5O4P",
      "include_colab_link": true
    },
    "kernelspec": {
      "name": "python3",
      "display_name": "Python 3"
    },
    "accelerator": "GPU"
  },
  "cells": [
    {
      "cell_type": "markdown",
      "metadata": {
        "id": "view-in-github",
        "colab_type": "text"
      },
      "source": [
        "<a href=\"https://colab.research.google.com/github/Normal-case/DeepLearning/blob/master/MNIST_CNN_tf2.ipynb\" target=\"_parent\"><img src=\"https://colab.research.google.com/assets/colab-badge.svg\" alt=\"Open In Colab\"/></a>"
      ]
    },
    {
      "cell_type": "code",
      "metadata": {
        "id": "lT8zhRX3F7UU",
        "colab_type": "code",
        "colab": {}
      },
      "source": [
        "from tensorflow.keras.models import Sequential\n",
        "from tensorflow.keras.layers import Dense, Dropout, Flatten, Conv2D, MaxPooling2D\n",
        "from tensorflow.keras.optimizers import Adam\n",
        "import numpy as np"
      ],
      "execution_count": 1,
      "outputs": []
    },
    {
      "cell_type": "code",
      "metadata": {
        "id": "C_KFbY7wGOvI",
        "colab_type": "code",
        "colab": {
          "base_uri": "https://localhost:8080/",
          "height": 52
        },
        "outputId": "bab46e0c-1241-4398-8186-01a8aa3b1d7d"
      },
      "source": [
        "from keras.datasets import mnist\n",
        "(X_train, y_train), (X_test, y_test) = mnist.load_data()"
      ],
      "execution_count": 2,
      "outputs": [
        {
          "output_type": "stream",
          "text": [
            "Downloading data from https://storage.googleapis.com/tensorflow/tf-keras-datasets/mnist.npz\n",
            "11493376/11490434 [==============================] - 0s 0us/step\n"
          ],
          "name": "stdout"
        }
      ]
    },
    {
      "cell_type": "code",
      "metadata": {
        "id": "VOBC87-AGbMz",
        "colab_type": "code",
        "colab": {
          "base_uri": "https://localhost:8080/",
          "height": 34
        },
        "outputId": "545271ad-6eb9-4521-afcb-62a4b1746ebe"
      },
      "source": [
        "X_train.shape"
      ],
      "execution_count": 3,
      "outputs": [
        {
          "output_type": "execute_result",
          "data": {
            "text/plain": [
              "(60000, 28, 28)"
            ]
          },
          "metadata": {
            "tags": []
          },
          "execution_count": 3
        }
      ]
    },
    {
      "cell_type": "code",
      "metadata": {
        "id": "1jHI4znXGf4T",
        "colab_type": "code",
        "colab": {
          "base_uri": "https://localhost:8080/",
          "height": 34
        },
        "outputId": "0e0cc3cd-fc11-4479-c1ef-3ca063d0e5a5"
      },
      "source": [
        "# X_train 4차원 배열로 변경\n",
        "# X_train.reshape(샘플개수, 샘플줄, 샘플칸, RGB 채널수)\n",
        "# X_train.reshape(-1, 28, 28, 1) : 샘플개수 생략, 줄 28, 칸 28, 채널 개수 1\n",
        "X_train = X_train.reshape(-1, 28, 28, 1)\n",
        "X_train.shape"
      ],
      "execution_count": 4,
      "outputs": [
        {
          "output_type": "execute_result",
          "data": {
            "text/plain": [
              "(60000, 28, 28, 1)"
            ]
          },
          "metadata": {
            "tags": []
          },
          "execution_count": 4
        }
      ]
    },
    {
      "cell_type": "code",
      "metadata": {
        "id": "CUiQrbGVG5LT",
        "colab_type": "code",
        "colab": {
          "base_uri": "https://localhost:8080/",
          "height": 34
        },
        "outputId": "09d6908d-0c3a-4401-d25a-6b2558243c3c"
      },
      "source": [
        "# y_train.reshape() : 1차원 배열을 2차원 배열로 변환\n",
        "# y_train.reshape(1, -1) : 2차원 배열로 변환 => 1행으로만 구성\n",
        "# y_train.reshape(-1, 1) : 2차원 배열로 변환 => 1열로만 구성\n",
        "y_train = y_train.reshape(-1, 1)\n",
        "y_train.shape"
      ],
      "execution_count": 5,
      "outputs": [
        {
          "output_type": "execute_result",
          "data": {
            "text/plain": [
              "(60000, 1)"
            ]
          },
          "metadata": {
            "tags": []
          },
          "execution_count": 5
        }
      ]
    },
    {
      "cell_type": "code",
      "metadata": {
        "id": "QwFO5-OZHU1r",
        "colab_type": "code",
        "colab": {
          "base_uri": "https://localhost:8080/",
          "height": 34
        },
        "outputId": "ca89c0e5-77ce-418d-d66f-2c630219f79e"
      },
      "source": [
        "X_test.shape"
      ],
      "execution_count": 6,
      "outputs": [
        {
          "output_type": "execute_result",
          "data": {
            "text/plain": [
              "(10000, 28, 28)"
            ]
          },
          "metadata": {
            "tags": []
          },
          "execution_count": 6
        }
      ]
    },
    {
      "cell_type": "code",
      "metadata": {
        "id": "QFaZ5DwcHeNS",
        "colab_type": "code",
        "colab": {
          "base_uri": "https://localhost:8080/",
          "height": 34
        },
        "outputId": "c6e7c5fa-a369-4575-9514-5cc8ec84455b"
      },
      "source": [
        "X_test = X_test.reshape(-1, 28, 28, 1)\n",
        "X_test.shape"
      ],
      "execution_count": 7,
      "outputs": [
        {
          "output_type": "execute_result",
          "data": {
            "text/plain": [
              "(10000, 28, 28, 1)"
            ]
          },
          "metadata": {
            "tags": []
          },
          "execution_count": 7
        }
      ]
    },
    {
      "cell_type": "code",
      "metadata": {
        "id": "y4w2k9hVHkyj",
        "colab_type": "code",
        "colab": {
          "base_uri": "https://localhost:8080/",
          "height": 141
        },
        "outputId": "1684e2f9-922d-44d7-d264-a56bbcabaa57"
      },
      "source": [
        "y_test = y_test.reshape(-1, 1)\n",
        "y_test"
      ],
      "execution_count": 8,
      "outputs": [
        {
          "output_type": "execute_result",
          "data": {
            "text/plain": [
              "array([[7],\n",
              "       [2],\n",
              "       [1],\n",
              "       ...,\n",
              "       [4],\n",
              "       [5],\n",
              "       [6]], dtype=uint8)"
            ]
          },
          "metadata": {
            "tags": []
          },
          "execution_count": 8
        }
      ]
    },
    {
      "cell_type": "code",
      "metadata": {
        "id": "c04PNzeiHpZD",
        "colab_type": "code",
        "colab": {
          "base_uri": "https://localhost:8080/",
          "height": 52
        },
        "outputId": "528f5fac-269a-4e27-aaf1-8181375b56b8"
      },
      "source": [
        "print('학습셋 이미지 수 : {}개'.format(X_train.shape[0]))\n",
        "print('테스트셋 이미지 수 : {}개'.format(X_test.shape[0]))"
      ],
      "execution_count": 9,
      "outputs": [
        {
          "output_type": "stream",
          "text": [
            "학습셋 이미지 수 : 60000개\n",
            "테스트셋 이미지 수 : 10000개\n"
          ],
          "name": "stdout"
        }
      ]
    },
    {
      "cell_type": "code",
      "metadata": {
        "id": "nYNebzxuHy47",
        "colab_type": "code",
        "colab": {
          "base_uri": "https://localhost:8080/",
          "height": 52
        },
        "outputId": "3365c7b0-7277-49a0-effa-3432bbcdeef0"
      },
      "source": [
        "from sklearn.preprocessing import OneHotEncoder\n",
        "enc = OneHotEncoder()\n",
        "enc.fit(y_train)"
      ],
      "execution_count": 10,
      "outputs": [
        {
          "output_type": "execute_result",
          "data": {
            "text/plain": [
              "OneHotEncoder(categories='auto', drop=None, dtype=<class 'numpy.float64'>,\n",
              "              handle_unknown='error', sparse=True)"
            ]
          },
          "metadata": {
            "tags": []
          },
          "execution_count": 10
        }
      ]
    },
    {
      "cell_type": "code",
      "metadata": {
        "id": "PXWdJyaCH8qT",
        "colab_type": "code",
        "colab": {
          "base_uri": "https://localhost:8080/",
          "height": 141
        },
        "outputId": "d1ab10f2-1b73-45e4-a91c-a430b27bdabe"
      },
      "source": [
        "y_train_onehot = enc.transform(y_train).toarray()\n",
        "y_train_onehot"
      ],
      "execution_count": 11,
      "outputs": [
        {
          "output_type": "execute_result",
          "data": {
            "text/plain": [
              "array([[0., 0., 0., ..., 0., 0., 0.],\n",
              "       [1., 0., 0., ..., 0., 0., 0.],\n",
              "       [0., 0., 0., ..., 0., 0., 0.],\n",
              "       ...,\n",
              "       [0., 0., 0., ..., 0., 0., 0.],\n",
              "       [0., 0., 0., ..., 0., 0., 0.],\n",
              "       [0., 0., 0., ..., 0., 1., 0.]])"
            ]
          },
          "metadata": {
            "tags": []
          },
          "execution_count": 11
        }
      ]
    },
    {
      "cell_type": "code",
      "metadata": {
        "id": "QpeYrIRmIE17",
        "colab_type": "code",
        "colab": {}
      },
      "source": [
        "y_train_onehot = np.array(y_train_onehot, dtype = 'float32')"
      ],
      "execution_count": 12,
      "outputs": []
    },
    {
      "cell_type": "code",
      "metadata": {
        "id": "ypFm_SWOINBT",
        "colab_type": "code",
        "colab": {
          "base_uri": "https://localhost:8080/",
          "height": 141
        },
        "outputId": "d5569450-d486-458a-f36c-60989c071048"
      },
      "source": [
        "y_test_onehot = np.array(enc.transform(y_test).toarray(), dtype = 'float32')\n",
        "y_test_onehot"
      ],
      "execution_count": 13,
      "outputs": [
        {
          "output_type": "execute_result",
          "data": {
            "text/plain": [
              "array([[0., 0., 0., ..., 1., 0., 0.],\n",
              "       [0., 0., 1., ..., 0., 0., 0.],\n",
              "       [0., 1., 0., ..., 0., 0., 0.],\n",
              "       ...,\n",
              "       [0., 0., 0., ..., 0., 0., 0.],\n",
              "       [0., 0., 0., ..., 0., 0., 0.],\n",
              "       [0., 0., 0., ..., 0., 0., 0.]], dtype=float32)"
            ]
          },
          "metadata": {
            "tags": []
          },
          "execution_count": 13
        }
      ]
    },
    {
      "cell_type": "code",
      "metadata": {
        "id": "6TGn-JCQIWnj",
        "colab_type": "code",
        "colab": {}
      },
      "source": [
        "model = Sequential()\n",
        "'''\n",
        "Conv2D() : 합성곱 연산을 수행\n",
        "Conv2D(필터개수, kernel_size = (필터줄, 필터칸), input_shape = (이미지줄, 이미지칸, 컬러3흑백1),\n",
        "       strides = 이동칸수, activation = '활성함수', padding = 'SAME)\n",
        "'''\n",
        "model.add(Conv2D(32, kernel_size = (3, 3), strides = 1,\\\n",
        "                 input_shape = (28, 28, 1), activation = 'relu', padding = 'SAME'))\n",
        "model.add(Conv2D(64, kernel_size = (3, 3), strides = 1, activation = 'relu', padding = 'SAME'))\n",
        "# 맥스풀링 연산 수행\n",
        "model.add(MaxPooling2D(pool_size = 2, strides = 1, padding = 'SAME'))\n",
        "# 선형회귀를 하기 위해서 합성곱 연산을 수행한 결과를 1차원 배열로 변환\n",
        "model.add(Flatten())"
      ],
      "execution_count": 14,
      "outputs": []
    },
    {
      "cell_type": "code",
      "metadata": {
        "id": "mGDfsrDqJslB",
        "colab_type": "code",
        "colab": {}
      },
      "source": [
        "# 선형회귀 수행\n",
        "model.add(Dense(512, activation='relu'))"
      ],
      "execution_count": 15,
      "outputs": []
    },
    {
      "cell_type": "code",
      "metadata": {
        "id": "Qb8Dh_WFLy7t",
        "colab_type": "code",
        "colab": {}
      },
      "source": [
        "model.add(Dense(10, activation = 'softmax'))"
      ],
      "execution_count": 16,
      "outputs": []
    },
    {
      "cell_type": "code",
      "metadata": {
        "id": "J9z7hKxuL5eU",
        "colab_type": "code",
        "colab": {
          "base_uri": "https://localhost:8080/",
          "height": 372
        },
        "outputId": "a8ab85a1-225e-4962-973a-2c4811eab00c"
      },
      "source": [
        "model.summary()"
      ],
      "execution_count": 17,
      "outputs": [
        {
          "output_type": "stream",
          "text": [
            "Model: \"sequential\"\n",
            "_________________________________________________________________\n",
            "Layer (type)                 Output Shape              Param #   \n",
            "=================================================================\n",
            "conv2d (Conv2D)              (None, 28, 28, 32)        320       \n",
            "_________________________________________________________________\n",
            "conv2d_1 (Conv2D)            (None, 28, 28, 64)        18496     \n",
            "_________________________________________________________________\n",
            "max_pooling2d (MaxPooling2D) (None, 28, 28, 64)        0         \n",
            "_________________________________________________________________\n",
            "flatten (Flatten)            (None, 50176)             0         \n",
            "_________________________________________________________________\n",
            "dense (Dense)                (None, 512)               25690624  \n",
            "_________________________________________________________________\n",
            "dense_1 (Dense)              (None, 10)                5130      \n",
            "=================================================================\n",
            "Total params: 25,714,570\n",
            "Trainable params: 25,714,570\n",
            "Non-trainable params: 0\n",
            "_________________________________________________________________\n"
          ],
          "name": "stdout"
        }
      ]
    },
    {
      "cell_type": "code",
      "metadata": {
        "id": "WWerp_pML6bk",
        "colab_type": "code",
        "colab": {}
      },
      "source": [
        "model.compile(loss = 'categorical_crossentropy', optimizer=Adam(lr = 0.001), metrics = ['acc'])"
      ],
      "execution_count": 19,
      "outputs": []
    },
    {
      "cell_type": "code",
      "metadata": {
        "id": "ot7dcxNwMI97",
        "colab_type": "code",
        "colab": {
          "base_uri": "https://localhost:8080/",
          "height": 230
        },
        "outputId": "1df5c3d8-3db5-4be4-c031-41ed3469a4f1"
      },
      "source": [
        "model.fit(X_train, y_train_onehot, epochs = 5, batch_size = 100)"
      ],
      "execution_count": 20,
      "outputs": [
        {
          "output_type": "stream",
          "text": [
            "Epoch 1/5\n",
            "  1/600 [..............................] - ETA: 0s - loss: 18.7170 - acc: 0.0900WARNING:tensorflow:Callbacks method `on_train_batch_end` is slow compared to the batch time (batch time: 0.0083s vs `on_train_batch_end` time: 0.0170s). Check your callbacks.\n",
            "600/600 [==============================] - 12s 19ms/step - loss: 3.8875 - acc: 0.9445\n",
            "Epoch 2/5\n",
            "600/600 [==============================] - 12s 19ms/step - loss: 0.0413 - acc: 0.9868\n",
            "Epoch 3/5\n",
            "600/600 [==============================] - 12s 20ms/step - loss: 0.0303 - acc: 0.9906\n",
            "Epoch 4/5\n",
            "600/600 [==============================] - 12s 19ms/step - loss: 0.0206 - acc: 0.9938\n",
            "Epoch 5/5\n",
            "600/600 [==============================] - 12s 19ms/step - loss: 0.0253 - acc: 0.9926\n"
          ],
          "name": "stdout"
        },
        {
          "output_type": "execute_result",
          "data": {
            "text/plain": [
              "<tensorflow.python.keras.callbacks.History at 0x7f58103515f8>"
            ]
          },
          "metadata": {
            "tags": []
          },
          "execution_count": 20
        }
      ]
    },
    {
      "cell_type": "code",
      "metadata": {
        "id": "B_DlIGF4MWJb",
        "colab_type": "code",
        "colab": {
          "base_uri": "https://localhost:8080/",
          "height": 34
        },
        "outputId": "1ad92a8a-85a5-47f5-faa8-cf2792ccd578"
      },
      "source": [
        "predict = np.argmax(model.predict(X_test), 1)\n",
        "predict"
      ],
      "execution_count": 21,
      "outputs": [
        {
          "output_type": "execute_result",
          "data": {
            "text/plain": [
              "array([7, 2, 1, ..., 4, 5, 6])"
            ]
          },
          "metadata": {
            "tags": []
          },
          "execution_count": 21
        }
      ]
    },
    {
      "cell_type": "code",
      "metadata": {
        "id": "KWpWLXZkMvPM",
        "colab_type": "code",
        "colab": {
          "base_uri": "https://localhost:8080/",
          "height": 141
        },
        "outputId": "417233e9-d484-42b8-cbe6-0d52ef1d80fc"
      },
      "source": [
        "y_test_onehot"
      ],
      "execution_count": 22,
      "outputs": [
        {
          "output_type": "execute_result",
          "data": {
            "text/plain": [
              "array([[0., 0., 0., ..., 1., 0., 0.],\n",
              "       [0., 0., 1., ..., 0., 0., 0.],\n",
              "       [0., 1., 0., ..., 0., 0., 0.],\n",
              "       ...,\n",
              "       [0., 0., 0., ..., 0., 0., 0.],\n",
              "       [0., 0., 0., ..., 0., 0., 0.],\n",
              "       [0., 0., 0., ..., 0., 0., 0.]], dtype=float32)"
            ]
          },
          "metadata": {
            "tags": []
          },
          "execution_count": 22
        }
      ]
    },
    {
      "cell_type": "code",
      "metadata": {
        "id": "9TwUrLE_MyhD",
        "colab_type": "code",
        "colab": {
          "base_uri": "https://localhost:8080/",
          "height": 34
        },
        "outputId": "9ce3a9ae-c8f9-4d8d-df24-6e0e4b4155cf"
      },
      "source": [
        "# np.argmax(y_test, 1) : y_test 최대값의 인덱스를 리턴\n",
        "# 1 : 각 줄에서 최대 값의 인덱스를 리턴\n",
        "target = np.argmax(y_test_onehot, 1)\n",
        "target"
      ],
      "execution_count": 23,
      "outputs": [
        {
          "output_type": "execute_result",
          "data": {
            "text/plain": [
              "array([7, 2, 1, ..., 4, 5, 6])"
            ]
          },
          "metadata": {
            "tags": []
          },
          "execution_count": 23
        }
      ]
    },
    {
      "cell_type": "code",
      "metadata": {
        "id": "mtcYdR6aM_Rj",
        "colab_type": "code",
        "colab": {
          "base_uri": "https://localhost:8080/",
          "height": 34
        },
        "outputId": "4e3d2b13-ff05-4a90-aa8a-0c1648e76f45"
      },
      "source": [
        "predict = (predict == target)\n",
        "accuracy = np.sum(predict) / len(predict)\n",
        "print('정확도 :', accuracy)"
      ],
      "execution_count": 24,
      "outputs": [
        {
          "output_type": "stream",
          "text": [
            "정확도 : 0.9805\n"
          ],
          "name": "stdout"
        }
      ]
    },
    {
      "cell_type": "code",
      "metadata": {
        "id": "VRIZ-zQCNMcL",
        "colab_type": "code",
        "colab": {
          "base_uri": "https://localhost:8080/",
          "height": 700
        },
        "outputId": "0e232258-b3f0-4602-fc75-78abf11152b1"
      },
      "source": [
        "import matplotlib.pyplot as plt\n",
        "\n",
        "plt.style.use('ggplot')\n",
        "fig = plt.figure(figsize = (30, 20))\n",
        "for i in range(30):\n",
        "  # 6줄 5칸으로 나누고 i+1번째 이미지를 그림\n",
        "  subplot = fig.add_subplot(6, 5, i + 1)\n",
        "  # x축을 설정하는 객체 - 데이터가 없으므로 아무 데이터도 출력안하게함\n",
        "  subplot.set_xticks([])\n",
        "  # y축 역시 아무 데이터도 출력안되게 함\n",
        "  subplot.set_yticks([])\n",
        "  # 이미지 제목으로 예측한 이미지의 이름 출력\n",
        "  subplot.set_title('predict : %d'% np.argmax(model.predict(X_test), 1)[i], fontsize = 20)\n",
        "  # 이미지 출력\n",
        "  subplot.imshow(X_test[i].reshape((28, 28)),\n",
        "                 cmap = plt.cm.gray_r)\n",
        "plt.show()"
      ],
      "execution_count": 29,
      "outputs": [
        {
          "output_type": "display_data",
          "data": {
            "image/png": "[encoded data removed]",
            "text/plain": [
              "<Figure size 2160x1440 with 30 Axes>"
            ]
          },
          "metadata": {
            "tags": []
          }
        }
      ]
    },
    {
      "cell_type": "code",
      "metadata": {
        "id": "bgcbbnTNOFJ1",
        "colab_type": "code",
        "colab": {}
      },
      "source": [
        ""
      ],
      "execution_count": null,
      "outputs": []
    }
  ]
}