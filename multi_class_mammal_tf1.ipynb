{
  "nbformat": 4,
  "nbformat_minor": 0,
  "metadata": {
    "colab": {
      "name": "multi_class_mammal_tf1.ipynb",
      "provenance": [],
      "collapsed_sections": [],
      "authorship_tag": "ABX9TyN1rBytJh/r8BbRRnaDUpvm",
      "include_colab_link": true
    },
    "kernelspec": {
      "name": "python3",
      "display_name": "Python 3"
    }
  },
  "cells": [
    {
      "cell_type": "markdown",
      "metadata": {
        "id": "view-in-github",
        "colab_type": "text"
      },
      "source": [
        "<a href=\"https://colab.research.google.com/github/Normal-case/DeepLearning/blob/master/multi_class_mammal_tf1.ipynb\" target=\"_parent\"><img src=\"https://colab.research.google.com/assets/colab-badge.svg\" alt=\"Open In Colab\"/></a>"
      ]
    },
    {
      "cell_type": "code",
      "metadata": {
        "id": "UESzZlh28qDn",
        "colab_type": "code",
        "colab": {
          "base_uri": "https://localhost:8080/",
          "height": 34
        },
        "outputId": "513ea438-ca64-4a44-c5c3-29a9635c4d72"
      },
      "source": [
        "%tensorflow_version 1.x"
      ],
      "execution_count": 1,
      "outputs": [
        {
          "output_type": "stream",
          "text": [
            "TensorFlow 1.x selected.\n"
          ],
          "name": "stdout"
        }
      ]
    },
    {
      "cell_type": "code",
      "metadata": {
        "id": "W0ZQJM_c8ul9",
        "colab_type": "code",
        "colab": {}
      },
      "source": [
        "import numpy as np\n",
        "from tensorflow.nn import relu\n",
        "import tensorflow as tf\n",
        "tf.enable_eager_execution()"
      ],
      "execution_count": 2,
      "outputs": []
    },
    {
      "cell_type": "code",
      "metadata": {
        "id": "lcFyiByr9W_I",
        "colab_type": "code",
        "colab": {}
      },
      "source": [
        "# [털, 날개]\n",
        "X = np.array([\n",
        "    [0, 0],\n",
        "    [1, 0],\n",
        "    [1, 1],\n",
        "    [0, 0],\n",
        "    [0, 1]]\n",
        ", dtype = 'float32')\n",
        "\n",
        "# [기타, 포유류, 조류]\n",
        "y = np.array([\n",
        "              [1, 0, 0],\n",
        "              [0, 1, 0],\n",
        "              [0, 0, 1],\n",
        "              [1, 0, 0],\n",
        "              [0, 0, 1]\n",
        "], dtype = 'float32')"
      ],
      "execution_count": 4,
      "outputs": []
    },
    {
      "cell_type": "code",
      "metadata": {
        "id": "kl8laeLS90xf",
        "colab_type": "code",
        "colab": {
          "base_uri": "https://localhost:8080/",
          "height": 123
        },
        "outputId": "56ead2c6-45fa-4009-8ea4-ea50aa810435"
      },
      "source": [
        "# w와 b를 초기화 시키는 객체\n",
        "initializer = tf.contrib.layers.xavier_initializer()\n",
        "\n",
        "# 2줄 10칸의 w0를 생성해서 리턴\n",
        "w0 = tf.Variable(initializer([2, 10]))\n",
        "w0"
      ],
      "execution_count": 5,
      "outputs": [
        {
          "output_type": "execute_result",
          "data": {
            "text/plain": [
              "<tf.Variable 'Variable:0' shape=(2, 10) dtype=float32, numpy=\n",
              "array([[-0.4175783 , -0.06171697,  0.6162849 ,  0.4355275 ,  0.15203786,\n",
              "        -0.6821516 , -0.37061357, -0.47303683,  0.65204173, -0.09030688],\n",
              "       [-0.52914524, -0.1592561 ,  0.01566511, -0.40426397, -0.13233286,\n",
              "        -0.42604142,  0.4311388 ,  0.42323035, -0.16827941,  0.23354733]],\n",
              "      dtype=float32)>"
            ]
          },
          "metadata": {
            "tags": []
          },
          "execution_count": 5
        }
      ]
    },
    {
      "cell_type": "code",
      "metadata": {
        "id": "1fKRcyPu-Sia",
        "colab_type": "code",
        "colab": {
          "base_uri": "https://localhost:8080/",
          "height": 87
        },
        "outputId": "db8accf7-de77-42fd-9e6b-6e7d25600be9"
      },
      "source": [
        "b0 = tf.Variable(initializer([10]))\n",
        "b0"
      ],
      "execution_count": 6,
      "outputs": [
        {
          "output_type": "execute_result",
          "data": {
            "text/plain": [
              "<tf.Variable 'Variable:0' shape=(10,) dtype=float32, numpy=\n",
              "array([-0.12048748,  0.29545778,  0.36400592, -0.5396929 ,  0.14219958,\n",
              "       -0.42671496,  0.34831977, -0.29584318, -0.1431146 , -0.25261593],\n",
              "      dtype=float32)>"
            ]
          },
          "metadata": {
            "tags": []
          },
          "execution_count": 6
        }
      ]
    },
    {
      "cell_type": "code",
      "metadata": {
        "id": "kPa_XT_C-WdI",
        "colab_type": "code",
        "colab": {}
      },
      "source": [
        "w1 = tf.Variable(initializer([10, 3]))\n",
        "b1 = tf.Variable(initializer([3]))"
      ],
      "execution_count": 7,
      "outputs": []
    },
    {
      "cell_type": "code",
      "metadata": {
        "id": "qGdSGD9f-1IB",
        "colab_type": "code",
        "colab": {
          "base_uri": "https://localhost:8080/",
          "height": 230
        },
        "outputId": "e0a8cb9e-e421-4ccf-dd28-93bfee8a7a40"
      },
      "source": [
        "tf.matmul(X, w0) + b0"
      ],
      "execution_count": 8,
      "outputs": [
        {
          "output_type": "execute_result",
          "data": {
            "text/plain": [
              "<tf.Tensor: id=61, shape=(5, 10), dtype=float32, numpy=\n",
              "array([[-0.12048748,  0.29545778,  0.36400592, -0.5396929 ,  0.14219958,\n",
              "        -0.42671496,  0.34831977, -0.29584318, -0.1431146 , -0.25261593],\n",
              "       [-0.5380658 ,  0.2337408 ,  0.98029083, -0.10416538,  0.29423743,\n",
              "        -1.1088666 , -0.02229381, -0.76888   ,  0.5089271 , -0.3429228 ],\n",
              "       [-1.067211  ,  0.07448471,  0.99595594, -0.50842935,  0.16190457,\n",
              "        -1.534908  ,  0.408845  , -0.34564966,  0.34064773, -0.10937548],\n",
              "       [-0.12048748,  0.29545778,  0.36400592, -0.5396929 ,  0.14219958,\n",
              "        -0.42671496,  0.34831977, -0.29584318, -0.1431146 , -0.25261593],\n",
              "       [-0.6496327 ,  0.13620168,  0.37967104, -0.94395685,  0.00986671,\n",
              "        -0.8527564 ,  0.7794586 ,  0.12738717, -0.311394  , -0.0190686 ]],\n",
              "      dtype=float32)>"
            ]
          },
          "metadata": {
            "tags": []
          },
          "execution_count": 8
        }
      ]
    },
    {
      "cell_type": "code",
      "metadata": {
        "id": "pns99lct-3Ug",
        "colab_type": "code",
        "colab": {
          "base_uri": "https://localhost:8080/",
          "height": 230
        },
        "outputId": "924a15ae-0117-4f31-bbce-43c00f2a20db"
      },
      "source": [
        "hypothesis0 = tf.sigmoid(tf.matmul(X, w0) + b0)\n",
        "hypothesis0"
      ],
      "execution_count": 9,
      "outputs": [
        {
          "output_type": "execute_result",
          "data": {
            "text/plain": [
              "<tf.Tensor: id=67, shape=(5, 10), dtype=float32, numpy=\n",
              "array([[0.46991453, 0.5733318 , 0.5900098 , 0.36825904, 0.5354901 ,\n",
              "        0.39491105, 0.5862101 , 0.42657396, 0.4642823 , 0.43717974],\n",
              "       [0.36863765, 0.5581706 , 0.72716594, 0.4739822 , 0.5730332 ,\n",
              "        0.24808228, 0.4944268 , 0.31672144, 0.62455493, 0.41509968],\n",
              "       [0.25593382, 0.51861256, 0.7302627 , 0.3755618 , 0.5403879 ,\n",
              "        0.17727673, 0.6008109 , 0.41443777, 0.58434784, 0.47268337],\n",
              "       [0.46991453, 0.5733318 , 0.5900098 , 0.36825904, 0.5354901 ,\n",
              "        0.39491105, 0.5862101 , 0.42657396, 0.4642823 , 0.43717974],\n",
              "       [0.34307235, 0.5339979 , 0.59379375, 0.28010178, 0.5024667 ,\n",
              "        0.29885498, 0.6855634 , 0.5318038 , 0.4227745 , 0.495233  ]],\n",
              "      dtype=float32)>"
            ]
          },
          "metadata": {
            "tags": []
          },
          "execution_count": 9
        }
      ]
    },
    {
      "cell_type": "code",
      "metadata": {
        "id": "cSAWZe1C_AMA",
        "colab_type": "code",
        "colab": {
          "base_uri": "https://localhost:8080/",
          "height": 123
        },
        "outputId": "3c71bc65-549b-4b06-fd25-1de41ed312d2"
      },
      "source": [
        "hypothesis1 = tf.nn.softmax(tf.matmul(hypothesis0, w1) + b1)\n",
        "hypothesis1"
      ],
      "execution_count": 10,
      "outputs": [
        {
          "output_type": "execute_result",
          "data": {
            "text/plain": [
              "<tf.Tensor: id=72, shape=(5, 3), dtype=float32, numpy=\n",
              "array([[0.28965208, 0.19086848, 0.51947945],\n",
              "       [0.27646866, 0.12282573, 0.6007056 ],\n",
              "       [0.24316765, 0.13433737, 0.622495  ],\n",
              "       [0.28965208, 0.19086848, 0.51947945],\n",
              "       [0.25334376, 0.20229813, 0.5443581 ]], dtype=float32)>"
            ]
          },
          "metadata": {
            "tags": []
          },
          "execution_count": 10
        }
      ]
    },
    {
      "cell_type": "code",
      "metadata": {
        "id": "yg1Of-K4_Jm2",
        "colab_type": "code",
        "colab": {
          "base_uri": "https://localhost:8080/",
          "height": 34
        },
        "outputId": "b9e2f917-98b0-4818-c15e-10fed601e274"
      },
      "source": [
        "cost = -tf.reduce_sum(y * tf.log(hypothesis1)) / len(hypothesis1)\n",
        "cost"
      ],
      "execution_count": 11,
      "outputs": [
        {
          "output_type": "execute_result",
          "data": {
            "text/plain": [
              "<tf.Tensor: id=80, shape=(), dtype=float32, numpy=1.1314611>"
            ]
          },
          "metadata": {
            "tags": []
          },
          "execution_count": 11
        }
      ]
    },
    {
      "cell_type": "code",
      "metadata": {
        "id": "GGz7qa7D_XFQ",
        "colab_type": "code",
        "colab": {}
      },
      "source": [
        "optimizer = tf.train.AdamOptimizer(0.01)"
      ],
      "execution_count": 12,
      "outputs": []
    },
    {
      "cell_type": "code",
      "metadata": {
        "id": "ztW7Bpt8_bvJ",
        "colab_type": "code",
        "colab": {
          "base_uri": "https://localhost:8080/",
          "height": 798
        },
        "outputId": "bf932ea0-1659-4659-c084-c20ed95c32ac"
      },
      "source": [
        "for step in range(1001):\n",
        "  with tf.GradientTape() as tape:\n",
        "    hypothesis0 = tf.sigmoid(tf.matmul(X, w0) + b0)\n",
        "    hypothesis1 = tf.nn.softmax(tf.matmul(hypothesis0, w1) + b1)\n",
        "    cost = -tf.reduce_sum(y * tf.log(hypothesis1)) / len(hypothesis1)\n",
        "    grads = tape.gradient(cost, [w0, w1, b0, b1])\n",
        "    optimizer.apply_gradients(grads_and_vars=zip(grads, [w0, w1, b0, b1]))\n",
        "\n",
        "    if step % 100 == 0:\n",
        "      print('='*50)\n",
        "      print('step: {}, cost:\\n{}'.format(step, cost.numpy()))\n",
        "      print('='*50)"
      ],
      "execution_count": 14,
      "outputs": [
        {
          "output_type": "stream",
          "text": [
            "==================================================\n",
            "step: 0, cost:\n",
            "1.1080396175384521\n",
            "==================================================\n",
            "==================================================\n",
            "step: 100, cost:\n",
            "0.3113147020339966\n",
            "==================================================\n",
            "==================================================\n",
            "step: 200, cost:\n",
            "0.05036880448460579\n",
            "==================================================\n",
            "==================================================\n",
            "step: 300, cost:\n",
            "0.018296241760253906\n",
            "==================================================\n",
            "==================================================\n",
            "step: 400, cost:\n",
            "0.009453849866986275\n",
            "==================================================\n",
            "==================================================\n",
            "step: 500, cost:\n",
            "0.005783686880022287\n",
            "==================================================\n",
            "==================================================\n",
            "step: 600, cost:\n",
            "0.003912525717169046\n",
            "==================================================\n",
            "==================================================\n",
            "step: 700, cost:\n",
            "0.0028295794036239386\n",
            "==================================================\n",
            "==================================================\n",
            "step: 800, cost:\n",
            "0.0021454908419400454\n",
            "==================================================\n",
            "==================================================\n",
            "step: 900, cost:\n",
            "0.00168460828717798\n",
            "==================================================\n",
            "==================================================\n",
            "step: 1000, cost:\n",
            "0.001358583802357316\n",
            "==================================================\n"
          ],
          "name": "stdout"
        }
      ]
    },
    {
      "cell_type": "code",
      "metadata": {
        "id": "QHodYlkZAFCW",
        "colab_type": "code",
        "colab": {
          "base_uri": "https://localhost:8080/",
          "height": 105
        },
        "outputId": "ece21cfc-7b26-4f08-910b-794291fb144a"
      },
      "source": [
        "predict = tf.nn.softmax(tf.matmul(tf.sigmoid(tf.matmul(X, w0) + b0), w1) + b1)\n",
        "np.round(predict, 3)"
      ],
      "execution_count": 18,
      "outputs": [
        {
          "output_type": "execute_result",
          "data": {
            "text/plain": [
              "array([[0.999, 0.001, 0.   ],\n",
              "       [0.001, 0.997, 0.001],\n",
              "       [0.   , 0.001, 0.999],\n",
              "       [0.999, 0.001, 0.   ],\n",
              "       [0.001, 0.   , 0.999]], dtype=float32)"
            ]
          },
          "metadata": {
            "tags": []
          },
          "execution_count": 18
        }
      ]
    },
    {
      "cell_type": "code",
      "metadata": {
        "id": "FyNYtiw4Exjb",
        "colab_type": "code",
        "colab": {
          "base_uri": "https://localhost:8080/",
          "height": 34
        },
        "outputId": "b4ba2cbd-38e9-4a97-c430-ed8a4841e769"
      },
      "source": [
        "# predict 최대값의 인덱스를 리턴\n",
        "predict01 = tf.argmax(predict, 1)\n",
        "predict01"
      ],
      "execution_count": 19,
      "outputs": [
        {
          "output_type": "execute_result",
          "data": {
            "text/plain": [
              "<tf.Tensor: id=82377, shape=(5,), dtype=int64, numpy=array([0, 1, 2, 0, 2])>"
            ]
          },
          "metadata": {
            "tags": []
          },
          "execution_count": 19
        }
      ]
    },
    {
      "cell_type": "code",
      "metadata": {
        "id": "JHcV6fFEFJQw",
        "colab_type": "code",
        "colab": {
          "base_uri": "https://localhost:8080/",
          "height": 34
        },
        "outputId": "a3891696-c62b-44fe-f148-fc9eeed8b041"
      },
      "source": [
        "target = tf.argmax(y, 1)\n",
        "target"
      ],
      "execution_count": 20,
      "outputs": [
        {
          "output_type": "execute_result",
          "data": {
            "text/plain": [
              "<tf.Tensor: id=82380, shape=(5,), dtype=int64, numpy=array([0, 1, 2, 0, 2])>"
            ]
          },
          "metadata": {
            "tags": []
          },
          "execution_count": 20
        }
      ]
    },
    {
      "cell_type": "code",
      "metadata": {
        "id": "0cr3Gr2HFZT6",
        "colab_type": "code",
        "colab": {
          "base_uri": "https://localhost:8080/",
          "height": 34
        },
        "outputId": "d9a6d222-a2f4-4317-d87f-4785403575d1"
      },
      "source": [
        "ac01 = tf.equal(predict01, target)\n",
        "ac01"
      ],
      "execution_count": 21,
      "outputs": [
        {
          "output_type": "execute_result",
          "data": {
            "text/plain": [
              "<tf.Tensor: id=82381, shape=(5,), dtype=bool, numpy=array([ True,  True,  True,  True,  True])>"
            ]
          },
          "metadata": {
            "tags": []
          },
          "execution_count": 21
        }
      ]
    },
    {
      "cell_type": "code",
      "metadata": {
        "id": "lWh4qjacFkgC",
        "colab_type": "code",
        "colab": {
          "base_uri": "https://localhost:8080/",
          "height": 34
        },
        "outputId": "0466175c-6629-4ae2-cf86-b702858c7e6e"
      },
      "source": [
        "ac02 = tf.cast(ac01, dtype = 'float32')\n",
        "ac02"
      ],
      "execution_count": 22,
      "outputs": [
        {
          "output_type": "execute_result",
          "data": {
            "text/plain": [
              "<tf.Tensor: id=82382, shape=(5,), dtype=float32, numpy=array([1., 1., 1., 1., 1.], dtype=float32)>"
            ]
          },
          "metadata": {
            "tags": []
          },
          "execution_count": 22
        }
      ]
    },
    {
      "cell_type": "code",
      "metadata": {
        "id": "ZHBymlFzFs8y",
        "colab_type": "code",
        "colab": {
          "base_uri": "https://localhost:8080/",
          "height": 34
        },
        "outputId": "6ae8d6e6-9f6f-4664-872f-4bc881d56f09"
      },
      "source": [
        "ac03 = tf.reduce_mean(ac02)\n",
        "ac03"
      ],
      "execution_count": 23,
      "outputs": [
        {
          "output_type": "execute_result",
          "data": {
            "text/plain": [
              "<tf.Tensor: id=82384, shape=(), dtype=float32, numpy=1.0>"
            ]
          },
          "metadata": {
            "tags": []
          },
          "execution_count": 23
        }
      ]
    },
    {
      "cell_type": "code",
      "metadata": {
        "id": "rrcBijCMFwVq",
        "colab_type": "code",
        "colab": {
          "base_uri": "https://localhost:8080/",
          "height": 52
        },
        "outputId": "7fc18b39-7023-4570-99ec-b74d5db02273"
      },
      "source": [
        "accuracy = tf.reduce_mean(tf.cast(tf.equal(predict01, target), dtype = 'float32'))\n",
        "print('accuracy')\n",
        "print(accuracy.numpy())"
      ],
      "execution_count": 24,
      "outputs": [
        {
          "output_type": "stream",
          "text": [
            "accuracy\n",
            "1.0\n"
          ],
          "name": "stdout"
        }
      ]
    }
  ]
}