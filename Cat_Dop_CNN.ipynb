{
  "nbformat": 4,
  "nbformat_minor": 0,
  "metadata": {
    "colab": {
      "name": "Cat_Dop_CNN.ipynb",
      "provenance": [],
      "mount_file_id": "1cDNla3Yk6C69LAZlnlRL1k0vRxZ_83WZ",
      "authorship_tag": "ABX9TyPErCAOJZ7U7dsDu3qwEsdp",
      "include_colab_link": true
    },
    "kernelspec": {
      "name": "python3",
      "display_name": "Python 3"
    },
    "accelerator": "GPU"
  },
  "cells": [
    {
      "cell_type": "markdown",
      "metadata": {
        "id": "view-in-github",
        "colab_type": "text"
      },
      "source": [
        "<a href=\"https://colab.research.google.com/github/Normal-case/DeepLearning/blob/master/Cat_Dop_CNN.ipynb\" target=\"_parent\"><img src=\"https://colab.research.google.com/assets/colab-badge.svg\" alt=\"Open In Colab\"/></a>"
      ]
    },
    {
      "cell_type": "code",
      "metadata": {
        "id": "NoVT9XUqcVFb",
        "colab_type": "code",
        "colab": {}
      },
      "source": [
        "import numpy as np\n",
        "import keras\n",
        "import matplotlib.pyplot as plt\n",
        "from tensorflow.keras.preprocessing.image import ImageDataGenerator"
      ],
      "execution_count": 1,
      "outputs": []
    },
    {
      "cell_type": "code",
      "metadata": {
        "id": "FSRKMDUwfQHR",
        "colab_type": "code",
        "colab": {}
      },
      "source": [
        "TRAIN_DIR = './drive/My Drive/인공지능 큐레이터/Deep Learning/data/cats_and_dogs_small/cats_and_dogs_small/train/'\n",
        "TEST_DIR = './drive/My Drive/인공지능 큐레이터/Deep Learning/data/cats_and_dogs_small/cats_and_dogs_small/test/'"
      ],
      "execution_count": 2,
      "outputs": []
    },
    {
      "cell_type": "code",
      "metadata": {
        "id": "IP92UTqFh4Nv",
        "colab_type": "code",
        "colab": {}
      },
      "source": [
        "IM_WIDTH = 220\n",
        "IM_HEIGHT = 220"
      ],
      "execution_count": 3,
      "outputs": []
    },
    {
      "cell_type": "code",
      "metadata": {
        "id": "CKFgnU-Ih7uY",
        "colab_type": "code",
        "colab": {}
      },
      "source": [
        "train_datagen = ImageDataGenerator(\n",
        "    rescale = 1./255, # 이미지의 값에 1/255 곱함\n",
        "    rotation_range = 180, # 회전 최대 180도\n",
        "    width_shift_range = 0.2, # 좌우 이동 최대 이미지 가로사이즈 20%\n",
        "    height_shift_range = 0.2, # 상하 이동 최대 이미지 세로사이즈 20%\n",
        "    horizontal_flip = True, # 좌우 반전 실행\n",
        "    vertical_flip = True # 상하 반전 실행\n",
        ")"
      ],
      "execution_count": 4,
      "outputs": []
    },
    {
      "cell_type": "code",
      "metadata": {
        "id": "UobXILEBiXwX",
        "colab_type": "code",
        "colab": {
          "base_uri": "https://localhost:8080/",
          "height": 34
        },
        "outputId": "e90f17a1-f632-4661-b351-890d8a53429d"
      },
      "source": [
        "train_generator = train_datagen.flow_from_directory(\n",
        "    TRAIN_DIR,\n",
        "    target_size = (IM_WIDTH, IM_HEIGHT),\n",
        "    batch_size = 16,\n",
        "    class_mode = 'binary',\n",
        "    shuffle = True\n",
        ")"
      ],
      "execution_count": 5,
      "outputs": [
        {
          "output_type": "stream",
          "text": [
            "Found 2000 images belonging to 2 classes.\n"
          ],
          "name": "stdout"
        }
      ]
    },
    {
      "cell_type": "code",
      "metadata": {
        "id": "4cW7m-XCiy94",
        "colab_type": "code",
        "colab": {}
      },
      "source": [
        "test_datagen = ImageDataGenerator(rescale = 1./255)"
      ],
      "execution_count": 6,
      "outputs": []
    },
    {
      "cell_type": "code",
      "metadata": {
        "id": "b1HZgki8xeK8",
        "colab_type": "code",
        "colab": {
          "base_uri": "https://localhost:8080/",
          "height": 34
        },
        "outputId": "7ddc7b25-a2e5-44f4-eebf-680a5884b09e"
      },
      "source": [
        "test_generator = test_datagen.flow_from_directory(\n",
        "    TEST_DIR,\n",
        "    target_size = (IM_WIDTH, IM_HEIGHT),\n",
        "    batch_size = 10,\n",
        "    class_mode = 'binary',\n",
        "    shuffle = False\n",
        ")"
      ],
      "execution_count": 7,
      "outputs": [
        {
          "output_type": "stream",
          "text": [
            "Found 1000 images belonging to 2 classes.\n"
          ],
          "name": "stdout"
        }
      ]
    },
    {
      "cell_type": "code",
      "metadata": {
        "id": "H-KmTaKJyEPR",
        "colab_type": "code",
        "colab": {
          "base_uri": "https://localhost:8080/",
          "height": 34
        },
        "outputId": "5af3d9f4-d870-4fcc-e02f-00bb30e75a8a"
      },
      "source": [
        "train_generator.n"
      ],
      "execution_count": 8,
      "outputs": [
        {
          "output_type": "execute_result",
          "data": {
            "text/plain": [
              "2000"
            ]
          },
          "metadata": {
            "tags": []
          },
          "execution_count": 8
        }
      ]
    },
    {
      "cell_type": "code",
      "metadata": {
        "id": "nvwv3iaqyGFk",
        "colab_type": "code",
        "colab": {
          "base_uri": "https://localhost:8080/",
          "height": 34
        },
        "outputId": "5ec4532f-9f9d-4c5d-a1b3-e8eb7b9ca66e"
      },
      "source": [
        "train_generator.batch_size"
      ],
      "execution_count": 9,
      "outputs": [
        {
          "output_type": "execute_result",
          "data": {
            "text/plain": [
              "16"
            ]
          },
          "metadata": {
            "tags": []
          },
          "execution_count": 9
        }
      ]
    },
    {
      "cell_type": "code",
      "metadata": {
        "id": "l1l6cNvUyJou",
        "colab_type": "code",
        "colab": {
          "base_uri": "https://localhost:8080/",
          "height": 34
        },
        "outputId": "27aa7aae-cda3-4a55-e290-f8a7dd31bef5"
      },
      "source": [
        "test_generator.n"
      ],
      "execution_count": 10,
      "outputs": [
        {
          "output_type": "execute_result",
          "data": {
            "text/plain": [
              "1000"
            ]
          },
          "metadata": {
            "tags": []
          },
          "execution_count": 10
        }
      ]
    },
    {
      "cell_type": "code",
      "metadata": {
        "id": "R9H6PJ4dyMJ0",
        "colab_type": "code",
        "colab": {
          "base_uri": "https://localhost:8080/",
          "height": 34
        },
        "outputId": "9b4dcdde-16f9-4ba1-c952-4948c8332fd7"
      },
      "source": [
        "img, label = train_generator.next()\n",
        "img.shape"
      ],
      "execution_count": 11,
      "outputs": [
        {
          "output_type": "execute_result",
          "data": {
            "text/plain": [
              "(16, 220, 220, 3)"
            ]
          },
          "metadata": {
            "tags": []
          },
          "execution_count": 11
        }
      ]
    },
    {
      "cell_type": "code",
      "metadata": {
        "id": "NJb-eIvSyRmk",
        "colab_type": "code",
        "colab": {
          "base_uri": "https://localhost:8080/",
          "height": 34
        },
        "outputId": "506811e3-20f2-4dfa-9fc1-90962b845354"
      },
      "source": [
        "label.shape"
      ],
      "execution_count": 12,
      "outputs": [
        {
          "output_type": "execute_result",
          "data": {
            "text/plain": [
              "(16,)"
            ]
          },
          "metadata": {
            "tags": []
          },
          "execution_count": 12
        }
      ]
    },
    {
      "cell_type": "code",
      "metadata": {
        "id": "D31I009ayTjE",
        "colab_type": "code",
        "colab": {
          "base_uri": "https://localhost:8080/",
          "height": 52
        },
        "outputId": "56272462-123f-4de7-da51-e5e697dd9bac"
      },
      "source": [
        "label"
      ],
      "execution_count": 13,
      "outputs": [
        {
          "output_type": "execute_result",
          "data": {
            "text/plain": [
              "array([1., 0., 1., 0., 1., 0., 1., 0., 0., 0., 1., 0., 0., 1., 1., 1.],\n",
              "      dtype=float32)"
            ]
          },
          "metadata": {
            "tags": []
          },
          "execution_count": 13
        }
      ]
    },
    {
      "cell_type": "code",
      "metadata": {
        "id": "r1MPY0FHyWCE",
        "colab_type": "code",
        "colab": {}
      },
      "source": [
        "from tensorflow.keras.models import Sequential\n",
        "from tensorflow.keras.layers import Dense, Dropout, Flatten, Conv2D, MaxPooling2D\n",
        "from tensorflow.keras.optimizers import Adam"
      ],
      "execution_count": 14,
      "outputs": []
    },
    {
      "cell_type": "code",
      "metadata": {
        "id": "nyeH_0AUy90e",
        "colab_type": "code",
        "colab": {
          "base_uri": "https://localhost:8080/",
          "height": 550
        },
        "outputId": "da7ead3b-640a-4593-ef46-5c78049a2b06"
      },
      "source": [
        "model = Sequential()\n",
        "# MaxPooling의 경우 strides의 경우 2가 default 값\n",
        "# Conv2D의 경우 strides의 경우 1이 default 값\n",
        "model.add(Conv2D(32, kernel_size = (3,3), input_shape = (220, 220, 3), activation = 'relu', padding = 'SAME'))\n",
        "model.add(MaxPooling2D(pool_size = 2, padding = 'SAME'))\n",
        "model.add(Conv2D(64, kernel_size = (3, 3), activation = 'relu', padding = 'SAME'))\n",
        "model.add(MaxPooling2D(pool_size=2, padding = 'SAME'))\n",
        "model.add(Conv2D(128, kernel_size=(3,3), activation = 'relu', padding = 'SAME'))\n",
        "model.add(MaxPooling2D(pool_size=2, padding='SAME'))\n",
        "model.add(Flatten())\n",
        "model.add(Dropout(0.5))\n",
        "model.add(Dense(512, activation='relu'))\n",
        "model.add(Dropout(0.5))\n",
        "model.add(Dense(1, activation='sigmoid'))\n",
        "model.summary()"
      ],
      "execution_count": 15,
      "outputs": [
        {
          "output_type": "stream",
          "text": [
            "Model: \"sequential\"\n",
            "_________________________________________________________________\n",
            "Layer (type)                 Output Shape              Param #   \n",
            "=================================================================\n",
            "conv2d (Conv2D)              (None, 220, 220, 32)      896       \n",
            "_________________________________________________________________\n",
            "max_pooling2d (MaxPooling2D) (None, 110, 110, 32)      0         \n",
            "_________________________________________________________________\n",
            "conv2d_1 (Conv2D)            (None, 110, 110, 64)      18496     \n",
            "_________________________________________________________________\n",
            "max_pooling2d_1 (MaxPooling2 (None, 55, 55, 64)        0         \n",
            "_________________________________________________________________\n",
            "conv2d_2 (Conv2D)            (None, 55, 55, 128)       73856     \n",
            "_________________________________________________________________\n",
            "max_pooling2d_2 (MaxPooling2 (None, 28, 28, 128)       0         \n",
            "_________________________________________________________________\n",
            "flatten (Flatten)            (None, 100352)            0         \n",
            "_________________________________________________________________\n",
            "dropout (Dropout)            (None, 100352)            0         \n",
            "_________________________________________________________________\n",
            "dense (Dense)                (None, 512)               51380736  \n",
            "_________________________________________________________________\n",
            "dropout_1 (Dropout)          (None, 512)               0         \n",
            "_________________________________________________________________\n",
            "dense_1 (Dense)              (None, 1)                 513       \n",
            "=================================================================\n",
            "Total params: 51,474,497\n",
            "Trainable params: 51,474,497\n",
            "Non-trainable params: 0\n",
            "_________________________________________________________________\n"
          ],
          "name": "stdout"
        }
      ]
    },
    {
      "cell_type": "code",
      "metadata": {
        "id": "6GehrOpl0CBe",
        "colab_type": "code",
        "colab": {}
      },
      "source": [
        "model.compile(loss = 'binary_crossentropy', optimizer=Adam(lr=0.00001), metrics=['acc'])"
      ],
      "execution_count": 16,
      "outputs": []
    },
    {
      "cell_type": "code",
      "metadata": {
        "id": "e4V09wFI0c2l",
        "colab_type": "code",
        "colab": {
          "base_uri": "https://localhost:8080/",
          "height": 1000
        },
        "outputId": "f9717fe6-b528-4005-9da5-1fff197aa05c"
      },
      "source": [
        "model.fit(train_generator, epochs=30)"
      ],
      "execution_count": 17,
      "outputs": [
        {
          "output_type": "stream",
          "text": [
            "Epoch 1/30\n",
            "125/125 [==============================] - 761s 6s/step - loss: 0.7008 - acc: 0.5235\n",
            "Epoch 2/30\n",
            "125/125 [==============================] - 27s 219ms/step - loss: 0.6890 - acc: 0.5360\n",
            "Epoch 3/30\n",
            "125/125 [==============================] - 27s 217ms/step - loss: 0.6860 - acc: 0.5485\n",
            "Epoch 4/30\n",
            "125/125 [==============================] - 27s 218ms/step - loss: 0.6801 - acc: 0.5505\n",
            "Epoch 5/30\n",
            "125/125 [==============================] - 28s 221ms/step - loss: 0.6707 - acc: 0.5765\n",
            "Epoch 6/30\n",
            "125/125 [==============================] - 28s 221ms/step - loss: 0.6646 - acc: 0.5820\n",
            "Epoch 7/30\n",
            "125/125 [==============================] - 28s 221ms/step - loss: 0.6649 - acc: 0.5765\n",
            "Epoch 8/30\n",
            "125/125 [==============================] - 28s 223ms/step - loss: 0.6564 - acc: 0.5855\n",
            "Epoch 9/30\n",
            "125/125 [==============================] - 28s 221ms/step - loss: 0.6533 - acc: 0.5885\n",
            "Epoch 10/30\n",
            "125/125 [==============================] - 28s 224ms/step - loss: 0.6565 - acc: 0.5785\n",
            "Epoch 11/30\n",
            "125/125 [==============================] - 28s 225ms/step - loss: 0.6496 - acc: 0.6125\n",
            "Epoch 12/30\n",
            "125/125 [==============================] - 28s 222ms/step - loss: 0.6498 - acc: 0.6010\n",
            "Epoch 13/30\n",
            "125/125 [==============================] - 28s 223ms/step - loss: 0.6476 - acc: 0.6095\n",
            "Epoch 14/30\n",
            "125/125 [==============================] - 28s 224ms/step - loss: 0.6391 - acc: 0.6275\n",
            "Epoch 15/30\n",
            "125/125 [==============================] - 28s 224ms/step - loss: 0.6347 - acc: 0.6275\n",
            "Epoch 16/30\n",
            "125/125 [==============================] - 28s 224ms/step - loss: 0.6355 - acc: 0.6205\n",
            "Epoch 17/30\n",
            "125/125 [==============================] - 28s 225ms/step - loss: 0.6372 - acc: 0.6165\n",
            "Epoch 18/30\n",
            "125/125 [==============================] - 28s 226ms/step - loss: 0.6329 - acc: 0.6220\n",
            "Epoch 19/30\n",
            "125/125 [==============================] - 28s 226ms/step - loss: 0.6296 - acc: 0.6430\n",
            "Epoch 20/30\n",
            "125/125 [==============================] - 28s 227ms/step - loss: 0.6253 - acc: 0.6295\n",
            "Epoch 21/30\n",
            "125/125 [==============================] - 28s 225ms/step - loss: 0.6273 - acc: 0.6355\n",
            "Epoch 22/30\n",
            "125/125 [==============================] - 28s 225ms/step - loss: 0.6215 - acc: 0.6425\n",
            "Epoch 23/30\n",
            "125/125 [==============================] - 28s 227ms/step - loss: 0.6172 - acc: 0.6450\n",
            "Epoch 24/30\n",
            "125/125 [==============================] - 28s 228ms/step - loss: 0.6131 - acc: 0.6580\n",
            "Epoch 25/30\n",
            "125/125 [==============================] - 29s 228ms/step - loss: 0.6144 - acc: 0.6615\n",
            "Epoch 26/30\n",
            "125/125 [==============================] - 29s 228ms/step - loss: 0.6102 - acc: 0.6515\n",
            "Epoch 27/30\n",
            "125/125 [==============================] - 28s 227ms/step - loss: 0.6081 - acc: 0.6635\n",
            "Epoch 28/30\n",
            "125/125 [==============================] - 29s 229ms/step - loss: 0.6100 - acc: 0.6580\n",
            "Epoch 29/30\n",
            "125/125 [==============================] - 28s 227ms/step - loss: 0.6069 - acc: 0.6610\n",
            "Epoch 30/30\n",
            "125/125 [==============================] - 28s 226ms/step - loss: 0.5981 - acc: 0.6695\n"
          ],
          "name": "stdout"
        },
        {
          "output_type": "execute_result",
          "data": {
            "text/plain": [
              "<tensorflow.python.keras.callbacks.History at 0x7f1257f93d68>"
            ]
          },
          "metadata": {
            "tags": []
          },
          "execution_count": 17
        }
      ]
    },
    {
      "cell_type": "code",
      "metadata": {
        "id": "GwvnpOjv0iPs",
        "colab_type": "code",
        "colab": {
          "base_uri": "https://localhost:8080/",
          "height": 34
        },
        "outputId": "04083bf3-764e-4cec-efcd-83df5e016031"
      },
      "source": [
        "total_acc = 0\n",
        "for index in range(100):\n",
        "  X_test, y_test = test_generator.next()\n",
        "  predict = model.predict(X_test)\n",
        "  predict01 = np.where(predict > 0.5, 1, 0)\n",
        "  predict02 = predict01.flatten()\n",
        "  predict02 = (predict02 == y_test)\n",
        "  accuracy = np.sum(predict02) / len(predict02)\n",
        "  total_acc += accuracy\n",
        "\n",
        "print('정확도:', total_acc / 100)"
      ],
      "execution_count": 19,
      "outputs": [
        {
          "output_type": "stream",
          "text": [
            "정확도: 0.6659999999999997\n"
          ],
          "name": "stdout"
        }
      ]
    }
  ]
}