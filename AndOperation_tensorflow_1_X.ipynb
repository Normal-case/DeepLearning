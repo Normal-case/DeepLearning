{
  "nbformat": 4,
  "nbformat_minor": 0,
  "metadata": {
    "colab": {
      "name": "AndOperation_tensorflow 1_X.ipynb",
      "provenance": [],
      "collapsed_sections": [],
      "authorship_tag": "ABX9TyNZvblzNQHAJLmUvDTST3aG",
      "include_colab_link": true
    },
    "kernelspec": {
      "name": "python3",
      "display_name": "Python 3"
    }
  },
  "cells": [
    {
      "cell_type": "markdown",
      "metadata": {
        "id": "view-in-github",
        "colab_type": "text"
      },
      "source": [
        "<a href=\"https://colab.research.google.com/github/Normal-case/DeepLearning/blob/master/AndOperation_tensorflow_1_X.ipynb\" target=\"_parent\"><img src=\"https://colab.research.google.com/assets/colab-badge.svg\" alt=\"Open In Colab\"/></a>"
      ]
    },
    {
      "cell_type": "code",
      "metadata": {
        "id": "55pi2ZSDQ2Im",
        "colab_type": "code",
        "colab": {
          "base_uri": "https://localhost:8080/",
          "height": 35
        },
        "outputId": "27d29a47-d6fa-403b-e070-a273a55461ab"
      },
      "source": [
        "%tensorflow_version 1.x"
      ],
      "execution_count": 1,
      "outputs": [
        {
          "output_type": "stream",
          "text": [
            "TensorFlow 1.x selected.\n"
          ],
          "name": "stdout"
        }
      ]
    },
    {
      "cell_type": "code",
      "metadata": {
        "id": "FI5Z1l1BRB-1",
        "colab_type": "code",
        "colab": {}
      },
      "source": [
        "import tensorflow as tf\n",
        "import numpy as np"
      ],
      "execution_count": 2,
      "outputs": []
    },
    {
      "cell_type": "code",
      "metadata": {
        "id": "wDXoGiO6RHQu",
        "colab_type": "code",
        "colab": {
          "base_uri": "https://localhost:8080/",
          "height": 35
        },
        "outputId": "3dcda328-a510-4223-b9a3-725b50eff870"
      },
      "source": [
        "tf.enable_eager_execution()\n",
        "print(tf.__version__)"
      ],
      "execution_count": 4,
      "outputs": [
        {
          "output_type": "stream",
          "text": [
            "1.15.2\n"
          ],
          "name": "stdout"
        }
      ]
    },
    {
      "cell_type": "code",
      "metadata": {
        "id": "akULqZdkROss",
        "colab_type": "code",
        "colab": {}
      },
      "source": [
        "X = np.array([\n",
        "              [0, 0],\n",
        "              [0, 1],\n",
        "              [1, 0],\n",
        "              [1, 1]\n",
        "], dtype = 'float32')\n",
        "\n",
        "y = np.array([\n",
        "              [0],\n",
        "              [0],\n",
        "              [0],\n",
        "              [1]\n",
        "], dtype = 'float32')"
      ],
      "execution_count": 5,
      "outputs": []
    },
    {
      "cell_type": "code",
      "metadata": {
        "id": "U0K6LPDCRjsf",
        "colab_type": "code",
        "colab": {}
      },
      "source": [
        "w = tf.Variable([[1], [2]], dtype = 'float32')\n",
        "b = tf.Variable([3], dtype = 'float32')"
      ],
      "execution_count": 6,
      "outputs": []
    },
    {
      "cell_type": "code",
      "metadata": {
        "id": "mp-CZlOjSdfl",
        "colab_type": "code",
        "colab": {
          "base_uri": "https://localhost:8080/",
          "height": 107
        },
        "outputId": "f6556400-0221-47b8-c2b8-57105b83b233"
      },
      "source": [
        "# tf.matmul(X, w) : X와 w의 곱을 계산\n",
        "tf.matmul(X, w) + b"
      ],
      "execution_count": 7,
      "outputs": [
        {
          "output_type": "execute_result",
          "data": {
            "text/plain": [
              "<tf.Tensor: id=19, shape=(4, 1), dtype=float32, numpy=\n",
              "array([[3.],\n",
              "       [5.],\n",
              "       [4.],\n",
              "       [6.]], dtype=float32)>"
            ]
          },
          "metadata": {
            "tags": []
          },
          "execution_count": 7
        }
      ]
    },
    {
      "cell_type": "code",
      "metadata": {
        "id": "B9fN0EYGSqjQ",
        "colab_type": "code",
        "colab": {
          "base_uri": "https://localhost:8080/",
          "height": 107
        },
        "outputId": "038d4051-4ca4-4692-c342-68fdcf815c15"
      },
      "source": [
        "tf.sigmoid(tf.matmul(X,w) + b)"
      ],
      "execution_count": 8,
      "outputs": [
        {
          "output_type": "execute_result",
          "data": {
            "text/plain": [
              "<tf.Tensor: id=25, shape=(4, 1), dtype=float32, numpy=\n",
              "array([[0.95257413],\n",
              "       [0.9933072 ],\n",
              "       [0.98201376],\n",
              "       [0.9975274 ]], dtype=float32)>"
            ]
          },
          "metadata": {
            "tags": []
          },
          "execution_count": 8
        }
      ]
    },
    {
      "cell_type": "code",
      "metadata": {
        "id": "2LJwyjmMSui3",
        "colab_type": "code",
        "colab": {}
      },
      "source": [
        "# w와 b값을 자동으로 수정하는 Optimizer 객체를 생성\n",
        "optimizer = tf.train.AdamOptimizer(0.01)"
      ],
      "execution_count": 9,
      "outputs": []
    },
    {
      "cell_type": "code",
      "metadata": {
        "id": "iTIwh0n-Ucfs",
        "colab_type": "code",
        "colab": {
          "base_uri": "https://localhost:8080/",
          "height": 737
        },
        "outputId": "b49374d1-7323-44ea-900c-eac58c8c7b4b"
      },
      "source": [
        "for step in range(1000):\n",
        "  with tf.GradientTape() as tape:\n",
        "    # 로지스틱 회귀(= perceptron) 식을 변수 hypothesis에 대입\n",
        "    # tf.matmul : 배열끼리의 곱을 계산하는 함수\n",
        "    # tf.matmul(X, w) + b : X와 w의 곱을 계산하고 b를 더함\n",
        "    hypothesis = tf.sigmoid(tf.matmul(X, w) + b)\n",
        "    # tf.reduce_mean() -> 평균을 계산\n",
        "    cost = -tf.reduce_mean(y * tf.log(hypothesis) + (1 - y) * tf.log(1 - hypothesis))\n",
        "    # cost, w, b를 이용해서 w의 기울기. b의 기울기를 계산해서 grads 대입\n",
        "    grads = tape.gradient(cost, [w, b])\n",
        "  optimizer.apply_gradients(grads_and_vars = zip(grads, [w, b]))\n",
        "\n",
        "  if step % 100 == 0:\n",
        "    print('='*100)\n",
        "    print('step : {}, cost : {}, w : {}, b : {}'.format(step, cost.numpy(), w.numpy(), b.numpy()))\n",
        "    print('='*100)"
      ],
      "execution_count": 11,
      "outputs": [
        {
          "output_type": "stream",
          "text": [
            "====================================================================================================\n",
            "step : 0, cost : 3.0067431926727295, w : [[0.98000014]\n",
            " [1.9800001 ]], b : [2.98]\n",
            "====================================================================================================\n",
            "====================================================================================================\n",
            "step : 100, cost : 1.8424098491668701, w : [[0.00187232]\n",
            " [0.9919162 ]], b : [1.9934133]\n",
            "====================================================================================================\n",
            "====================================================================================================\n",
            "step : 200, cost : 1.082991123199463, w : [[-0.71547705]\n",
            " [ 0.17880608]], b : [1.1276144]\n",
            "====================================================================================================\n",
            "====================================================================================================\n",
            "step : 300, cost : 0.8442481160163879, w : [[-0.76826847]\n",
            " [-0.11236401]], b : [0.5206295]\n",
            "====================================================================================================\n",
            "====================================================================================================\n",
            "step : 400, cost : 0.7191399931907654, w : [[-0.44732547]\n",
            " [-0.03626965]], b : [0.05765341]\n",
            "====================================================================================================\n",
            "====================================================================================================\n",
            "step : 500, cost : 0.6168594360351562, w : [[-0.0678472 ]\n",
            " [ 0.16496052]], b : [-0.3615094]\n",
            "====================================================================================================\n",
            "====================================================================================================\n",
            "step : 600, cost : 0.5330392122268677, w : [[0.28079495]\n",
            " [0.3999162 ]], b : [-0.75882936]\n",
            "====================================================================================================\n",
            "====================================================================================================\n",
            "step : 700, cost : 0.465332955121994, w : [[0.58824867]\n",
            " [0.64070547]], b : [-1.1349852]\n",
            "====================================================================================================\n",
            "====================================================================================================\n",
            "step : 800, cost : 0.4105614423751831, w : [[0.8612028]\n",
            " [0.8773646]], b : [-1.4898765]\n",
            "====================================================================================================\n",
            "====================================================================================================\n",
            "step : 900, cost : 0.3657488226890564, w : [[1.1078681]\n",
            " [1.1057427]], b : [-1.8251848]\n",
            "====================================================================================================\n"
          ],
          "name": "stdout"
        }
      ]
    },
    {
      "cell_type": "code",
      "metadata": {
        "id": "gMR4foalVeJ_",
        "colab_type": "code",
        "colab": {
          "base_uri": "https://localhost:8080/",
          "height": 107
        },
        "outputId": "cda254b9-cd77-4151-8429-13f093d0d755"
      },
      "source": [
        "predict = tf.sigmoid(tf.matmul(X, w) + b)\n",
        "predict"
      ],
      "execution_count": 12,
      "outputs": [
        {
          "output_type": "execute_result",
          "data": {
            "text/plain": [
              "<tf.Tensor: id=63187, shape=(4, 1), dtype=float32, numpy=\n",
              "array([[0.10524059],\n",
              "       [0.30619514],\n",
              "       [0.30841887],\n",
              "       [0.6259348 ]], dtype=float32)>"
            ]
          },
          "metadata": {
            "tags": []
          },
          "execution_count": 12
        }
      ]
    },
    {
      "cell_type": "code",
      "metadata": {
        "id": "lObqbZ8TdKSQ",
        "colab_type": "code",
        "colab": {
          "base_uri": "https://localhost:8080/",
          "height": 125
        },
        "outputId": "ddfa933a-0f1e-40d3-af4b-365784c03d6a"
      },
      "source": [
        "predict01 = tf.cast(predict > 0.5, dtype = tf.float32)\n",
        "print('predict01')\n",
        "print(predict01)"
      ],
      "execution_count": 13,
      "outputs": [
        {
          "output_type": "stream",
          "text": [
            "predict01\n",
            "tf.Tensor(\n",
            "[[0.]\n",
            " [0.]\n",
            " [0.]\n",
            " [1.]], shape=(4, 1), dtype=float32)\n"
          ],
          "name": "stdout"
        }
      ]
    },
    {
      "cell_type": "code",
      "metadata": {
        "id": "Ur8DrlLZeCnO",
        "colab_type": "code",
        "colab": {
          "base_uri": "https://localhost:8080/",
          "height": 107
        },
        "outputId": "01f0c5d8-fc18-4c70-df3a-8e4c51e3cbfe"
      },
      "source": [
        "ac01 = tf.equal(predict01, y)\n",
        "ac01"
      ],
      "execution_count": 14,
      "outputs": [
        {
          "output_type": "execute_result",
          "data": {
            "text/plain": [
              "<tf.Tensor: id=63192, shape=(4, 1), dtype=bool, numpy=\n",
              "array([[ True],\n",
              "       [ True],\n",
              "       [ True],\n",
              "       [ True]])>"
            ]
          },
          "metadata": {
            "tags": []
          },
          "execution_count": 14
        }
      ]
    },
    {
      "cell_type": "code",
      "metadata": {
        "id": "wFFTEXmueNYY",
        "colab_type": "code",
        "colab": {
          "base_uri": "https://localhost:8080/",
          "height": 107
        },
        "outputId": "79581bc5-36da-4c2e-a878-2d88ce4130f2"
      },
      "source": [
        "ac02 = tf.cast(ac01, dtype = 'float32')\n",
        "ac02"
      ],
      "execution_count": 15,
      "outputs": [
        {
          "output_type": "execute_result",
          "data": {
            "text/plain": [
              "<tf.Tensor: id=63193, shape=(4, 1), dtype=float32, numpy=\n",
              "array([[1.],\n",
              "       [1.],\n",
              "       [1.],\n",
              "       [1.]], dtype=float32)>"
            ]
          },
          "metadata": {
            "tags": []
          },
          "execution_count": 15
        }
      ]
    },
    {
      "cell_type": "code",
      "metadata": {
        "id": "U_-756ESeRBT",
        "colab_type": "code",
        "colab": {
          "base_uri": "https://localhost:8080/",
          "height": 35
        },
        "outputId": "79ee10fc-1e3b-4642-bd15-c77443daa8b8"
      },
      "source": [
        "ac03 = tf.reduce_mean(ac02)\n",
        "ac03"
      ],
      "execution_count": 16,
      "outputs": [
        {
          "output_type": "execute_result",
          "data": {
            "text/plain": [
              "<tf.Tensor: id=63195, shape=(), dtype=float32, numpy=1.0>"
            ]
          },
          "metadata": {
            "tags": []
          },
          "execution_count": 16
        }
      ]
    },
    {
      "cell_type": "code",
      "metadata": {
        "id": "UWRaq1WGegY9",
        "colab_type": "code",
        "colab": {
          "base_uri": "https://localhost:8080/",
          "height": 53
        },
        "outputId": "0e67c7b1-8b37-4127-cc24-7db81ec4193e"
      },
      "source": [
        "accuracy = tf.reduce_mean(tf.cast(tf.equal(predict01, y), dtype = tf.float32))\n",
        "print('accuracy')\n",
        "print(accuracy.numpy())"
      ],
      "execution_count": 18,
      "outputs": [
        {
          "output_type": "stream",
          "text": [
            "accuracy\n",
            "1.0\n"
          ],
          "name": "stdout"
        }
      ]
    },
    {
      "cell_type": "code",
      "metadata": {
        "id": "K7iGMSemeskP",
        "colab_type": "code",
        "colab": {
          "base_uri": "https://localhost:8080/",
          "height": 35
        },
        "outputId": "563225e9-e958-44f0-fcd9-c727dba4249b"
      },
      "source": [
        "arr = np.array([[0, 1]], dtype = 'float32')\n",
        "predict = tf.sigmoid(tf.matmul(arr, w) + b)\n",
        "predict"
      ],
      "execution_count": 19,
      "outputs": [
        {
          "output_type": "execute_result",
          "data": {
            "text/plain": [
              "<tf.Tensor: id=63211, shape=(1, 1), dtype=float32, numpy=array([[0.30619514]], dtype=float32)>"
            ]
          },
          "metadata": {
            "tags": []
          },
          "execution_count": 19
        }
      ]
    },
    {
      "cell_type": "code",
      "metadata": {
        "id": "1LGD2v5OfS_2",
        "colab_type": "code",
        "colab": {
          "base_uri": "https://localhost:8080/",
          "height": 35
        },
        "outputId": "d20558f3-be22-4239-ffed-3e112bf768ea"
      },
      "source": [
        "predict = tf.cast(predict > 0.5, dtype = tf.float32)\n",
        "predict.numpy()"
      ],
      "execution_count": 20,
      "outputs": [
        {
          "output_type": "execute_result",
          "data": {
            "text/plain": [
              "array([[0.]], dtype=float32)"
            ]
          },
          "metadata": {
            "tags": []
          },
          "execution_count": 20
        }
      ]
    },
    {
      "cell_type": "code",
      "metadata": {
        "id": "GUBp4hgmfYds",
        "colab_type": "code",
        "colab": {
          "base_uri": "https://localhost:8080/",
          "height": 35
        },
        "outputId": "e5a20d1d-7aed-44eb-b6b7-739b4599f2b7"
      },
      "source": [
        "arr = np.array([[1, 1]], dtype = 'float32')\n",
        "predict = tf.sigmoid(tf.matmul(arr, w) + b)\n",
        "predict"
      ],
      "execution_count": 21,
      "outputs": [
        {
          "output_type": "execute_result",
          "data": {
            "text/plain": [
              "<tf.Tensor: id=63220, shape=(1, 1), dtype=float32, numpy=array([[0.6259348]], dtype=float32)>"
            ]
          },
          "metadata": {
            "tags": []
          },
          "execution_count": 21
        }
      ]
    },
    {
      "cell_type": "code",
      "metadata": {
        "id": "NaGTFpX5fcko",
        "colab_type": "code",
        "colab": {
          "base_uri": "https://localhost:8080/",
          "height": 35
        },
        "outputId": "325d2d3d-e344-446c-8a7a-1c58a1962527"
      },
      "source": [
        "predict = tf.cast(predict > 0.5, dtype = tf.float32)\n",
        "predict.numpy()"
      ],
      "execution_count": 22,
      "outputs": [
        {
          "output_type": "execute_result",
          "data": {
            "text/plain": [
              "array([[1.]], dtype=float32)"
            ]
          },
          "metadata": {
            "tags": []
          },
          "execution_count": 22
        }
      ]
    }
  ]
}