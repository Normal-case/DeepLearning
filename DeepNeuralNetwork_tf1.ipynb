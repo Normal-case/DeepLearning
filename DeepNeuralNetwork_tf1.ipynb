{
  "nbformat": 4,
  "nbformat_minor": 0,
  "metadata": {
    "colab": {
      "name": "DeepNeuralNetwork_tf1.ipynb",
      "provenance": [],
      "collapsed_sections": [],
      "authorship_tag": "ABX9TyM8bavLWo1cDLKogDdqorTh",
      "include_colab_link": true
    },
    "kernelspec": {
      "name": "python3",
      "display_name": "Python 3"
    },
    "accelerator": "GPU"
  },
  "cells": [
    {
      "cell_type": "markdown",
      "metadata": {
        "id": "view-in-github",
        "colab_type": "text"
      },
      "source": [
        "<a href=\"https://colab.research.google.com/github/Normal-case/DeepLearning/blob/master/DeepNeuralNetwork_tf1.ipynb\" target=\"_parent\"><img src=\"https://colab.research.google.com/assets/colab-badge.svg\" alt=\"Open In Colab\"/></a>"
      ]
    },
    {
      "cell_type": "code",
      "metadata": {
        "id": "Uy7Px5t0LXgT",
        "colab_type": "code",
        "colab": {
          "base_uri": "https://localhost:8080/",
          "height": 35
        },
        "outputId": "631f58ee-b06d-4fe4-a918-c2a16c33afa6"
      },
      "source": [
        "%tensorflow_version 1.x"
      ],
      "execution_count": 1,
      "outputs": [
        {
          "output_type": "stream",
          "text": [
            "TensorFlow 1.x selected.\n"
          ],
          "name": "stdout"
        }
      ]
    },
    {
      "cell_type": "code",
      "metadata": {
        "id": "0-XGgV4jLvSn",
        "colab_type": "code",
        "colab": {}
      },
      "source": [
        "import numpy as np\n",
        "import tensorflow as tf\n",
        "tf.enable_eager_execution()"
      ],
      "execution_count": 2,
      "outputs": []
    },
    {
      "cell_type": "code",
      "metadata": {
        "id": "xciX3BwZL79J",
        "colab_type": "code",
        "colab": {}
      },
      "source": [
        "X = np.array([\n",
        "              [0, 0],\n",
        "              [0, 1],\n",
        "              [1, 0],\n",
        "              [1, 1]\n",
        "], dtype = 'float32')\n",
        "\n",
        "y = np.array([\n",
        "              [0],\n",
        "              [1],\n",
        "              [1],\n",
        "              [0]\n",
        "], dtype = 'float32')"
      ],
      "execution_count": 3,
      "outputs": []
    },
    {
      "cell_type": "code",
      "metadata": {
        "id": "KOaEpJrdMNmX",
        "colab_type": "code",
        "colab": {}
      },
      "source": [
        "w11 = np.array([[1], [3]], dtype = 'float32')\n",
        "b11 = np.array([0], dtype = 'float32')"
      ],
      "execution_count": 4,
      "outputs": []
    },
    {
      "cell_type": "code",
      "metadata": {
        "id": "XM8OHXSoO_rD",
        "colab_type": "code",
        "colab": {}
      },
      "source": [
        "w12 = np.array([[2], [4]], dtype = 'float32')\n",
        "b12 = np.array([0], dtype = 'float32')"
      ],
      "execution_count": 5,
      "outputs": []
    },
    {
      "cell_type": "code",
      "metadata": {
        "id": "1dzHX6a5PJpv",
        "colab_type": "code",
        "colab": {
          "base_uri": "https://localhost:8080/",
          "height": 89
        },
        "outputId": "3d024ac6-12de-44f4-8609-33a891a2af6c"
      },
      "source": [
        "np.dot(X, w11) + b11"
      ],
      "execution_count": 6,
      "outputs": [
        {
          "output_type": "execute_result",
          "data": {
            "text/plain": [
              "array([[0.],\n",
              "       [3.],\n",
              "       [1.],\n",
              "       [4.]], dtype=float32)"
            ]
          },
          "metadata": {
            "tags": []
          },
          "execution_count": 6
        }
      ]
    },
    {
      "cell_type": "code",
      "metadata": {
        "id": "_cuyRFw1PPYr",
        "colab_type": "code",
        "colab": {
          "base_uri": "https://localhost:8080/",
          "height": 89
        },
        "outputId": "2244c721-d98c-4c8b-8867-3a125c6f8f97"
      },
      "source": [
        "np.dot(X, w12) + b12"
      ],
      "execution_count": 7,
      "outputs": [
        {
          "output_type": "execute_result",
          "data": {
            "text/plain": [
              "array([[0.],\n",
              "       [4.],\n",
              "       [2.],\n",
              "       [6.]], dtype=float32)"
            ]
          },
          "metadata": {
            "tags": []
          },
          "execution_count": 7
        }
      ]
    },
    {
      "cell_type": "code",
      "metadata": {
        "id": "qVD5sTAuVTAj",
        "colab_type": "code",
        "colab": {}
      },
      "source": [
        "w0 = tf.Variable([[1, 2], [3, 4]], dtype = 'float32')\n",
        "b0 = tf.Variable([[0, 0]], dtype = 'float32')"
      ],
      "execution_count": 16,
      "outputs": []
    },
    {
      "cell_type": "code",
      "metadata": {
        "id": "rqGcIoGzXbXk",
        "colab_type": "code",
        "colab": {
          "base_uri": "https://localhost:8080/",
          "height": 107
        },
        "outputId": "ac125ca6-9cc7-474b-fb2e-cd23c50bd24d"
      },
      "source": [
        "tf.matmul(X, w0) + b0"
      ],
      "execution_count": 17,
      "outputs": [
        {
          "output_type": "execute_result",
          "data": {
            "text/plain": [
              "<tf.Tensor: id=61, shape=(4, 2), dtype=float32, numpy=\n",
              "array([[0., 0.],\n",
              "       [3., 4.],\n",
              "       [1., 2.],\n",
              "       [4., 6.]], dtype=float32)>"
            ]
          },
          "metadata": {
            "tags": []
          },
          "execution_count": 17
        }
      ]
    },
    {
      "cell_type": "code",
      "metadata": {
        "id": "jTj_SuPrXoEW",
        "colab_type": "code",
        "colab": {
          "base_uri": "https://localhost:8080/",
          "height": 107
        },
        "outputId": "f2945537-ae1d-445f-9df0-571bfbe4766a"
      },
      "source": [
        "hypothesis0 = tf.sigmoid(tf.matmul(X, w0) + b0)\n",
        "hypothesis0"
      ],
      "execution_count": 18,
      "outputs": [
        {
          "output_type": "execute_result",
          "data": {
            "text/plain": [
              "<tf.Tensor: id=67, shape=(4, 2), dtype=float32, numpy=\n",
              "array([[0.5       , 0.5       ],\n",
              "       [0.95257413, 0.98201376],\n",
              "       [0.7310586 , 0.8807971 ],\n",
              "       [0.98201376, 0.99752736]], dtype=float32)>"
            ]
          },
          "metadata": {
            "tags": []
          },
          "execution_count": 18
        }
      ]
    },
    {
      "cell_type": "code",
      "metadata": {
        "id": "AJU_1b6AX3Rx",
        "colab_type": "code",
        "colab": {
          "base_uri": "https://localhost:8080/",
          "height": 107
        },
        "outputId": "f200ed0f-6d95-48b3-c275-614a8d0e2336"
      },
      "source": [
        "w1 = tf.Variable([[5], [6]], dtype = 'float32')\n",
        "b1 = tf.Variable([0], dtype = 'float32')\n",
        "hypothesis1 = tf.sigmoid(tf.matmul(hypothesis0, w1) + b1)\n",
        "hypothesis1"
      ],
      "execution_count": 20,
      "outputs": [
        {
          "output_type": "execute_result",
          "data": {
            "text/plain": [
              "<tf.Tensor: id=105, shape=(4, 1), dtype=float32, numpy=\n",
              "array([[0.99592984],\n",
              "       [0.9999764 ],\n",
              "       [0.9998689 ],\n",
              "       [0.9999815 ]], dtype=float32)>"
            ]
          },
          "metadata": {
            "tags": []
          },
          "execution_count": 20
        }
      ]
    },
    {
      "cell_type": "markdown",
      "metadata": {
        "id": "p-WiaFuSjIqo",
        "colab_type": "text"
      },
      "source": [
        "# 본격적으로 DNN 계산"
      ]
    },
    {
      "cell_type": "code",
      "metadata": {
        "id": "bd7us9ECib-c",
        "colab_type": "code",
        "colab": {
          "base_uri": "https://localhost:8080/",
          "height": 1000
        },
        "outputId": "1ed907c6-d6a3-4182-a511-efbe8cebe684"
      },
      "source": [
        "import numpy as np\n",
        "import tensorflow as tf\n",
        "tf.enable_eager_execution()\n",
        "\n",
        "X = np.array([\n",
        "              [0, 0],\n",
        "              [0, 1],\n",
        "              [1, 0],\n",
        "              [1, 1]\n",
        "], dtype = 'float32')\n",
        "\n",
        "y = np.array([\n",
        "              [0],\n",
        "              [1],\n",
        "              [1],\n",
        "              [0]\n",
        "], dtype = 'float32')\n",
        "\n",
        "w0 = tf.Variable([[1, 2], [3, 4]], dtype = 'float32')\n",
        "b0 = tf.Variable([[0, 0]], dtype = 'float32')\n",
        "w1 = tf.Variable([[5], [6]], dtype = 'float32')\n",
        "b1 = tf.Variable([0], dtype = 'float32')\n",
        "\n",
        "optimizer = tf.train.AdamOptimizer(0.1)\n",
        "\n",
        "for step in range(5000):\n",
        "  with tf.GradientTape() as tape:\n",
        "    hypothesis0 = tf.sigmoid(tf.matmul(X, w0) + b0)\n",
        "    hypothesis1 = tf.sigmoid(tf.matmul(hypothesis0, w1) + b1)\n",
        "    cost = -tf.reduce_mean(y * tf.log(hypothesis1) + (1 - y) * tf.log(1 - hypothesis1))\n",
        "    grads = tape.gradient(cost, [w0, w1, b0, b1])\n",
        "    optimizer.apply_gradients(grads_and_vars = zip(grads, [w0, w1, b0, b1]))\n",
        "\n",
        "    if step % 100 == 0:\n",
        "      print('*'*100)\n",
        "      print('cost : {:.4f}\\nw0 :\\n{}\\nw1 :\\n{}'.format(cost, w0, w1))\n",
        "      print('*'*100)"
      ],
      "execution_count": 27,
      "outputs": [
        {
          "output_type": "stream",
          "text": [
            "****************************************************************************************************\n",
            "cost : 4.1008\n",
            "w0 :\n",
            "<tf.Variable 'Variable:0' shape=(2, 2) dtype=float32, numpy=\n",
            "array([[0.9000014, 1.9000086],\n",
            "       [2.9000015, 3.9000084]], dtype=float32)>\n",
            "w1 :\n",
            "<tf.Variable 'Variable:0' shape=(2, 1) dtype=float32, numpy=\n",
            "array([[4.9],\n",
            "       [5.9]], dtype=float32)>\n",
            "****************************************************************************************************\n",
            "****************************************************************************************************\n",
            "cost : 0.5575\n",
            "w0 :\n",
            "<tf.Variable 'Variable:0' shape=(2, 2) dtype=float32, numpy=\n",
            "array([[-2.0565379, -4.4126105],\n",
            "       [ 1.2810543,  3.0600321]], dtype=float32)>\n",
            "w1 :\n",
            "<tf.Variable 'Variable:0' shape=(2, 1) dtype=float32, numpy=\n",
            "array([[2.6855311],\n",
            "       [3.8502128]], dtype=float32)>\n",
            "****************************************************************************************************\n",
            "****************************************************************************************************\n",
            "cost : 0.5103\n",
            "w0 :\n",
            "<tf.Variable 'Variable:0' shape=(2, 2) dtype=float32, numpy=\n",
            "array([[-2.586326 , -6.2746325],\n",
            "       [ 1.5904131,  4.880548 ]], dtype=float32)>\n",
            "w1 :\n",
            "<tf.Variable 'Variable:0' shape=(2, 1) dtype=float32, numpy=\n",
            "array([[2.3543897],\n",
            "       [4.4116955]], dtype=float32)>\n",
            "****************************************************************************************************\n",
            "****************************************************************************************************\n",
            "cost : 0.4953\n",
            "w0 :\n",
            "<tf.Variable 'Variable:0' shape=(2, 2) dtype=float32, numpy=\n",
            "array([[-2.8877585, -7.3770695],\n",
            "       [ 1.6697831,  5.8986974]], dtype=float32)>\n",
            "w1 :\n",
            "<tf.Variable 'Variable:0' shape=(2, 1) dtype=float32, numpy=\n",
            "array([[2.076736],\n",
            "       [4.993746]], dtype=float32)>\n",
            "****************************************************************************************************\n",
            "****************************************************************************************************\n",
            "cost : 0.4886\n",
            "w0 :\n",
            "<tf.Variable 'Variable:0' shape=(2, 2) dtype=float32, numpy=\n",
            "array([[-3.0569184, -8.128939 ],\n",
            "       [ 1.6668203,  6.5931687]], dtype=float32)>\n",
            "w1 :\n",
            "<tf.Variable 'Variable:0' shape=(2, 1) dtype=float32, numpy=\n",
            "array([[1.8414873],\n",
            "       [5.4756556]], dtype=float32)>\n",
            "****************************************************************************************************\n",
            "****************************************************************************************************\n",
            "cost : 0.4851\n",
            "w0 :\n",
            "<tf.Variable 'Variable:0' shape=(2, 2) dtype=float32, numpy=\n",
            "array([[-3.1607096, -8.691835 ],\n",
            "       [ 1.6366946,  7.116057 ]], dtype=float32)>\n",
            "w1 :\n",
            "<tf.Variable 'Variable:0' shape=(2, 1) dtype=float32, numpy=\n",
            "array([[1.6368622],\n",
            "       [5.869412 ]], dtype=float32)>\n",
            "****************************************************************************************************\n",
            "****************************************************************************************************\n",
            "cost : 0.4830\n",
            "w0 :\n",
            "<tf.Variable 'Variable:0' shape=(2, 2) dtype=float32, numpy=\n",
            "array([[-3.2296479, -9.139405 ],\n",
            "       [ 1.6007779,  7.5347595]], dtype=float32)>\n",
            "w1 :\n",
            "<tf.Variable 'Variable:0' shape=(2, 1) dtype=float32, numpy=\n",
            "array([[1.4542735],\n",
            "       [6.197598 ]], dtype=float32)>\n",
            "****************************************************************************************************\n",
            "****************************************************************************************************\n",
            "cost : 0.4817\n",
            "w0 :\n",
            "<tf.Variable 'Variable:0' shape=(2, 2) dtype=float32, numpy=\n",
            "array([[-3.2783165, -9.510456 ],\n",
            "       [ 1.5662986,  7.8843293]], dtype=float32)>\n",
            "w1 :\n",
            "<tf.Variable 'Variable:0' shape=(2, 1) dtype=float32, numpy=\n",
            "array([[1.2874041],\n",
            "       [6.4776464]], dtype=float32)>\n",
            "****************************************************************************************************\n",
            "****************************************************************************************************\n",
            "cost : 0.4807\n",
            "w0 :\n",
            "<tf.Variable 'Variable:0' shape=(2, 2) dtype=float32, numpy=\n",
            "array([[-3.314222 , -9.827549 ],\n",
            "       [ 1.5354015,  8.185007 ]], dtype=float32)>\n",
            "w1 :\n",
            "<tf.Variable 'Variable:0' shape=(2, 1) dtype=float32, numpy=\n",
            "array([[1.1316674],\n",
            "       [6.7216687]], dtype=float32)>\n",
            "****************************************************************************************************\n",
            "****************************************************************************************************\n",
            "cost : 0.4801\n",
            "w0 :\n",
            "<tf.Variable 'Variable:0' shape=(2, 2) dtype=float32, numpy=\n",
            "array([[ -3.3415265, -10.10479  ],\n",
            "       [  1.508504 ,   8.449389 ]], dtype=float32)>\n",
            "w1 :\n",
            "<tf.Variable 'Variable:0' shape=(2, 1) dtype=float32, numpy=\n",
            "array([[0.9836678],\n",
            "       [6.9380383]], dtype=float32)>\n",
            "****************************************************************************************************\n",
            "****************************************************************************************************\n",
            "cost : 0.4796\n",
            "w0 :\n",
            "<tf.Variable 'Variable:0' shape=(2, 2) dtype=float32, numpy=\n",
            "array([[ -3.3626766, -10.351518 ],\n",
            "       [  1.485481 ,   8.68583  ]], dtype=float32)>\n",
            "w1 :\n",
            "<tf.Variable 'Variable:0' shape=(2, 1) dtype=float32, numpy=\n",
            "array([[0.8407915],\n",
            "       [7.1326547]], dtype=float32)>\n",
            "****************************************************************************************************\n",
            "****************************************************************************************************\n",
            "cost : 0.4792\n",
            "w0 :\n",
            "<tf.Variable 'Variable:0' shape=(2, 2) dtype=float32, numpy=\n",
            "array([[ -3.379182 , -10.574207 ],\n",
            "       [  1.4660851,   8.900139 ]], dtype=float32)>\n",
            "w1 :\n",
            "<tf.Variable 'Variable:0' shape=(2, 1) dtype=float32, numpy=\n",
            "array([[0.70090485],\n",
            "       [7.309789  ]], dtype=float32)>\n",
            "****************************************************************************************************\n",
            "****************************************************************************************************\n",
            "cost : 0.4789\n",
            "w0 :\n",
            "<tf.Variable 'Variable:0' shape=(2, 2) dtype=float32, numpy=\n",
            "array([[ -3.391989 , -10.77751  ],\n",
            "       [  1.4501013,   9.096496 ]], dtype=float32)>\n",
            "w1 :\n",
            "<tf.Variable 'Variable:0' shape=(2, 1) dtype=float32, numpy=\n",
            "array([[0.5621473],\n",
            "       [7.472612 ]], dtype=float32)>\n",
            "****************************************************************************************************\n",
            "****************************************************************************************************\n",
            "cost : 0.4787\n",
            "w0 :\n",
            "<tf.Variable 'Variable:0' shape=(2, 2) dtype=float32, numpy=\n",
            "array([[ -3.4016829, -10.964886 ],\n",
            "       [  1.437407 ,   9.278029 ]], dtype=float32)>\n",
            "w1 :\n",
            "<tf.Variable 'Variable:0' shape=(2, 1) dtype=float32, numpy=\n",
            "array([[0.42276877],\n",
            "       [7.6235304 ]], dtype=float32)>\n",
            "****************************************************************************************************\n",
            "****************************************************************************************************\n",
            "cost : 0.4785\n",
            "w0 :\n",
            "<tf.Variable 'Variable:0' shape=(2, 2) dtype=float32, numpy=\n",
            "array([[ -3.4085896, -11.138969 ],\n",
            "       [  1.428009 ,   9.447132 ]], dtype=float32)>\n",
            "w1 :\n",
            "<tf.Variable 'Variable:0' shape=(2, 1) dtype=float32, numpy=\n",
            "array([[0.2809809],\n",
            "       [7.7644176]], dtype=float32)>\n",
            "****************************************************************************************************\n",
            "****************************************************************************************************\n",
            "cost : 0.4783\n",
            "w0 :\n",
            "<tf.Variable 'Variable:0' shape=(2, 2) dtype=float32, numpy=\n",
            "array([[ -3.4128177, -11.30179  ],\n",
            "       [  1.4220809,   9.605666 ]], dtype=float32)>\n",
            "w1 :\n",
            "<tf.Variable 'Variable:0' shape=(2, 1) dtype=float32, numpy=\n",
            "array([[0.13479826],\n",
            "       [7.896749  ]], dtype=float32)>\n",
            "****************************************************************************************************\n",
            "****************************************************************************************************\n",
            "cost : 0.4782\n",
            "w0 :\n",
            "<tf.Variable 'Variable:0' shape=(2, 2) dtype=float32, numpy=\n",
            "array([[ -3.4142523, -11.454961 ],\n",
            "       [  1.4200261,   9.755134 ]], dtype=float32)>\n",
            "w1 :\n",
            "<tf.Variable 'Variable:0' shape=(2, 1) dtype=float32, numpy=\n",
            "array([[-0.01817429],\n",
            "       [ 8.02172   ]], dtype=float32)>\n",
            "****************************************************************************************************\n",
            "****************************************************************************************************\n",
            "cost : 0.4781\n",
            "w0 :\n",
            "<tf.Variable 'Variable:0' shape=(2, 2) dtype=float32, numpy=\n",
            "array([[ -3.4124887, -11.599767 ],\n",
            "       [  1.42261  ,   9.896747 ]], dtype=float32)>\n",
            "w1 :\n",
            "<tf.Variable 'Variable:0' shape=(2, 1) dtype=float32, numpy=\n",
            "array([[-0.18107088],\n",
            "       [ 8.140309  ]], dtype=float32)>\n",
            "****************************************************************************************************\n",
            "****************************************************************************************************\n",
            "cost : 0.4779\n",
            "w0 :\n",
            "<tf.Variable 'Variable:0' shape=(2, 2) dtype=float32, numpy=\n",
            "array([[ -3.4066548, -11.737312 ],\n",
            "       [  1.431218 ,  10.0315075]], dtype=float32)>\n",
            "w1 :\n",
            "<tf.Variable 'Variable:0' shape=(2, 1) dtype=float32, numpy=\n",
            "array([[-0.35834724],\n",
            "       [ 8.253342  ]], dtype=float32)>\n",
            "****************************************************************************************************\n",
            "****************************************************************************************************\n",
            "cost : 0.4778\n",
            "w0 :\n",
            "<tf.Variable 'Variable:0' shape=(2, 2) dtype=float32, numpy=\n",
            "array([[ -3.394983 , -11.868479 ],\n",
            "       [  1.4484562,  10.160297 ]], dtype=float32)>\n",
            "w1 :\n",
            "<tf.Variable 'Variable:0' shape=(2, 1) dtype=float32, numpy=\n",
            "array([[-0.55695605],\n",
            "       [ 8.361528  ]], dtype=float32)>\n",
            "****************************************************************************************************\n",
            "****************************************************************************************************\n",
            "cost : 0.4776\n",
            "w0 :\n",
            "<tf.Variable 'Variable:0' shape=(2, 2) dtype=float32, numpy=\n",
            "array([[ -3.373599 , -11.994035 ],\n",
            "       [  1.4797386,  10.283909 ]], dtype=float32)>\n",
            "w1 :\n",
            "<tf.Variable 'Variable:0' shape=(2, 1) dtype=float32, numpy=\n",
            "array([[-0.7891073],\n",
            "       [ 8.46554  ]], dtype=float32)>\n",
            "****************************************************************************************************\n",
            "****************************************************************************************************\n",
            "cost : 0.4774\n",
            "w0 :\n",
            "<tf.Variable 'Variable:0' shape=(2, 2) dtype=float32, numpy=\n",
            "array([[ -3.3323026, -12.114664 ],\n",
            "       [  1.5386657,  10.403218 ]], dtype=float32)>\n",
            "w1 :\n",
            "<tf.Variable 'Variable:0' shape=(2, 1) dtype=float32, numpy=\n",
            "array([[-1.0802395],\n",
            "       [ 8.566114 ]], dtype=float32)>\n",
            "****************************************************************************************************\n",
            "****************************************************************************************************\n",
            "cost : 0.4767\n",
            "w0 :\n",
            "<tf.Variable 'Variable:0' shape=(2, 2) dtype=float32, numpy=\n",
            "array([[ -3.2307456, -12.231056 ],\n",
            "       [  1.6757294,  10.519863 ]], dtype=float32)>\n",
            "w1 :\n",
            "<tf.Variable 'Variable:0' shape=(2, 1) dtype=float32, numpy=\n",
            "array([[-1.5027219],\n",
            "       [ 8.66462  ]], dtype=float32)>\n",
            "****************************************************************************************************\n",
            "****************************************************************************************************\n",
            "cost : 0.4456\n",
            "w0 :\n",
            "<tf.Variable 'Variable:0' shape=(2, 2) dtype=float32, numpy=\n",
            "array([[ -1.9512262, -12.344187 ],\n",
            "       [  3.0577607,  10.6551485]], dtype=float32)>\n",
            "w1 :\n",
            "<tf.Variable 'Variable:0' shape=(2, 1) dtype=float32, numpy=\n",
            "array([[-2.725753],\n",
            "       [ 8.776811]], dtype=float32)>\n",
            "****************************************************************************************************\n",
            "****************************************************************************************************\n",
            "cost : 0.0094\n",
            "w0 :\n",
            "<tf.Variable 'Variable:0' shape=(2, 2) dtype=float32, numpy=\n",
            "array([[ -7.2837634, -12.369964 ],\n",
            "       [  7.598862 ,  11.797078 ]], dtype=float32)>\n",
            "w1 :\n",
            "<tf.Variable 'Variable:0' shape=(2, 1) dtype=float32, numpy=\n",
            "array([[-9.525098],\n",
            "       [10.312773]], dtype=float32)>\n",
            "****************************************************************************************************\n",
            "****************************************************************************************************\n",
            "cost : 0.0051\n",
            "w0 :\n",
            "<tf.Variable 'Variable:0' shape=(2, 2) dtype=float32, numpy=\n",
            "array([[ -7.613363, -12.385346],\n",
            "       [  8.024998,  12.112945]], dtype=float32)>\n",
            "w1 :\n",
            "<tf.Variable 'Variable:0' shape=(2, 1) dtype=float32, numpy=\n",
            "array([[-10.758629],\n",
            "       [ 11.394821]], dtype=float32)>\n",
            "****************************************************************************************************\n",
            "****************************************************************************************************\n",
            "cost : 0.0034\n",
            "w0 :\n",
            "<tf.Variable 'Variable:0' shape=(2, 2) dtype=float32, numpy=\n",
            "array([[ -7.817243, -12.400196],\n",
            "       [  8.267991,  12.26768 ]], dtype=float32)>\n",
            "w1 :\n",
            "<tf.Variable 'Variable:0' shape=(2, 1) dtype=float32, numpy=\n",
            "array([[-11.524881],\n",
            "       [ 12.113352]], dtype=float32)>\n",
            "****************************************************************************************************\n",
            "****************************************************************************************************\n",
            "cost : 0.0026\n",
            "w0 :\n",
            "<tf.Variable 'Variable:0' shape=(2, 2) dtype=float32, numpy=\n",
            "array([[ -7.9666142, -12.414205 ],\n",
            "       [  8.440048 ,  12.368514 ]], dtype=float32)>\n",
            "w1 :\n",
            "<tf.Variable 'Variable:0' shape=(2, 1) dtype=float32, numpy=\n",
            "array([[-12.096563],\n",
            "       [ 12.661171]], dtype=float32)>\n",
            "****************************************************************************************************\n",
            "****************************************************************************************************\n",
            "cost : 0.0020\n",
            "w0 :\n",
            "<tf.Variable 'Variable:0' shape=(2, 2) dtype=float32, numpy=\n",
            "array([[ -8.085326, -12.427466],\n",
            "       [  8.573955,  12.442603]], dtype=float32)>\n",
            "w1 :\n",
            "<tf.Variable 'Variable:0' shape=(2, 1) dtype=float32, numpy=\n",
            "array([[-12.558727],\n",
            "       [ 13.1091  ]], dtype=float32)>\n",
            "****************************************************************************************************\n",
            "****************************************************************************************************\n",
            "cost : 0.0017\n",
            "w0 :\n",
            "<tf.Variable 'Variable:0' shape=(2, 2) dtype=float32, numpy=\n",
            "array([[ -8.184338, -12.440102],\n",
            "       [  8.68406 ,  12.50089 ]], dtype=float32)>\n",
            "w1 :\n",
            "<tf.Variable 'Variable:0' shape=(2, 1) dtype=float32, numpy=\n",
            "array([[-12.9502945],\n",
            "       [ 13.491288 ]], dtype=float32)>\n",
            "****************************************************************************************************\n",
            "****************************************************************************************************\n",
            "cost : 0.0014\n",
            "w0 :\n",
            "<tf.Variable 'Variable:0' shape=(2, 2) dtype=float32, numpy=\n",
            "array([[ -8.269623, -12.452212],\n",
            "       [  8.777925,  12.548811]], dtype=float32)>\n",
            "w1 :\n",
            "<tf.Variable 'Variable:0' shape=(2, 1) dtype=float32, numpy=\n",
            "array([[-13.2924795],\n",
            "       [ 13.826881 ]], dtype=float32)>\n",
            "****************************************************************************************************\n",
            "****************************************************************************************************\n",
            "cost : 0.0012\n",
            "w0 :\n",
            "<tf.Variable 'Variable:0' shape=(2, 2) dtype=float32, numpy=\n",
            "array([[ -8.344803, -12.463881],\n",
            "       [  8.86002 ,  12.589459]], dtype=float32)>\n",
            "w1 :\n",
            "<tf.Variable 'Variable:0' shape=(2, 1) dtype=float32, numpy=\n",
            "array([[-13.598168 ],\n",
            "       [ 14.1277275]], dtype=float32)>\n",
            "****************************************************************************************************\n",
            "****************************************************************************************************\n",
            "cost : 0.0010\n",
            "w0 :\n",
            "<tf.Variable 'Variable:0' shape=(2, 2) dtype=float32, numpy=\n",
            "array([[ -8.412245, -12.475178],\n",
            "       [  8.933197,  12.624744]], dtype=float32)>\n",
            "w1 :\n",
            "<tf.Variable 'Variable:0' shape=(2, 1) dtype=float32, numpy=\n",
            "array([[-13.875786],\n",
            "       [ 14.401662]], dtype=float32)>\n",
            "****************************************************************************************************\n",
            "****************************************************************************************************\n",
            "cost : 0.0009\n",
            "w0 :\n",
            "<tf.Variable 'Variable:0' shape=(2, 2) dtype=float32, numpy=\n",
            "array([[ -8.473571, -12.486157],\n",
            "       [  8.999397,  12.655915]], dtype=float32)>\n",
            "w1 :\n",
            "<tf.Variable 'Variable:0' shape=(2, 1) dtype=float32, numpy=\n",
            "array([[-14.131145],\n",
            "       [ 14.654153]], dtype=float32)>\n",
            "****************************************************************************************************\n",
            "****************************************************************************************************\n",
            "cost : 0.0008\n",
            "w0 :\n",
            "<tf.Variable 'Variable:0' shape=(2, 2) dtype=float32, numpy=\n",
            "array([[ -8.529945 , -12.496859 ],\n",
            "       [  9.059988 ,  12.6838455]], dtype=float32)>\n",
            "w1 :\n",
            "<tf.Variable 'Variable:0' shape=(2, 1) dtype=float32, numpy=\n",
            "array([[-14.36843],\n",
            "       [ 14.88917]], dtype=float32)>\n",
            "****************************************************************************************************\n",
            "****************************************************************************************************\n",
            "cost : 0.0007\n",
            "w0 :\n",
            "<tf.Variable 'Variable:0' shape=(2, 2) dtype=float32, numpy=\n",
            "array([[ -8.5822315, -12.507327 ],\n",
            "       [  9.115983 ,  12.709162 ]], dtype=float32)>\n",
            "w1 :\n",
            "<tf.Variable 'Variable:0' shape=(2, 1) dtype=float32, numpy=\n",
            "array([[-14.590772],\n",
            "       [ 15.109677]], dtype=float32)>\n",
            "****************************************************************************************************\n",
            "****************************************************************************************************\n",
            "cost : 0.0007\n",
            "w0 :\n",
            "<tf.Variable 'Variable:0' shape=(2, 2) dtype=float32, numpy=\n",
            "array([[ -8.63109  , -12.517585 ],\n",
            "       [  9.16814  ,  12.7323265]], dtype=float32)>\n",
            "w1 :\n",
            "<tf.Variable 'Variable:0' shape=(2, 1) dtype=float32, numpy=\n",
            "array([[-14.800545],\n",
            "       [ 15.317958]], dtype=float32)>\n",
            "****************************************************************************************************\n",
            "****************************************************************************************************\n",
            "cost : 0.0006\n",
            "w0 :\n",
            "<tf.Variable 'Variable:0' shape=(2, 2) dtype=float32, numpy=\n",
            "array([[ -8.67703  , -12.527656 ],\n",
            "       [  9.217048 ,  12.7536955]], dtype=float32)>\n",
            "w1 :\n",
            "<tf.Variable 'Variable:0' shape=(2, 1) dtype=float32, numpy=\n",
            "array([[-14.999617],\n",
            "       [ 15.515806]], dtype=float32)>\n",
            "****************************************************************************************************\n",
            "****************************************************************************************************\n",
            "cost : 0.0005\n",
            "w0 :\n",
            "<tf.Variable 'Variable:0' shape=(2, 2) dtype=float32, numpy=\n",
            "array([[ -8.720461 , -12.537569 ],\n",
            "       [  9.263172 ,  12.7735405]], dtype=float32)>\n",
            "w1 :\n",
            "<tf.Variable 'Variable:0' shape=(2, 1) dtype=float32, numpy=\n",
            "array([[-15.189474],\n",
            "       [ 15.704656]], dtype=float32)>\n",
            "****************************************************************************************************\n",
            "****************************************************************************************************\n",
            "cost : 0.0005\n",
            "w0 :\n",
            "<tf.Variable 'Variable:0' shape=(2, 2) dtype=float32, numpy=\n",
            "array([[ -8.76171 , -12.547342],\n",
            "       [  9.306887,  12.792084]], dtype=float32)>\n",
            "w1 :\n",
            "<tf.Variable 'Variable:0' shape=(2, 1) dtype=float32, numpy=\n",
            "array([[-15.371327],\n",
            "       [ 15.885665]], dtype=float32)>\n",
            "****************************************************************************************************\n",
            "****************************************************************************************************\n",
            "cost : 0.0004\n",
            "w0 :\n",
            "<tf.Variable 'Variable:0' shape=(2, 2) dtype=float32, numpy=\n",
            "array([[ -8.801046, -12.556995],\n",
            "       [  9.348494,  12.809494]], dtype=float32)>\n",
            "w1 :\n",
            "<tf.Variable 'Variable:0' shape=(2, 1) dtype=float32, numpy=\n",
            "array([[-15.5461645],\n",
            "       [ 16.0598   ]], dtype=float32)>\n",
            "****************************************************************************************************\n",
            "****************************************************************************************************\n",
            "cost : 0.0004\n",
            "w0 :\n",
            "<tf.Variable 'Variable:0' shape=(2, 2) dtype=float32, numpy=\n",
            "array([[ -8.838695, -12.566531],\n",
            "       [  9.388243,  12.825918]], dtype=float32)>\n",
            "w1 :\n",
            "<tf.Variable 'Variable:0' shape=(2, 1) dtype=float32, numpy=\n",
            "array([[-15.7148  ],\n",
            "       [ 16.227854]], dtype=float32)>\n",
            "****************************************************************************************************\n",
            "****************************************************************************************************\n",
            "cost : 0.0004\n",
            "w0 :\n",
            "<tf.Variable 'Variable:0' shape=(2, 2) dtype=float32, numpy=\n",
            "array([[ -8.874841, -12.57597 ],\n",
            "       [  9.426346,  12.841474]], dtype=float32)>\n",
            "w1 :\n",
            "<tf.Variable 'Variable:0' shape=(2, 1) dtype=float32, numpy=\n",
            "array([[-15.877933],\n",
            "       [ 16.390509]], dtype=float32)>\n",
            "****************************************************************************************************\n",
            "****************************************************************************************************\n",
            "cost : 0.0004\n",
            "w0 :\n",
            "<tf.Variable 'Variable:0' shape=(2, 2) dtype=float32, numpy=\n",
            "array([[ -8.909643, -12.585316],\n",
            "       [  9.462978,  12.85626 ]], dtype=float32)>\n",
            "w1 :\n",
            "<tf.Variable 'Variable:0' shape=(2, 1) dtype=float32, numpy=\n",
            "array([[-16.03616 ],\n",
            "       [ 16.548332]], dtype=float32)>\n",
            "****************************************************************************************************\n",
            "****************************************************************************************************\n",
            "cost : 0.0003\n",
            "w0 :\n",
            "<tf.Variable 'Variable:0' shape=(2, 2) dtype=float32, numpy=\n",
            "array([[ -8.943234, -12.594578],\n",
            "       [  9.498287,  12.870358]], dtype=float32)>\n",
            "w1 :\n",
            "<tf.Variable 'Variable:0' shape=(2, 1) dtype=float32, numpy=\n",
            "array([[-16.18997 ],\n",
            "       [ 16.701809]], dtype=float32)>\n",
            "****************************************************************************************************\n",
            "****************************************************************************************************\n",
            "cost : 0.0003\n",
            "w0 :\n",
            "<tf.Variable 'Variable:0' shape=(2, 2) dtype=float32, numpy=\n",
            "array([[ -8.975733, -12.603776],\n",
            "       [  9.532402,  12.883838]], dtype=float32)>\n",
            "w1 :\n",
            "<tf.Variable 'Variable:0' shape=(2, 1) dtype=float32, numpy=\n",
            "array([[-16.339794],\n",
            "       [ 16.851376]], dtype=float32)>\n",
            "****************************************************************************************************\n",
            "****************************************************************************************************\n",
            "cost : 0.0003\n",
            "w0 :\n",
            "<tf.Variable 'Variable:0' shape=(2, 2) dtype=float32, numpy=\n",
            "array([[ -9.007238, -12.612931],\n",
            "       [  9.565435,  12.896762]], dtype=float32)>\n",
            "w1 :\n",
            "<tf.Variable 'Variable:0' shape=(2, 1) dtype=float32, numpy=\n",
            "array([[-16.486029],\n",
            "       [ 16.997383]], dtype=float32)>\n",
            "****************************************************************************************************\n",
            "****************************************************************************************************\n",
            "cost : 0.0003\n",
            "w0 :\n",
            "<tf.Variable 'Variable:0' shape=(2, 2) dtype=float32, numpy=\n",
            "array([[ -9.037837 , -12.621992 ],\n",
            "       [  9.597483 ,  12.9091835]], dtype=float32)>\n",
            "w1 :\n",
            "<tf.Variable 'Variable:0' shape=(2, 1) dtype=float32, numpy=\n",
            "array([[-16.628984],\n",
            "       [ 17.140173]], dtype=float32)>\n",
            "****************************************************************************************************\n",
            "****************************************************************************************************\n",
            "cost : 0.0002\n",
            "w0 :\n",
            "<tf.Variable 'Variable:0' shape=(2, 2) dtype=float32, numpy=\n",
            "array([[ -9.067603 , -12.631047 ],\n",
            "       [  9.628631 ,  12.9211445]], dtype=float32)>\n",
            "w1 :\n",
            "<tf.Variable 'Variable:0' shape=(2, 1) dtype=float32, numpy=\n",
            "array([[-16.768972],\n",
            "       [ 17.280014]], dtype=float32)>\n",
            "****************************************************************************************************\n",
            "****************************************************************************************************\n",
            "cost : 0.0002\n",
            "w0 :\n",
            "<tf.Variable 'Variable:0' shape=(2, 2) dtype=float32, numpy=\n",
            "array([[ -9.09661 , -12.640012],\n",
            "       [  9.658953,  12.932691]], dtype=float32)>\n",
            "w1 :\n",
            "<tf.Variable 'Variable:0' shape=(2, 1) dtype=float32, numpy=\n",
            "array([[-16.906214],\n",
            "       [ 17.417183]], dtype=float32)>\n",
            "****************************************************************************************************\n"
          ],
          "name": "stdout"
        }
      ]
    },
    {
      "cell_type": "code",
      "metadata": {
        "id": "REq7trPnkku8",
        "colab_type": "code",
        "colab": {
          "base_uri": "https://localhost:8080/",
          "height": 35
        },
        "outputId": "966cc506-7c5d-476f-e120-4fe2abe8361f"
      },
      "source": [
        "hypothesis0 = tf.sigmoid(tf.matmul(X, w0) + b0)\n",
        "predict = tf.cast((tf.sigmoid(tf.matmul(hypothesis0, w1) + b1)) > 0.5, dtype = 'float32')\n",
        "accuracy = tf.reduce_mean(tf.cast(tf.equal(predict, y), dtype = 'float32'))\n",
        "print('정확도 :', accuracy.numpy())"
      ],
      "execution_count": 32,
      "outputs": [
        {
          "output_type": "stream",
          "text": [
            "정확도 : 1.0\n"
          ],
          "name": "stdout"
        }
      ]
    },
    {
      "cell_type": "code",
      "metadata": {
        "id": "mbOJggmbt0P4",
        "colab_type": "code",
        "colab": {
          "base_uri": "https://localhost:8080/",
          "height": 35
        },
        "outputId": "4a7ae021-a485-4cc0-83f7-3c90d81c50dd"
      },
      "source": [
        "arr = np.array([[0, 1]], dtype = 'float32')\n",
        "predict = tf.cast((tf.sigmoid(tf.matmul(tf.sigmoid(tf.matmul(arr, w0) + b0), w1) + b1)) > 0.5, dtype = tf.float32)\n",
        "predict.numpy()"
      ],
      "execution_count": 36,
      "outputs": [
        {
          "output_type": "execute_result",
          "data": {
            "text/plain": [
              "array([[1.]], dtype=float32)"
            ]
          },
          "metadata": {
            "tags": []
          },
          "execution_count": 36
        }
      ]
    },
    {
      "cell_type": "code",
      "metadata": {
        "id": "6AYV9k29vH7h",
        "colab_type": "code",
        "colab": {
          "base_uri": "https://localhost:8080/",
          "height": 35
        },
        "outputId": "05300e0e-d6b4-4660-e800-8753e6ec1e20"
      },
      "source": [
        "arr = np.array([[1, 1]], dtype = 'float32')\n",
        "predict = tf.cast((tf.sigmoid(tf.matmul(tf.sigmoid(tf.matmul(arr, w0) + b0), w1) + b1)) > 0.5, dtype = tf.float32)\n",
        "predict.numpy()"
      ],
      "execution_count": 37,
      "outputs": [
        {
          "output_type": "execute_result",
          "data": {
            "text/plain": [
              "array([[0.]], dtype=float32)"
            ]
          },
          "metadata": {
            "tags": []
          },
          "execution_count": 37
        }
      ]
    }
  ]
}