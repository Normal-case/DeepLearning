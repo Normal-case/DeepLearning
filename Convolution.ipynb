{
  "nbformat": 4,
  "nbformat_minor": 0,
  "metadata": {
    "colab": {
      "name": "Convolution.ipynb",
      "provenance": [],
      "authorship_tag": "ABX9TyO998aiNLwNyr9JAKWTwsKD",
      "include_colab_link": true
    },
    "kernelspec": {
      "name": "python3",
      "display_name": "Python 3"
    }
  },
  "cells": [
    {
      "cell_type": "markdown",
      "metadata": {
        "id": "view-in-github",
        "colab_type": "text"
      },
      "source": [
        "<a href=\"https://colab.research.google.com/github/Normal-case/DeepLearning/blob/master/Convolution.ipynb\" target=\"_parent\"><img src=\"https://colab.research.google.com/assets/colab-badge.svg\" alt=\"Open In Colab\"/></a>"
      ]
    },
    {
      "cell_type": "code",
      "metadata": {
        "id": "og9nDIA1w90W",
        "colab_type": "code",
        "colab": {}
      },
      "source": [
        "import numpy as np"
      ],
      "execution_count": 1,
      "outputs": []
    },
    {
      "cell_type": "code",
      "metadata": {
        "id": "UJ_x_gE3x8O3",
        "colab_type": "code",
        "colab": {}
      },
      "source": [
        "x = np.array([2, 8, 3, 7, 1, 2, 0, 4, 5])\n",
        "w = np.array([3, 5, 1, 2])"
      ],
      "execution_count": 2,
      "outputs": []
    },
    {
      "cell_type": "code",
      "metadata": {
        "id": "9fvRDG8NyF-t",
        "colab_type": "code",
        "colab": {
          "base_uri": "https://localhost:8080/",
          "height": 141
        },
        "outputId": "9f3865b6-e73f-4988-fcd8-bf9bc64502e1"
      },
      "source": [
        "print('all x:', x)\n",
        "\n",
        "for i in range(6):\n",
        "  print('x[{}:{}] = {}'.format(i, i+4, x[i:i+4]))"
      ],
      "execution_count": 3,
      "outputs": [
        {
          "output_type": "stream",
          "text": [
            "all x: [2 8 3 7 1 2 0 4 5]\n",
            "x[0:4] = [2 8 3 7]\n",
            "x[1:5] = [8 3 7 1]\n",
            "x[2:6] = [3 7 1 2]\n",
            "x[3:7] = [7 1 2 0]\n",
            "x[4:8] = [1 2 0 4]\n",
            "x[5:9] = [2 0 4 5]\n"
          ],
          "name": "stdout"
        }
      ]
    },
    {
      "cell_type": "code",
      "metadata": {
        "id": "y3_uy_9fyP1l",
        "colab_type": "code",
        "colab": {
          "base_uri": "https://localhost:8080/",
          "height": 123
        },
        "outputId": "b47fe4e4-5da3-4335-9069-85293282f6f8"
      },
      "source": [
        "for i in range(6):\n",
        "  print('x[{}:{}] * w = {}'.format(i, i+4, np.dot(x[i:i+4], w)))"
      ],
      "execution_count": 6,
      "outputs": [
        {
          "output_type": "stream",
          "text": [
            "x[0:4] * w = 63\n",
            "x[1:5] * w = 48\n",
            "x[2:6] * w = 49\n",
            "x[3:7] * w = 28\n",
            "x[4:8] * w = 21\n",
            "x[5:9] * w = 20\n"
          ],
          "name": "stdout"
        }
      ]
    },
    {
      "cell_type": "code",
      "metadata": {
        "id": "I3TytjkvyXK1",
        "colab_type": "code",
        "colab": {}
      },
      "source": [
        "from scipy.signal import correlate"
      ],
      "execution_count": 7,
      "outputs": []
    },
    {
      "cell_type": "code",
      "metadata": {
        "id": "rSjdoY5nyrqG",
        "colab_type": "code",
        "colab": {
          "base_uri": "https://localhost:8080/",
          "height": 34
        },
        "outputId": "373bfbd8-effa-4c85-a30b-43a1146d27ea"
      },
      "source": [
        "correlate(x, w, mode = 'valid')"
      ],
      "execution_count": 8,
      "outputs": [
        {
          "output_type": "execute_result",
          "data": {
            "text/plain": [
              "array([63, 48, 49, 28, 21, 20])"
            ]
          },
          "metadata": {
            "tags": []
          },
          "execution_count": 8
        }
      ]
    }
  ]
}