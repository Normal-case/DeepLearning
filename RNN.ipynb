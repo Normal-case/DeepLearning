{
  "nbformat": 4,
  "nbformat_minor": 0,
  "metadata": {
    "colab": {
      "name": "RNN.ipynb",
      "provenance": [],
      "authorship_tag": "ABX9TyMTxhb58hJ6YyV0liB6pJKO",
      "include_colab_link": true
    },
    "kernelspec": {
      "name": "python3",
      "display_name": "Python 3"
    }
  },
  "cells": [
    {
      "cell_type": "markdown",
      "metadata": {
        "id": "view-in-github",
        "colab_type": "text"
      },
      "source": [
        "<a href=\"https://colab.research.google.com/github/Normal-case/DeepLearning/blob/master/RNN.ipynb\" target=\"_parent\"><img src=\"https://colab.research.google.com/assets/colab-badge.svg\" alt=\"Open In Colab\"/></a>"
      ]
    },
    {
      "cell_type": "code",
      "metadata": {
        "id": "zRFwjXjwi2-K",
        "colab_type": "code",
        "colab": {
          "base_uri": "https://localhost:8080/",
          "height": 34
        },
        "outputId": "4369256b-f14f-465a-93e0-dfd107afb731"
      },
      "source": [
        "%tensorflow_version 1.x"
      ],
      "execution_count": 2,
      "outputs": [
        {
          "output_type": "stream",
          "text": [
            "TensorFlow 1.x selected.\n"
          ],
          "name": "stdout"
        }
      ]
    },
    {
      "cell_type": "code",
      "metadata": {
        "id": "osx5Ugrhi5uf",
        "colab_type": "code",
        "colab": {}
      },
      "source": [
        "import numpy as np"
      ],
      "execution_count": 3,
      "outputs": []
    },
    {
      "cell_type": "markdown",
      "metadata": {
        "id": "K01zGVdFokSJ",
        "colab_type": "text"
      },
      "source": [
        "# RNN simple one cell"
      ]
    },
    {
      "cell_type": "code",
      "metadata": {
        "id": "3xUiaQXWi6yN",
        "colab_type": "code",
        "colab": {}
      },
      "source": [
        "# hello의 one hot 인코딩\n",
        "h = [1, 0, 0, 0]\n",
        "e = [0, 1, 0, 0]\n",
        "l = [0, 0, 1, 0]\n",
        "o = [0, 0, 0, 1]"
      ],
      "execution_count": 4,
      "outputs": []
    },
    {
      "cell_type": "code",
      "metadata": {
        "id": "nBRs59cxjEuN",
        "colab_type": "code",
        "colab": {
          "base_uri": "https://localhost:8080/",
          "height": 34
        },
        "outputId": "d08de23d-f617-4d14-d107-dc5ac18461c8"
      },
      "source": [
        "X = np.array([h], dtype = np.float32)\n",
        "X"
      ],
      "execution_count": 5,
      "outputs": [
        {
          "output_type": "execute_result",
          "data": {
            "text/plain": [
              "array([[1., 0., 0., 0.]], dtype=float32)"
            ]
          },
          "metadata": {
            "tags": []
          },
          "execution_count": 5
        }
      ]
    },
    {
      "cell_type": "code",
      "metadata": {
        "id": "8LPlcPOzjJs1",
        "colab_type": "code",
        "colab": {
          "base_uri": "https://localhost:8080/",
          "height": 87
        },
        "outputId": "b9804541-a30d-419e-cbe9-a98a4c79d670"
      },
      "source": [
        "Wxh = np.array([[1], [2], [3], [4]], dtype = 'float32')\n",
        "Wxh"
      ],
      "execution_count": 6,
      "outputs": [
        {
          "output_type": "execute_result",
          "data": {
            "text/plain": [
              "array([[1.],\n",
              "       [2.],\n",
              "       [3.],\n",
              "       [4.]], dtype=float32)"
            ]
          },
          "metadata": {
            "tags": []
          },
          "execution_count": 6
        }
      ]
    },
    {
      "cell_type": "code",
      "metadata": {
        "id": "tFmPenQ3jS2F",
        "colab_type": "code",
        "colab": {
          "base_uri": "https://localhost:8080/",
          "height": 34
        },
        "outputId": "8c139363-8198-4366-b5a2-c523a75bf66d"
      },
      "source": [
        "b = np.array([5], dtype = 'float32')\n",
        "b"
      ],
      "execution_count": 7,
      "outputs": [
        {
          "output_type": "execute_result",
          "data": {
            "text/plain": [
              "array([5.], dtype=float32)"
            ]
          },
          "metadata": {
            "tags": []
          },
          "execution_count": 7
        }
      ]
    },
    {
      "cell_type": "code",
      "metadata": {
        "id": "InVVDiTrjVqV",
        "colab_type": "code",
        "colab": {
          "base_uri": "https://localhost:8080/",
          "height": 34
        },
        "outputId": "c8999266-56e2-4375-83c9-3d2a763f915b"
      },
      "source": [
        "h0 = np.dot(X, Wxh) + b\n",
        "h0"
      ],
      "execution_count": 8,
      "outputs": [
        {
          "output_type": "execute_result",
          "data": {
            "text/plain": [
              "array([[6.]], dtype=float32)"
            ]
          },
          "metadata": {
            "tags": []
          },
          "execution_count": 8
        }
      ]
    },
    {
      "cell_type": "code",
      "metadata": {
        "id": "QrVfmwzZjZpt",
        "colab_type": "code",
        "colab": {
          "base_uri": "https://localhost:8080/",
          "height": 34
        },
        "outputId": "208d56d1-7dcd-4476-c7d1-a00ac56661b0"
      },
      "source": [
        "h0 = np.tanh(h0)\n",
        "h0"
      ],
      "execution_count": 9,
      "outputs": [
        {
          "output_type": "execute_result",
          "data": {
            "text/plain": [
              "array([[0.9999877]], dtype=float32)"
            ]
          },
          "metadata": {
            "tags": []
          },
          "execution_count": 9
        }
      ]
    },
    {
      "cell_type": "markdown",
      "metadata": {
        "id": "cA1e6Sv8oouW",
        "colab_type": "text"
      },
      "source": [
        "# RNN simple two cell"
      ]
    },
    {
      "cell_type": "code",
      "metadata": {
        "id": "5MBO8zBInyAG",
        "colab_type": "code",
        "colab": {}
      },
      "source": [
        "X = np.array([h, e], dtype = np.float32)\n",
        "Wxh = np.array([[1], [2], [3], [4]], dtype = 'float32')\n",
        "b = np.array([5], dtype = 'float32')\n",
        "whh = np.array([.1], dtype = 'float32')"
      ],
      "execution_count": 10,
      "outputs": []
    },
    {
      "cell_type": "code",
      "metadata": {
        "id": "rKmTsN_PoJ_b",
        "colab_type": "code",
        "colab": {
          "base_uri": "https://localhost:8080/",
          "height": 34
        },
        "outputId": "18c4bfd4-3176-4055-b29d-f43ce2c395af"
      },
      "source": [
        "h0 = np.dot(X[0], Wxh) + b\n",
        "h0 = np.tanh(h0)\n",
        "h0"
      ],
      "execution_count": 12,
      "outputs": [
        {
          "output_type": "execute_result",
          "data": {
            "text/plain": [
              "array([0.9999877], dtype=float32)"
            ]
          },
          "metadata": {
            "tags": []
          },
          "execution_count": 12
        }
      ]
    },
    {
      "cell_type": "code",
      "metadata": {
        "id": "oE6H2GinoTfA",
        "colab_type": "code",
        "colab": {
          "base_uri": "https://localhost:8080/",
          "height": 34
        },
        "outputId": "cc861112-2630-4d22-a4f2-bd5c1fb6c8e0"
      },
      "source": [
        "h1 = np.dot(X[1], Wxh) + b\n",
        "h1 = h1 + np.dot(h0, whh)\n",
        "h1 = np.tanh(h1)\n",
        "h1"
      ],
      "execution_count": 14,
      "outputs": [
        {
          "output_type": "execute_result",
          "data": {
            "text/plain": [
              "array([0.9999986], dtype=float32)"
            ]
          },
          "metadata": {
            "tags": []
          },
          "execution_count": 14
        }
      ]
    }
  ]
}